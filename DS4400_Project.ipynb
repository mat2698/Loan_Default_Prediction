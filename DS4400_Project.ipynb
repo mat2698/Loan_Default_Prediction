{
 "cells": [
  {
   "cell_type": "markdown",
   "metadata": {},
   "source": [
    "# Background"
   ]
  },
  {
   "cell_type": "markdown",
   "metadata": {},
   "source": [
    "This project is trying to determine if a loan will be defaulted. This means that the issuer of the loan loses money when the borrower fails to pay. This is a problem because lenders risk losing money by giving money to borrowers without knowing if they will be paid back. This project will be used to determine if it could be determined before hand if a borrower will pay back a loan in full.  "
   ]
  },
  {
   "cell_type": "code",
   "execution_count": 3,
   "metadata": {},
   "outputs": [],
   "source": [
    "# Imports.\n",
    "import numpy as np\n",
    "import sklearn as sk\n",
    "import pandas as pd\n",
    "import os\n",
    "import matplotlib.pyplot as plt\n",
    "import copy\n",
    "from sklearn.preprocessing import LabelEncoder\n",
    "import time"
   ]
  },
  {
   "cell_type": "code",
   "execution_count": 5,
   "metadata": {},
   "outputs": [],
   "source": [
    "import warnings\n",
    "warnings.filterwarnings('ignore')"
   ]
  },
  {
   "cell_type": "code",
   "execution_count": 6,
   "metadata": {},
   "outputs": [],
   "source": [
    "# Set working directory.\n",
    "os.chdir('/Users/mattmartin/Desktop/DS 4400/Project')"
   ]
  },
  {
   "cell_type": "markdown",
   "metadata": {},
   "source": [
    "# Dataset"
   ]
  },
  {
   "cell_type": "markdown",
   "metadata": {},
   "source": [
    "The dataset comes from LendingClub. LendingClub brings investors and borrowers together to facilitate loans. Data was collected from loans given out from 2007 to 2018.  "
   ]
  },
  {
   "cell_type": "code",
   "execution_count": 117,
   "metadata": {},
   "outputs": [],
   "source": [
    "# Read in the csv data file and convert it to a pandas dataframe for use. \n",
    "data = pd.read_csv('loan.csv')"
   ]
  },
  {
   "cell_type": "code",
   "execution_count": 118,
   "metadata": {},
   "outputs": [
    {
     "data": {
      "text/plain": [
       "2260668"
      ]
     },
     "execution_count": 118,
     "metadata": {},
     "output_type": "execute_result"
    }
   ],
   "source": [
    "len(data)"
   ]
  },
  {
   "cell_type": "code",
   "execution_count": 8,
   "metadata": {},
   "outputs": [],
   "source": [
    "# Get rid of loan_status other than fully paid or charged off.\n",
    "array = ['Fully Paid', 'Charged Off']\n",
    "data = data.loc[data['loan_status'].isin(array)]"
   ]
  },
  {
   "cell_type": "code",
   "execution_count": 9,
   "metadata": {},
   "outputs": [
    {
     "data": {
      "image/png": "[encoded data removed]",
      "text/plain": [
       "<Figure size 432x288 with 1 Axes>"
      ]
     },
     "metadata": {
      "needs_background": "light"
     },
     "output_type": "display_data"
    }
   ],
   "source": [
    "data['loan_status'].value_counts().plot(kind='bar', title='Count (target)');"
   ]
  },
  {
   "cell_type": "code",
   "execution_count": 10,
   "metadata": {},
   "outputs": [
    {
     "data": {
      "text/plain": [
       "Fully Paid     1041952\n",
       "Charged Off     261655\n",
       "Name: loan_status, dtype: int64"
      ]
     },
     "execution_count": 10,
     "metadata": {},
     "output_type": "execute_result"
    }
   ],
   "source": [
    "# See distribution of labels.\n",
    "data['loan_status'].value_counts()"
   ]
  },
  {
   "cell_type": "code",
   "execution_count": 11,
   "metadata": {},
   "outputs": [
    {
     "data": {
      "text/plain": [
       "145"
      ]
     },
     "execution_count": 11,
     "metadata": {},
     "output_type": "execute_result"
    }
   ],
   "source": [
    "# Number of features in dataset.\n",
    "len(data.columns)"
   ]
  },
  {
   "cell_type": "code",
   "execution_count": 12,
   "metadata": {},
   "outputs": [
    {
     "data": {
      "text/plain": [
       "1303607"
      ]
     },
     "execution_count": 12,
     "metadata": {},
     "output_type": "execute_result"
    }
   ],
   "source": [
    "# Number of points in dataset.\n",
    "len(data)"
   ]
  },
  {
   "cell_type": "markdown",
   "metadata": {},
   "source": [
    "# Data Preprocessing and Exploration"
   ]
  },
  {
   "cell_type": "markdown",
   "metadata": {},
   "source": [
    "Before working with the data, categorical variables need to converted to numerical representations in order to be processed in the models. In order to do this certain numerical features, such as int_rate and term, needed to be formatted and converted to int type. Dummy encoding was used to convert categorical features such as purpose and grade. Missing values for each feature were then replaced with the mode of each respective feature. "
   ]
  },
  {
   "cell_type": "code",
   "execution_count": 13,
   "metadata": {},
   "outputs": [
    {
     "data": {
      "text/plain": [
       "id                                            1.000000e+00\n",
       "member_id                                     1.000000e+00\n",
       "loan_amnt                                     0.000000e+00\n",
       "funded_amnt                                   0.000000e+00\n",
       "funded_amnt_inv                               0.000000e+00\n",
       "term                                          0.000000e+00\n",
       "int_rate                                      0.000000e+00\n",
       "installment                                   0.000000e+00\n",
       "grade                                         0.000000e+00\n",
       "sub_grade                                     0.000000e+00\n",
       "emp_title                                     6.334655e-02\n",
       "emp_length                                    5.788094e-02\n",
       "home_ownership                                0.000000e+00\n",
       "annual_inc                                    0.000000e+00\n",
       "verification_status                           0.000000e+00\n",
       "issue_d                                       0.000000e+00\n",
       "loan_status                                   0.000000e+00\n",
       "pymnt_plan                                    0.000000e+00\n",
       "url                                           1.000000e+00\n",
       "desc                                          9.053956e-01\n",
       "purpose                                       0.000000e+00\n",
       "title                                         1.183332e-02\n",
       "zip_code                                      7.671024e-07\n",
       "addr_state                                    0.000000e+00\n",
       "dti                                           2.393359e-04\n",
       "delinq_2yrs                                   0.000000e+00\n",
       "earliest_cr_line                              0.000000e+00\n",
       "inq_last_6mths                                7.671024e-07\n",
       "mths_since_last_delinq                        5.046183e-01\n",
       "mths_since_last_record                        8.298828e-01\n",
       "                                                  ...     \n",
       "sec_app_open_acc                              9.873344e-01\n",
       "sec_app_revol_util                            9.875591e-01\n",
       "sec_app_open_act_il                           9.873344e-01\n",
       "sec_app_num_rev_accts                         9.873344e-01\n",
       "sec_app_chargeoff_within_12_mths              9.873344e-01\n",
       "sec_app_collections_12_mths_ex_med            9.873344e-01\n",
       "sec_app_mths_since_last_major_derog           9.954495e-01\n",
       "hardship_flag                                 0.000000e+00\n",
       "hardship_type                                 9.959075e-01\n",
       "hardship_reason                               9.959075e-01\n",
       "hardship_status                               9.959075e-01\n",
       "deferral_term                                 9.959075e-01\n",
       "hardship_amount                               9.959075e-01\n",
       "hardship_start_date                           9.959075e-01\n",
       "hardship_end_date                             9.959075e-01\n",
       "payment_plan_start_date                       9.959075e-01\n",
       "hardship_length                               9.959075e-01\n",
       "hardship_dpd                                  9.959075e-01\n",
       "hardship_loan_status                          9.959075e-01\n",
       "orig_projected_additional_accrued_interest    9.973665e-01\n",
       "hardship_payoff_balance_amount                9.959075e-01\n",
       "hardship_last_payment_amount                  9.959075e-01\n",
       "disbursement_method                           0.000000e+00\n",
       "debt_settlement_flag                          0.000000e+00\n",
       "debt_settlement_flag_date                     9.754612e-01\n",
       "settlement_status                             9.754612e-01\n",
       "settlement_date                               9.754612e-01\n",
       "settlement_amount                             9.754612e-01\n",
       "settlement_percentage                         9.754612e-01\n",
       "settlement_term                               9.754612e-01\n",
       "Length: 145, dtype: float64"
      ]
     },
     "execution_count": 13,
     "metadata": {},
     "output_type": "execute_result"
    }
   ],
   "source": [
    "# See what features have high amounts of missing data.\n",
    "data.isna().mean(axis = 0)"
   ]
  },
  {
   "cell_type": "markdown",
   "metadata": {},
   "source": [
    "Based upon the results of the many of the factors have missing data for almost all data points. Features with more than 70% of the data points missing will not be included in further analysis.  "
   ]
  },
  {
   "cell_type": "code",
   "execution_count": 14,
   "metadata": {},
   "outputs": [],
   "source": [
    "# Subset data to include features with less than 30% of data points missing. \n",
    "data = data.loc[:, data.isnull().mean() < .30]"
   ]
  },
  {
   "cell_type": "code",
   "execution_count": 15,
   "metadata": {},
   "outputs": [
    {
     "data": {
      "text/plain": [
       "87"
      ]
     },
     "execution_count": 15,
     "metadata": {},
     "output_type": "execute_result"
    }
   ],
   "source": [
    "# Amount of features after setting missing data threshold.\n",
    "len(data.columns)"
   ]
  },
  {
   "cell_type": "code",
   "execution_count": 16,
   "metadata": {},
   "outputs": [
    {
     "data": {
      "text/plain": [
       "Index(['loan_amnt', 'funded_amnt', 'funded_amnt_inv', 'term', 'int_rate',\n",
       "       'installment', 'grade', 'sub_grade', 'emp_title', 'emp_length',\n",
       "       'home_ownership', 'annual_inc', 'verification_status', 'issue_d',\n",
       "       'loan_status', 'pymnt_plan', 'purpose', 'title', 'zip_code',\n",
       "       'addr_state', 'dti', 'delinq_2yrs', 'earliest_cr_line',\n",
       "       'inq_last_6mths', 'open_acc', 'pub_rec', 'revol_bal', 'revol_util',\n",
       "       'total_acc', 'initial_list_status', 'out_prncp', 'out_prncp_inv',\n",
       "       'total_pymnt', 'total_pymnt_inv', 'total_rec_prncp', 'total_rec_int',\n",
       "       'total_rec_late_fee', 'recoveries', 'collection_recovery_fee',\n",
       "       'last_pymnt_d', 'last_pymnt_amnt', 'last_credit_pull_d',\n",
       "       'collections_12_mths_ex_med', 'policy_code', 'application_type',\n",
       "       'acc_now_delinq', 'tot_coll_amt', 'tot_cur_bal', 'total_rev_hi_lim',\n",
       "       'acc_open_past_24mths', 'avg_cur_bal', 'bc_open_to_buy', 'bc_util',\n",
       "       'chargeoff_within_12_mths', 'delinq_amnt', 'mo_sin_old_il_acct',\n",
       "       'mo_sin_old_rev_tl_op', 'mo_sin_rcnt_rev_tl_op', 'mo_sin_rcnt_tl',\n",
       "       'mort_acc', 'mths_since_recent_bc', 'mths_since_recent_inq',\n",
       "       'num_accts_ever_120_pd', 'num_actv_bc_tl', 'num_actv_rev_tl',\n",
       "       'num_bc_sats', 'num_bc_tl', 'num_il_tl', 'num_op_rev_tl',\n",
       "       'num_rev_accts', 'num_rev_tl_bal_gt_0', 'num_sats', 'num_tl_120dpd_2m',\n",
       "       'num_tl_30dpd', 'num_tl_90g_dpd_24m', 'num_tl_op_past_12m',\n",
       "       'pct_tl_nvr_dlq', 'percent_bc_gt_75', 'pub_rec_bankruptcies',\n",
       "       'tax_liens', 'tot_hi_cred_lim', 'total_bal_ex_mort', 'total_bc_limit',\n",
       "       'total_il_high_credit_limit', 'hardship_flag', 'disbursement_method',\n",
       "       'debt_settlement_flag'],\n",
       "      dtype='object')"
      ]
     },
     "execution_count": 16,
     "metadata": {},
     "output_type": "execute_result"
    }
   ],
   "source": [
    "# Features that meet missing data threshold.\n",
    "data.columns"
   ]
  },
  {
   "cell_type": "code",
   "execution_count": 427,
   "metadata": {},
   "outputs": [],
   "source": [
    "data_desc = pd.read_excel(\"/Users/mattmartin/Desktop/DS 4400/Project/LCDataDictionary.xlsx\", sheet='LoanStats')"
   ]
  },
  {
   "cell_type": "code",
   "execution_count": 407,
   "metadata": {},
   "outputs": [
    {
     "data": {
      "text/html": [
       "<div>\n",
       "<style scoped>\n",
       "    .dataframe tbody tr th:only-of-type {\n",
       "        vertical-align: middle;\n",
       "    }\n",
       "\n",
       "    .dataframe tbody tr th {\n",
       "        vertical-align: top;\n",
       "    }\n",
       "\n",
       "    .dataframe thead th {\n",
       "        text-align: right;\n",
       "    }\n",
       "</style>\n",
       "<table border=\"1\" class=\"dataframe\">\n",
       "  <thead>\n",
       "    <tr style=\"text-align: right;\">\n",
       "      <th></th>\n",
       "      <th>LoanStatNew</th>\n",
       "      <th>Description</th>\n",
       "    </tr>\n",
       "  </thead>\n",
       "  <tbody>\n",
       "    <tr>\n",
       "      <th>0</th>\n",
       "      <td>acc_now_delinq</td>\n",
       "      <td>The number of accounts on which the borrower i...</td>\n",
       "    </tr>\n",
       "    <tr>\n",
       "      <th>1</th>\n",
       "      <td>acc_open_past_24mths</td>\n",
       "      <td>Number of trades opened in past 24 months.</td>\n",
       "    </tr>\n",
       "    <tr>\n",
       "      <th>2</th>\n",
       "      <td>addr_state</td>\n",
       "      <td>The state provided by the borrower in the loan...</td>\n",
       "    </tr>\n",
       "    <tr>\n",
       "      <th>3</th>\n",
       "      <td>all_util</td>\n",
       "      <td>Balance to credit limit on all trades</td>\n",
       "    </tr>\n",
       "    <tr>\n",
       "      <th>4</th>\n",
       "      <td>annual_inc</td>\n",
       "      <td>The self-reported annual income provided by th...</td>\n",
       "    </tr>\n",
       "    <tr>\n",
       "      <th>5</th>\n",
       "      <td>annual_inc_joint</td>\n",
       "      <td>The combined self-reported annual income provi...</td>\n",
       "    </tr>\n",
       "    <tr>\n",
       "      <th>6</th>\n",
       "      <td>application_type</td>\n",
       "      <td>Indicates whether the loan is an individual ap...</td>\n",
       "    </tr>\n",
       "    <tr>\n",
       "      <th>7</th>\n",
       "      <td>avg_cur_bal</td>\n",
       "      <td>Average current balance of all accounts</td>\n",
       "    </tr>\n",
       "    <tr>\n",
       "      <th>8</th>\n",
       "      <td>bc_open_to_buy</td>\n",
       "      <td>Total open to buy on revolving bankcards.</td>\n",
       "    </tr>\n",
       "    <tr>\n",
       "      <th>9</th>\n",
       "      <td>bc_util</td>\n",
       "      <td>Ratio of total current balance to high credit/...</td>\n",
       "    </tr>\n",
       "    <tr>\n",
       "      <th>10</th>\n",
       "      <td>chargeoff_within_12_mths</td>\n",
       "      <td>Number of charge-offs within 12 months</td>\n",
       "    </tr>\n",
       "    <tr>\n",
       "      <th>11</th>\n",
       "      <td>collection_recovery_fee</td>\n",
       "      <td>post charge off collection fee</td>\n",
       "    </tr>\n",
       "    <tr>\n",
       "      <th>12</th>\n",
       "      <td>collections_12_mths_ex_med</td>\n",
       "      <td>Number of collections in 12 months excluding m...</td>\n",
       "    </tr>\n",
       "    <tr>\n",
       "      <th>13</th>\n",
       "      <td>delinq_2yrs</td>\n",
       "      <td>The number of 30+ days past-due incidences of ...</td>\n",
       "    </tr>\n",
       "    <tr>\n",
       "      <th>14</th>\n",
       "      <td>delinq_amnt</td>\n",
       "      <td>The past-due amount owed for the accounts on w...</td>\n",
       "    </tr>\n",
       "    <tr>\n",
       "      <th>15</th>\n",
       "      <td>desc</td>\n",
       "      <td>Loan description provided by the borrower</td>\n",
       "    </tr>\n",
       "    <tr>\n",
       "      <th>16</th>\n",
       "      <td>dti</td>\n",
       "      <td>A ratio calculated using the borrower’s total ...</td>\n",
       "    </tr>\n",
       "    <tr>\n",
       "      <th>17</th>\n",
       "      <td>dti_joint</td>\n",
       "      <td>A ratio calculated using the co-borrowers' tot...</td>\n",
       "    </tr>\n",
       "    <tr>\n",
       "      <th>18</th>\n",
       "      <td>earliest_cr_line</td>\n",
       "      <td>The month the borrower's earliest reported cre...</td>\n",
       "    </tr>\n",
       "    <tr>\n",
       "      <th>19</th>\n",
       "      <td>emp_length</td>\n",
       "      <td>Employment length in years. Possible values ar...</td>\n",
       "    </tr>\n",
       "    <tr>\n",
       "      <th>20</th>\n",
       "      <td>emp_title</td>\n",
       "      <td>The job title supplied by the Borrower when ap...</td>\n",
       "    </tr>\n",
       "    <tr>\n",
       "      <th>21</th>\n",
       "      <td>fico_range_high</td>\n",
       "      <td>The upper boundary range the borrower’s FICO a...</td>\n",
       "    </tr>\n",
       "    <tr>\n",
       "      <th>22</th>\n",
       "      <td>fico_range_low</td>\n",
       "      <td>The lower boundary range the borrower’s FICO a...</td>\n",
       "    </tr>\n",
       "    <tr>\n",
       "      <th>23</th>\n",
       "      <td>funded_amnt</td>\n",
       "      <td>The total amount committed to that loan at tha...</td>\n",
       "    </tr>\n",
       "    <tr>\n",
       "      <th>24</th>\n",
       "      <td>funded_amnt_inv</td>\n",
       "      <td>The total amount committed by investors for th...</td>\n",
       "    </tr>\n",
       "    <tr>\n",
       "      <th>25</th>\n",
       "      <td>grade</td>\n",
       "      <td>LC assigned loan grade</td>\n",
       "    </tr>\n",
       "    <tr>\n",
       "      <th>26</th>\n",
       "      <td>home_ownership</td>\n",
       "      <td>The home ownership status provided by the borr...</td>\n",
       "    </tr>\n",
       "    <tr>\n",
       "      <th>27</th>\n",
       "      <td>id</td>\n",
       "      <td>A unique LC assigned ID for the loan listing.</td>\n",
       "    </tr>\n",
       "    <tr>\n",
       "      <th>28</th>\n",
       "      <td>il_util</td>\n",
       "      <td>Ratio of total current balance to high credit/...</td>\n",
       "    </tr>\n",
       "    <tr>\n",
       "      <th>29</th>\n",
       "      <td>initial_list_status</td>\n",
       "      <td>The initial listing status of the loan. Possib...</td>\n",
       "    </tr>\n",
       "    <tr>\n",
       "      <th>30</th>\n",
       "      <td>inq_fi</td>\n",
       "      <td>Number of personal finance inquiries</td>\n",
       "    </tr>\n",
       "    <tr>\n",
       "      <th>31</th>\n",
       "      <td>inq_last_12m</td>\n",
       "      <td>Number of credit inquiries in past 12 months</td>\n",
       "    </tr>\n",
       "    <tr>\n",
       "      <th>32</th>\n",
       "      <td>inq_last_6mths</td>\n",
       "      <td>The number of inquiries in past 6 months (excl...</td>\n",
       "    </tr>\n",
       "    <tr>\n",
       "      <th>33</th>\n",
       "      <td>installment</td>\n",
       "      <td>The monthly payment owed by the borrower if th...</td>\n",
       "    </tr>\n",
       "    <tr>\n",
       "      <th>34</th>\n",
       "      <td>int_rate</td>\n",
       "      <td>Interest Rate on the loan</td>\n",
       "    </tr>\n",
       "    <tr>\n",
       "      <th>35</th>\n",
       "      <td>issue_d</td>\n",
       "      <td>The month which the loan was funded</td>\n",
       "    </tr>\n",
       "    <tr>\n",
       "      <th>36</th>\n",
       "      <td>last_credit_pull_d</td>\n",
       "      <td>The most recent month LC pulled credit for thi...</td>\n",
       "    </tr>\n",
       "    <tr>\n",
       "      <th>37</th>\n",
       "      <td>last_fico_range_high</td>\n",
       "      <td>The upper boundary range the borrower’s last F...</td>\n",
       "    </tr>\n",
       "    <tr>\n",
       "      <th>38</th>\n",
       "      <td>last_fico_range_low</td>\n",
       "      <td>The lower boundary range the borrower’s last F...</td>\n",
       "    </tr>\n",
       "    <tr>\n",
       "      <th>39</th>\n",
       "      <td>last_pymnt_amnt</td>\n",
       "      <td>Last total payment amount received</td>\n",
       "    </tr>\n",
       "  </tbody>\n",
       "</table>\n",
       "</div>"
      ],
      "text/plain": [
       "                   LoanStatNew  \\\n",
       "0               acc_now_delinq   \n",
       "1         acc_open_past_24mths   \n",
       "2                   addr_state   \n",
       "3                     all_util   \n",
       "4                   annual_inc   \n",
       "5             annual_inc_joint   \n",
       "6             application_type   \n",
       "7                  avg_cur_bal   \n",
       "8               bc_open_to_buy   \n",
       "9                      bc_util   \n",
       "10    chargeoff_within_12_mths   \n",
       "11     collection_recovery_fee   \n",
       "12  collections_12_mths_ex_med   \n",
       "13                 delinq_2yrs   \n",
       "14                 delinq_amnt   \n",
       "15                        desc   \n",
       "16                         dti   \n",
       "17                   dti_joint   \n",
       "18            earliest_cr_line   \n",
       "19                  emp_length   \n",
       "20                   emp_title   \n",
       "21             fico_range_high   \n",
       "22              fico_range_low   \n",
       "23                 funded_amnt   \n",
       "24             funded_amnt_inv   \n",
       "25                       grade   \n",
       "26              home_ownership   \n",
       "27                          id   \n",
       "28                     il_util   \n",
       "29         initial_list_status   \n",
       "30                      inq_fi   \n",
       "31                inq_last_12m   \n",
       "32              inq_last_6mths   \n",
       "33                 installment   \n",
       "34                    int_rate   \n",
       "35                     issue_d   \n",
       "36          last_credit_pull_d   \n",
       "37        last_fico_range_high   \n",
       "38         last_fico_range_low   \n",
       "39             last_pymnt_amnt   \n",
       "\n",
       "                                          Description  \n",
       "0   The number of accounts on which the borrower i...  \n",
       "1          Number of trades opened in past 24 months.  \n",
       "2   The state provided by the borrower in the loan...  \n",
       "3               Balance to credit limit on all trades  \n",
       "4   The self-reported annual income provided by th...  \n",
       "5   The combined self-reported annual income provi...  \n",
       "6   Indicates whether the loan is an individual ap...  \n",
       "7             Average current balance of all accounts  \n",
       "8           Total open to buy on revolving bankcards.  \n",
       "9   Ratio of total current balance to high credit/...  \n",
       "10             Number of charge-offs within 12 months  \n",
       "11                     post charge off collection fee  \n",
       "12  Number of collections in 12 months excluding m...  \n",
       "13  The number of 30+ days past-due incidences of ...  \n",
       "14  The past-due amount owed for the accounts on w...  \n",
       "15          Loan description provided by the borrower  \n",
       "16  A ratio calculated using the borrower’s total ...  \n",
       "17  A ratio calculated using the co-borrowers' tot...  \n",
       "18  The month the borrower's earliest reported cre...  \n",
       "19  Employment length in years. Possible values ar...  \n",
       "20  The job title supplied by the Borrower when ap...  \n",
       "21  The upper boundary range the borrower’s FICO a...  \n",
       "22  The lower boundary range the borrower’s FICO a...  \n",
       "23  The total amount committed to that loan at tha...  \n",
       "24  The total amount committed by investors for th...  \n",
       "25                             LC assigned loan grade  \n",
       "26  The home ownership status provided by the borr...  \n",
       "27      A unique LC assigned ID for the loan listing.  \n",
       "28  Ratio of total current balance to high credit/...  \n",
       "29  The initial listing status of the loan. Possib...  \n",
       "30               Number of personal finance inquiries  \n",
       "31       Number of credit inquiries in past 12 months  \n",
       "32  The number of inquiries in past 6 months (excl...  \n",
       "33  The monthly payment owed by the borrower if th...  \n",
       "34                          Interest Rate on the loan  \n",
       "35                The month which the loan was funded  \n",
       "36  The most recent month LC pulled credit for thi...  \n",
       "37  The upper boundary range the borrower’s last F...  \n",
       "38  The lower boundary range the borrower’s last F...  \n",
       "39                 Last total payment amount received  "
      ]
     },
     "execution_count": 407,
     "metadata": {},
     "output_type": "execute_result"
    }
   ],
   "source": [
    "data_desc[:40]"
   ]
  },
  {
   "cell_type": "code",
   "execution_count": 17,
   "metadata": {},
   "outputs": [],
   "source": [
    "# Features to keep that are known of to the lender at the time of application.\n",
    "keep_list = ['addr_state', 'annual_inc', 'application_type', 'avg_cur_bal', 'bc_open_to_buy', 'bc_util', 'total_bc_limit','dti', 'earliest_cr_line',\n",
    "             'emp_length', 'emp_title', 'fico_range_high', 'fico_range_low', 'grade', \n",
    "             'home_ownership', 'initial_list_status', 'installment', 'int_rate', \n",
    "             'issue_d', 'loan_amnt', 'loan_status', 'mort_acc', 'open_acc', 'pub_rec', \n",
    "             'pub_rec_bankruptcies', 'purpose', 'revol_bal', 'revol_util', 'sub_grade',\n",
    "             'term', 'title', 'total_acc', 'verification_status', 'zip_code', 'acc_open_past_24mths',\n",
    "            'mo_sin_rcnt_tl','mo_sin_rcnt_rev_tl_op','mo_sin_old_rev_tl_op','mo_sin_old_il_acct',\n",
    "             'mths_since_recent_bc','mths_since_recent_inq','num_actv_bc_tl','num_actv_rev_tl',\n",
    "             'num_bc_sats','num_bc_tl','num_il_tl','num_op_rev_tl','num_rev_accts','delinq_amnt']"
   ]
  },
  {
   "cell_type": "code",
   "execution_count": 18,
   "metadata": {},
   "outputs": [
    {
     "name": "stdout",
     "output_type": "stream",
     "text": [
      "['funded_amnt', 'funded_amnt_inv', 'pymnt_plan', 'delinq_2yrs', 'inq_last_6mths', 'out_prncp', 'out_prncp_inv', 'total_pymnt', 'total_pymnt_inv', 'total_rec_prncp', 'total_rec_int', 'total_rec_late_fee', 'recoveries', 'collection_recovery_fee', 'last_pymnt_d', 'last_pymnt_amnt', 'last_credit_pull_d', 'collections_12_mths_ex_med', 'policy_code', 'acc_now_delinq', 'tot_coll_amt', 'tot_cur_bal', 'total_rev_hi_lim', 'chargeoff_within_12_mths', 'num_accts_ever_120_pd', 'num_rev_tl_bal_gt_0', 'num_sats', 'num_tl_120dpd_2m', 'num_tl_30dpd', 'num_tl_90g_dpd_24m', 'num_tl_op_past_12m', 'pct_tl_nvr_dlq', 'percent_bc_gt_75', 'tax_liens', 'tot_hi_cred_lim', 'total_bal_ex_mort', 'total_il_high_credit_limit', 'hardship_flag', 'disbursement_method', 'debt_settlement_flag']\n"
     ]
    }
   ],
   "source": [
    "# Unkown features at time of application to be removed.\n",
    "drop_list = [col for col in data.columns if col not in keep_list]\n",
    "print(drop_list)"
   ]
  },
  {
   "cell_type": "code",
   "execution_count": 19,
   "metadata": {},
   "outputs": [],
   "source": [
    "# Removed features due to zero variance in feature, unusable data, or data irrelevant to the issue at hand. \n",
    "app_data = data.copy()\n",
    "app_data.drop(labels=drop_list, axis=1, inplace=True)"
   ]
  },
  {
   "cell_type": "code",
   "execution_count": 20,
   "metadata": {},
   "outputs": [
    {
     "data": {
      "text/plain": [
       "(1303607, 87)"
      ]
     },
     "execution_count": 20,
     "metadata": {},
     "output_type": "execute_result"
    }
   ],
   "source": [
    "data.shape"
   ]
  },
  {
   "cell_type": "code",
   "execution_count": 21,
   "metadata": {},
   "outputs": [
    {
     "data": {
      "text/plain": [
       "(1303607, 47)"
      ]
     },
     "execution_count": 21,
     "metadata": {},
     "output_type": "execute_result"
    }
   ],
   "source": [
    "app_data.shape"
   ]
  },
  {
   "cell_type": "code",
   "execution_count": 22,
   "metadata": {},
   "outputs": [],
   "source": [
    "def recode_empyear (x):\n",
    "    if x=='10+ years':\n",
    "        return '10+ years'\n",
    "    elif (x != x)|(x=='< 1 year')|(x=='1 year')|(x=='2 years')|(x=='3 years')|(x=='4 years')|(x=='5 years'):\n",
    "        return '1-5 years'\n",
    "    else:\n",
    "        return '5-10 years'\n",
    "\n",
    "data['emp_length'] = data['emp_length'].apply(recode_empyear)\n",
    "\n",
    "\n",
    "dt_series = pd.to_datetime(data['earliest_cr_line'])\n",
    "data['earliest_cr_line'] = dt_series.dt.year\n",
    "\n",
    "\n",
    "# Recode and encode purpose\n",
    "data.loc[(data['purpose'] == 'debt_consolidation')|(data['purpose'] ==\"credit_card\"), 'purpose'] = 'debt' \n",
    "data.loc[(data['purpose'] == 'home_improvement')|(data['purpose'] ==\"major_purchase\")|\n",
    "                 (data['purpose'] == 'car')|(data['purpose'] ==\"house\")|\n",
    "                 (data['purpose'] == 'vacation')|(data['purpose'] ==\"renewable_energy\"),\n",
    "                 'purpose'] = 'major_purchase' \n",
    "data.loc[(data['purpose'] == 'small_business')|(data['purpose'] ==\"medical\")|\n",
    "                 (data['purpose'] == 'moving')|(data['purpose'] ==\"wedding\")|\n",
    "                 (data['purpose'] == 'educational'),\n",
    "                 'purpose'] = 'life_event'\n",
    "data.loc[(data['purpose'] == 'other'), 'purpose'] = 'other'\n",
    "\n",
    "\n",
    "# recode and encode home ownership\n",
    "def recode_home (x):\n",
    "    if (x=='NONE')|(x=='ANY')|(x=='OTHER'):\n",
    "        return 'OTHER'\n",
    "    else:\n",
    "        return x\n",
    "\n",
    "data['home_ownership'] = data['home_ownership'].apply(recode_home)\n",
    "\n",
    "\n",
    "\n",
    "data['verification_status'] = data['verification_status'].replace('Source Verified', 'Verified')\n",
    "\n",
    "\n",
    "# Create region of residence based on state for feature reduction\n",
    "west = ['CA', 'OR', 'UT','WA', 'CO', 'NV', 'AK', 'MT', 'HI', 'WY', 'ID']\n",
    "south_west = ['AZ', 'TX', 'NM', 'OK']\n",
    "south_east = ['GA', 'NC', 'VA', 'FL', 'KY', 'SC', 'LA', 'AL', 'WV', 'DC', 'AR', 'DE', 'MS', 'TN' ]\n",
    "mid_west = ['IL', 'MO', 'MN', 'OH', 'WI', 'KS', 'MI', 'SD', 'IA', 'NE', 'IN', 'ND']\n",
    "north_east = ['CT', 'NY', 'PA', 'NJ', 'RI','MA', 'MD', 'VT', 'NH', 'ME']\n",
    "\n",
    "def get_regions(state):\n",
    "    if state in west:\n",
    "        return 'West'\n",
    "    elif state in south_west:\n",
    "        return 'SouthWest'\n",
    "    elif state in south_east:\n",
    "        return 'SouthEast'\n",
    "    elif state in mid_west:\n",
    "        return 'MidWest'\n",
    "    elif state in north_east:\n",
    "        return 'NorthEast'\n",
    "    \n",
    "data['region'] = data['addr_state'].apply(get_regions)\n",
    "\n",
    "# Drop rows without region value\n",
    "data.dropna(subset=['region'],inplace=True)"
   ]
  },
  {
   "cell_type": "code",
   "execution_count": 23,
   "metadata": {},
   "outputs": [],
   "source": [
    "def recode_empyear (x):\n",
    "    if x=='10+ years':\n",
    "        return '10+ years'\n",
    "    elif (x != x)|(x=='< 1 year')|(x=='1 year')|(x=='2 years')|(x=='3 years')|(x=='4 years')|(x=='5 years'):\n",
    "        return '1-5 years'\n",
    "    else:\n",
    "        return '5-10 years'\n",
    "\n",
    "app_data['emp_length'] = app_data['emp_length'].apply(recode_empyear)\n",
    "\n",
    "\n",
    "dt_series = pd.to_datetime(app_data['earliest_cr_line'])\n",
    "app_data['earliest_cr_line'] = dt_series.dt.year\n",
    "\n",
    "\n",
    "# Recode and encode purpose\n",
    "app_data.loc[(app_data['purpose'] == 'debt_consolidation')|(app_data['purpose'] ==\"credit_card\"), 'purpose'] = 'debt' \n",
    "app_data.loc[(app_data['purpose'] == 'home_improvement')|(app_data['purpose'] ==\"major_purchase\")|\n",
    "                 (app_data['purpose'] == 'car')|(app_data['purpose'] ==\"house\")|\n",
    "                 (app_data['purpose'] == 'vacation')|(app_data['purpose'] ==\"renewable_energy\"),\n",
    "                 'purpose'] = 'major_purchase' \n",
    "app_data.loc[(app_data['purpose'] == 'small_business')|(app_data['purpose'] ==\"medical\")|\n",
    "                 (app_data['purpose'] == 'moving')|(app_data['purpose'] ==\"wedding\")|\n",
    "                 (app_data['purpose'] == 'educational'),\n",
    "                 'purpose'] = 'life_event'\n",
    "app_data.loc[(data['purpose'] == 'other'), 'purpose'] = 'other'\n",
    "\n",
    "\n",
    "# recode and encode home ownership\n",
    "def recode_home (x):\n",
    "    if (x=='NONE')|(x=='ANY')|(x=='OTHER'):\n",
    "        return 'OTHER'\n",
    "    else:\n",
    "        return x\n",
    "\n",
    "app_data['home_ownership'] = app_data['home_ownership'].apply(recode_home)\n",
    "\n",
    "\n",
    "\n",
    "app_data['verification_status'] = app_data['verification_status'].replace('Source Verified', 'Verified')\n",
    "\n",
    "\n",
    "# Create region of residence based on state for feature reduction\n",
    "west = ['CA', 'OR', 'UT','WA', 'CO', 'NV', 'AK', 'MT', 'HI', 'WY', 'ID']\n",
    "south_west = ['AZ', 'TX', 'NM', 'OK']\n",
    "south_east = ['GA', 'NC', 'VA', 'FL', 'KY', 'SC', 'LA', 'AL', 'WV', 'DC', 'AR', 'DE', 'MS', 'TN' ]\n",
    "mid_west = ['IL', 'MO', 'MN', 'OH', 'WI', 'KS', 'MI', 'SD', 'IA', 'NE', 'IN', 'ND']\n",
    "north_east = ['CT', 'NY', 'PA', 'NJ', 'RI','MA', 'MD', 'VT', 'NH', 'ME']\n",
    "\n",
    "def get_regions(state):\n",
    "    if state in west:\n",
    "        return 'West'\n",
    "    elif state in south_west:\n",
    "        return 'SouthWest'\n",
    "    elif state in south_east:\n",
    "        return 'SouthEast'\n",
    "    elif state in mid_west:\n",
    "        return 'MidWest'\n",
    "    elif state in north_east:\n",
    "        return 'NorthEast'\n",
    "    \n",
    "app_data['region'] = app_data['addr_state'].apply(get_regions)\n",
    "\n",
    "# Drop rows without region value\n",
    "app_data.dropna(subset=['region'],inplace=True)"
   ]
  },
  {
   "cell_type": "code",
   "execution_count": 168,
   "metadata": {},
   "outputs": [],
   "source": [
    "def data_explore(col_name, full_name, continuous):\n",
    "    \n",
    "    f, (ax1, ax2) = plt.subplots(nrows=1, ncols=2, figsize=(12,3), dpi=90)\n",
    "    \n",
    "    # Plot without loan status\n",
    "    if continuous:\n",
    "        sns.distplot(data.loc[data[col_name].notnull(), col_name], kde=False, ax=ax1)\n",
    "    else:\n",
    "        sns.countplot(data[col_name], order=sorted(data[col_name].unique()), color='#5975A4', saturation=1, ax=ax1)\n",
    "    ax1.set_xlabel(full_name)\n",
    "    ax1.set_ylabel('Count')\n",
    "    ax1.set_title(full_name)\n",
    "\n",
    "    # Plot with loan status\n",
    "    if continuous:\n",
    "        sns.boxplot(x=col_name, y='loan_status', data=data, ax=ax2)\n",
    "        ax2.set_ylabel('')\n",
    "        ax2.set_title(full_name + ' by Loan Status')\n",
    "    else:\n",
    "        charge_off_rates = data.groupby(col_name)['loan_status'].value_counts(normalize=True).loc[:,\"Charged Off\"]\n",
    "        sns.barplot(x=charge_off_rates.index, y=charge_off_rates.values, color='#5975A4', saturation=1, ax=ax2)\n",
    "        ax2.set_ylabel('Fraction of Loans Charged-off')\n",
    "        ax2.set_title('Charge-off Rate by ' + full_name)\n",
    "    ax2.set_xlabel(full_name)\n",
    "    \n",
    "    plt.tight_layout()"
   ]
  },
  {
   "cell_type": "markdown",
   "metadata": {},
   "source": [
    "**Loan Amount**"
   ]
  },
  {
   "cell_type": "markdown",
   "metadata": {},
   "source": [
    "Based on further inference into the data loans were valued at about $14,000 on avergage. Charged off loans seem to occur more at higher loan amounts."
   ]
  },
  {
   "cell_type": "code",
   "execution_count": 1178,
   "metadata": {},
   "outputs": [
    {
     "data": {
      "text/plain": [
       "count   1,303,607.00\n",
       "mean       14,416.81\n",
       "std         8,699.54\n",
       "min           500.00\n",
       "25%         8,000.00\n",
       "50%        12,000.00\n",
       "75%        20,000.00\n",
       "max        40,000.00\n",
       "Name: loan_amnt, dtype: float64"
      ]
     },
     "execution_count": 1178,
     "metadata": {},
     "output_type": "execute_result"
    }
   ],
   "source": [
    "# Information about distribution of loan amount.\n",
    "data['loan_amnt'].describe()"
   ]
  },
  {
   "cell_type": "code",
   "execution_count": 1179,
   "metadata": {},
   "outputs": [
    {
     "data": {
      "image/png": "[encoded data removed]",
      "text/plain": [
       "<Figure size 1080x270 with 2 Axes>"
      ]
     },
     "metadata": {
      "needs_background": "light"
     },
     "output_type": "display_data"
    }
   ],
   "source": [
    "data_explore(\"loan_amnt\", \"Loan Amount\", True)"
   ]
  },
  {
   "cell_type": "code",
   "execution_count": 1180,
   "metadata": {},
   "outputs": [
    {
     "data": {
      "text/html": [
       "<div>\n",
       "<style scoped>\n",
       "    .dataframe tbody tr th:only-of-type {\n",
       "        vertical-align: middle;\n",
       "    }\n",
       "\n",
       "    .dataframe tbody tr th {\n",
       "        vertical-align: top;\n",
       "    }\n",
       "\n",
       "    .dataframe thead th {\n",
       "        text-align: right;\n",
       "    }\n",
       "</style>\n",
       "<table border=\"1\" class=\"dataframe\">\n",
       "  <thead>\n",
       "    <tr style=\"text-align: right;\">\n",
       "      <th></th>\n",
       "      <th>count</th>\n",
       "      <th>mean</th>\n",
       "      <th>std</th>\n",
       "      <th>min</th>\n",
       "      <th>25%</th>\n",
       "      <th>50%</th>\n",
       "      <th>75%</th>\n",
       "      <th>max</th>\n",
       "    </tr>\n",
       "    <tr>\n",
       "      <th>loan_status</th>\n",
       "      <th></th>\n",
       "      <th></th>\n",
       "      <th></th>\n",
       "      <th></th>\n",
       "      <th></th>\n",
       "      <th></th>\n",
       "      <th></th>\n",
       "      <th></th>\n",
       "    </tr>\n",
       "  </thead>\n",
       "  <tbody>\n",
       "    <tr>\n",
       "      <th>Charged Off</th>\n",
       "      <td>261,655.00</td>\n",
       "      <td>15,548.98</td>\n",
       "      <td>8,797.54</td>\n",
       "      <td>900.00</td>\n",
       "      <td>9,000.00</td>\n",
       "      <td>14,350.00</td>\n",
       "      <td>20,400.00</td>\n",
       "      <td>40,000.00</td>\n",
       "    </tr>\n",
       "    <tr>\n",
       "      <th>Fully Paid</th>\n",
       "      <td>1,041,952.00</td>\n",
       "      <td>14,132.49</td>\n",
       "      <td>8,651.52</td>\n",
       "      <td>500.00</td>\n",
       "      <td>7,500.00</td>\n",
       "      <td>12,000.00</td>\n",
       "      <td>20,000.00</td>\n",
       "      <td>40,000.00</td>\n",
       "    </tr>\n",
       "  </tbody>\n",
       "</table>\n",
       "</div>"
      ],
      "text/plain": [
       "                   count      mean      std    min      25%       50%  \\\n",
       "loan_status                                                             \n",
       "Charged Off   261,655.00 15,548.98 8,797.54 900.00 9,000.00 14,350.00   \n",
       "Fully Paid  1,041,952.00 14,132.49 8,651.52 500.00 7,500.00 12,000.00   \n",
       "\n",
       "                  75%       max  \n",
       "loan_status                      \n",
       "Charged Off 20,400.00 40,000.00  \n",
       "Fully Paid  20,000.00 40,000.00  "
      ]
     },
     "execution_count": 1180,
     "metadata": {},
     "output_type": "execute_result"
    }
   ],
   "source": [
    "data.groupby('loan_status')['loan_amnt'].describe()"
   ]
  },
  {
   "cell_type": "markdown",
   "metadata": {},
   "source": [
    "**Interest Rate**"
   ]
  },
  {
   "cell_type": "markdown",
   "metadata": {},
   "source": [
    "Based on further inference into the data loans had an interest rate of 13% on avergage. Charged off loans seem to occur more at higher interest rates."
   ]
  },
  {
   "cell_type": "code",
   "execution_count": 1181,
   "metadata": {},
   "outputs": [
    {
     "data": {
      "text/plain": [
       "count   1,303,607.00\n",
       "mean           13.26\n",
       "std             4.76\n",
       "min             5.31\n",
       "25%             9.75\n",
       "50%            12.74\n",
       "75%            15.99\n",
       "max            30.99\n",
       "Name: int_rate, dtype: float64"
      ]
     },
     "execution_count": 1181,
     "metadata": {},
     "output_type": "execute_result"
    }
   ],
   "source": [
    "# Information about distribution of interest rate.\n",
    "data['int_rate'].describe()"
   ]
  },
  {
   "cell_type": "code",
   "execution_count": 1182,
   "metadata": {},
   "outputs": [
    {
     "data": {
      "image/png": "[encoded data removed]",
      "text/plain": [
       "<Figure size 1080x270 with 2 Axes>"
      ]
     },
     "metadata": {
      "needs_background": "light"
     },
     "output_type": "display_data"
    }
   ],
   "source": [
    "data_explore(\"int_rate\", \"Interest Rate\", True)"
   ]
  },
  {
   "cell_type": "code",
   "execution_count": 1183,
   "metadata": {
    "scrolled": true
   },
   "outputs": [
    {
     "data": {
      "text/html": [
       "<div>\n",
       "<style scoped>\n",
       "    .dataframe tbody tr th:only-of-type {\n",
       "        vertical-align: middle;\n",
       "    }\n",
       "\n",
       "    .dataframe tbody tr th {\n",
       "        vertical-align: top;\n",
       "    }\n",
       "\n",
       "    .dataframe thead th {\n",
       "        text-align: right;\n",
       "    }\n",
       "</style>\n",
       "<table border=\"1\" class=\"dataframe\">\n",
       "  <thead>\n",
       "    <tr style=\"text-align: right;\">\n",
       "      <th></th>\n",
       "      <th>count</th>\n",
       "      <th>mean</th>\n",
       "      <th>std</th>\n",
       "      <th>min</th>\n",
       "      <th>25%</th>\n",
       "      <th>50%</th>\n",
       "      <th>75%</th>\n",
       "      <th>max</th>\n",
       "    </tr>\n",
       "    <tr>\n",
       "      <th>loan_status</th>\n",
       "      <th></th>\n",
       "      <th></th>\n",
       "      <th></th>\n",
       "      <th></th>\n",
       "      <th></th>\n",
       "      <th></th>\n",
       "      <th></th>\n",
       "      <th></th>\n",
       "    </tr>\n",
       "  </thead>\n",
       "  <tbody>\n",
       "    <tr>\n",
       "      <th>Charged Off</th>\n",
       "      <td>261,655.00</td>\n",
       "      <td>15.71</td>\n",
       "      <td>4.90</td>\n",
       "      <td>5.31</td>\n",
       "      <td>12.29</td>\n",
       "      <td>15.05</td>\n",
       "      <td>18.55</td>\n",
       "      <td>30.99</td>\n",
       "    </tr>\n",
       "    <tr>\n",
       "      <th>Fully Paid</th>\n",
       "      <td>1,041,952.00</td>\n",
       "      <td>12.64</td>\n",
       "      <td>4.52</td>\n",
       "      <td>5.31</td>\n",
       "      <td>9.17</td>\n",
       "      <td>12.29</td>\n",
       "      <td>15.31</td>\n",
       "      <td>30.99</td>\n",
       "    </tr>\n",
       "  </tbody>\n",
       "</table>\n",
       "</div>"
      ],
      "text/plain": [
       "                   count  mean  std  min   25%   50%   75%   max\n",
       "loan_status                                                     \n",
       "Charged Off   261,655.00 15.71 4.90 5.31 12.29 15.05 18.55 30.99\n",
       "Fully Paid  1,041,952.00 12.64 4.52 5.31  9.17 12.29 15.31 30.99"
      ]
     },
     "execution_count": 1183,
     "metadata": {},
     "output_type": "execute_result"
    }
   ],
   "source": [
    "data.groupby('loan_status')['int_rate'].describe()"
   ]
  },
  {
   "cell_type": "markdown",
   "metadata": {},
   "source": [
    "**Installment**"
   ]
  },
  {
   "cell_type": "markdown",
   "metadata": {},
   "source": [
    "Based on further inference into the data loans had an installment of 400 on avergage. Charged off loans seem to occur at around the same installment rate."
   ]
  },
  {
   "cell_type": "code",
   "execution_count": 1184,
   "metadata": {},
   "outputs": [
    {
     "data": {
      "text/plain": [
       "count   1,303,607.00\n",
       "mean          438.08\n",
       "std           261.06\n",
       "min             4.93\n",
       "25%           248.82\n",
       "50%           375.43\n",
       "75%           580.45\n",
       "max         1,719.83\n",
       "Name: installment, dtype: float64"
      ]
     },
     "execution_count": 1184,
     "metadata": {},
     "output_type": "execute_result"
    }
   ],
   "source": [
    "# Information about distribution of installment.\n",
    "data['installment'].describe()"
   ]
  },
  {
   "cell_type": "code",
   "execution_count": 1185,
   "metadata": {},
   "outputs": [
    {
     "data": {
      "image/png": "[encoded data removed]",
      "text/plain": [
       "<Figure size 1080x270 with 2 Axes>"
      ]
     },
     "metadata": {
      "needs_background": "light"
     },
     "output_type": "display_data"
    }
   ],
   "source": [
    "data_explore(\"installment\", \"Installment\", True)"
   ]
  },
  {
   "cell_type": "code",
   "execution_count": 1186,
   "metadata": {
    "scrolled": true
   },
   "outputs": [
    {
     "data": {
      "text/html": [
       "<div>\n",
       "<style scoped>\n",
       "    .dataframe tbody tr th:only-of-type {\n",
       "        vertical-align: middle;\n",
       "    }\n",
       "\n",
       "    .dataframe tbody tr th {\n",
       "        vertical-align: top;\n",
       "    }\n",
       "\n",
       "    .dataframe thead th {\n",
       "        text-align: right;\n",
       "    }\n",
       "</style>\n",
       "<table border=\"1\" class=\"dataframe\">\n",
       "  <thead>\n",
       "    <tr style=\"text-align: right;\">\n",
       "      <th></th>\n",
       "      <th>count</th>\n",
       "      <th>mean</th>\n",
       "      <th>std</th>\n",
       "      <th>min</th>\n",
       "      <th>25%</th>\n",
       "      <th>50%</th>\n",
       "      <th>75%</th>\n",
       "      <th>max</th>\n",
       "    </tr>\n",
       "    <tr>\n",
       "      <th>loan_status</th>\n",
       "      <th></th>\n",
       "      <th></th>\n",
       "      <th></th>\n",
       "      <th></th>\n",
       "      <th></th>\n",
       "      <th></th>\n",
       "      <th></th>\n",
       "      <th></th>\n",
       "    </tr>\n",
       "  </thead>\n",
       "  <tbody>\n",
       "    <tr>\n",
       "      <th>Charged Off</th>\n",
       "      <td>261,655.00</td>\n",
       "      <td>464.75</td>\n",
       "      <td>262.34</td>\n",
       "      <td>21.62</td>\n",
       "      <td>275.22</td>\n",
       "      <td>402.83</td>\n",
       "      <td>604.14</td>\n",
       "      <td>1,717.63</td>\n",
       "    </tr>\n",
       "    <tr>\n",
       "      <th>Fully Paid</th>\n",
       "      <td>1,041,952.00</td>\n",
       "      <td>431.39</td>\n",
       "      <td>260.31</td>\n",
       "      <td>4.93</td>\n",
       "      <td>241.12</td>\n",
       "      <td>368.63</td>\n",
       "      <td>573.06</td>\n",
       "      <td>1,719.83</td>\n",
       "    </tr>\n",
       "  </tbody>\n",
       "</table>\n",
       "</div>"
      ],
      "text/plain": [
       "                   count   mean    std   min    25%    50%    75%      max\n",
       "loan_status                                                               \n",
       "Charged Off   261,655.00 464.75 262.34 21.62 275.22 402.83 604.14 1,717.63\n",
       "Fully Paid  1,041,952.00 431.39 260.31  4.93 241.12 368.63 573.06 1,719.83"
      ]
     },
     "execution_count": 1186,
     "metadata": {},
     "output_type": "execute_result"
    }
   ],
   "source": [
    "data.groupby('loan_status')['installment'].describe()"
   ]
  },
  {
   "cell_type": "markdown",
   "metadata": {},
   "source": [
    "**Grade**"
   ]
  },
  {
   "cell_type": "markdown",
   "metadata": {},
   "source": [
    "Based on further inference into the data loans had an interest rate of 13% on avergage. Charged off loans seem to occur more at higher interest rates."
   ]
  },
  {
   "cell_type": "code",
   "execution_count": 1187,
   "metadata": {},
   "outputs": [
    {
     "data": {
      "text/plain": [
       "count     1303607\n",
       "unique          7\n",
       "top             B\n",
       "freq       380152\n",
       "Name: grade, dtype: object"
      ]
     },
     "execution_count": 1187,
     "metadata": {},
     "output_type": "execute_result"
    }
   ],
   "source": [
    "# Information about distribution of grade.\n",
    "data['grade'].describe()"
   ]
  },
  {
   "cell_type": "code",
   "execution_count": 1188,
   "metadata": {},
   "outputs": [
    {
     "data": {
      "image/png": "[encoded data removed]",
      "text/plain": [
       "<Figure size 1080x270 with 2 Axes>"
      ]
     },
     "metadata": {
      "needs_background": "light"
     },
     "output_type": "display_data"
    }
   ],
   "source": [
    "data_explore(\"grade\", \"Grade\", False)"
   ]
  },
  {
   "cell_type": "code",
   "execution_count": 1189,
   "metadata": {
    "scrolled": true
   },
   "outputs": [
    {
     "data": {
      "text/html": [
       "<div>\n",
       "<style scoped>\n",
       "    .dataframe tbody tr th:only-of-type {\n",
       "        vertical-align: middle;\n",
       "    }\n",
       "\n",
       "    .dataframe tbody tr th {\n",
       "        vertical-align: top;\n",
       "    }\n",
       "\n",
       "    .dataframe thead th {\n",
       "        text-align: right;\n",
       "    }\n",
       "</style>\n",
       "<table border=\"1\" class=\"dataframe\">\n",
       "  <thead>\n",
       "    <tr style=\"text-align: right;\">\n",
       "      <th></th>\n",
       "      <th>count</th>\n",
       "      <th>unique</th>\n",
       "      <th>top</th>\n",
       "      <th>freq</th>\n",
       "    </tr>\n",
       "    <tr>\n",
       "      <th>loan_status</th>\n",
       "      <th></th>\n",
       "      <th></th>\n",
       "      <th></th>\n",
       "      <th></th>\n",
       "    </tr>\n",
       "  </thead>\n",
       "  <tbody>\n",
       "    <tr>\n",
       "      <th>Charged Off</th>\n",
       "      <td>261655</td>\n",
       "      <td>7</td>\n",
       "      <td>C</td>\n",
       "      <td>83262</td>\n",
       "    </tr>\n",
       "    <tr>\n",
       "      <th>Fully Paid</th>\n",
       "      <td>1041952</td>\n",
       "      <td>7</td>\n",
       "      <td>B</td>\n",
       "      <td>329075</td>\n",
       "    </tr>\n",
       "  </tbody>\n",
       "</table>\n",
       "</div>"
      ],
      "text/plain": [
       "               count unique top    freq\n",
       "loan_status                            \n",
       "Charged Off   261655      7   C   83262\n",
       "Fully Paid   1041952      7   B  329075"
      ]
     },
     "execution_count": 1189,
     "metadata": {},
     "output_type": "execute_result"
    }
   ],
   "source": [
    "data.groupby('loan_status')['grade'].describe()"
   ]
  },
  {
   "cell_type": "markdown",
   "metadata": {},
   "source": [
    "**Employment Title**"
   ]
  },
  {
   "cell_type": "markdown",
   "metadata": {},
   "source": [
    "Based on further inference into the data most applicants are teachers. Charged off loans seem to occur when managers are the borrows and are paid when teachers are the borrowers. There are toom any unique values for any inference to be made so this feature will be dropped."
   ]
  },
  {
   "cell_type": "code",
   "execution_count": 1190,
   "metadata": {},
   "outputs": [
    {
     "data": {
      "text/plain": [
       "count     1221028\n",
       "unique     371435\n",
       "top       Teacher\n",
       "freq        20496\n",
       "Name: emp_title, dtype: object"
      ]
     },
     "execution_count": 1190,
     "metadata": {},
     "output_type": "execute_result"
    }
   ],
   "source": [
    "# Information about distribution of employment title.\n",
    "data['emp_title'].describe()"
   ]
  },
  {
   "cell_type": "code",
   "execution_count": 1191,
   "metadata": {
    "scrolled": true
   },
   "outputs": [
    {
     "data": {
      "text/html": [
       "<div>\n",
       "<style scoped>\n",
       "    .dataframe tbody tr th:only-of-type {\n",
       "        vertical-align: middle;\n",
       "    }\n",
       "\n",
       "    .dataframe tbody tr th {\n",
       "        vertical-align: top;\n",
       "    }\n",
       "\n",
       "    .dataframe thead th {\n",
       "        text-align: right;\n",
       "    }\n",
       "</style>\n",
       "<table border=\"1\" class=\"dataframe\">\n",
       "  <thead>\n",
       "    <tr style=\"text-align: right;\">\n",
       "      <th></th>\n",
       "      <th>count</th>\n",
       "      <th>unique</th>\n",
       "      <th>top</th>\n",
       "      <th>freq</th>\n",
       "    </tr>\n",
       "    <tr>\n",
       "      <th>loan_status</th>\n",
       "      <th></th>\n",
       "      <th></th>\n",
       "      <th></th>\n",
       "      <th></th>\n",
       "    </tr>\n",
       "  </thead>\n",
       "  <tbody>\n",
       "    <tr>\n",
       "      <th>Charged Off</th>\n",
       "      <td>239962</td>\n",
       "      <td>94177</td>\n",
       "      <td>Manager</td>\n",
       "      <td>3974</td>\n",
       "    </tr>\n",
       "    <tr>\n",
       "      <th>Fully Paid</th>\n",
       "      <td>981066</td>\n",
       "      <td>311305</td>\n",
       "      <td>Teacher</td>\n",
       "      <td>16666</td>\n",
       "    </tr>\n",
       "  </tbody>\n",
       "</table>\n",
       "</div>"
      ],
      "text/plain": [
       "              count  unique      top   freq\n",
       "loan_status                                \n",
       "Charged Off  239962   94177  Manager   3974\n",
       "Fully Paid   981066  311305  Teacher  16666"
      ]
     },
     "execution_count": 1191,
     "metadata": {},
     "output_type": "execute_result"
    }
   ],
   "source": [
    "data.groupby('loan_status')['emp_title'].describe()"
   ]
  },
  {
   "cell_type": "code",
   "execution_count": 1192,
   "metadata": {},
   "outputs": [],
   "source": [
    "data.drop(labels='emp_title', axis=1, inplace=True)"
   ]
  },
  {
   "cell_type": "markdown",
   "metadata": {},
   "source": [
    "**Employment Length**"
   ]
  },
  {
   "cell_type": "markdown",
   "metadata": {},
   "source": [
    "Based on further inference into the data loans had most applicants that worked for 1-5 years. Charged off loans seem to occur at the same rate across all employment lenths."
   ]
  },
  {
   "cell_type": "code",
   "execution_count": 1193,
   "metadata": {},
   "outputs": [
    {
     "data": {
      "text/plain": [
       "count       1303607\n",
       "unique            3\n",
       "top       1-5 years\n",
       "freq         647353\n",
       "Name: emp_length, dtype: object"
      ]
     },
     "execution_count": 1193,
     "metadata": {},
     "output_type": "execute_result"
    }
   ],
   "source": [
    "# Information about distribution of employment length.\n",
    "data['emp_length'].describe()"
   ]
  },
  {
   "cell_type": "code",
   "execution_count": 1194,
   "metadata": {},
   "outputs": [
    {
     "data": {
      "image/png": "[encoded data removed]",
      "text/plain": [
       "<Figure size 1080x270 with 2 Axes>"
      ]
     },
     "metadata": {
      "needs_background": "light"
     },
     "output_type": "display_data"
    }
   ],
   "source": [
    "data_explore(\"emp_length\", \"Employment Length\", False)"
   ]
  },
  {
   "cell_type": "code",
   "execution_count": 1195,
   "metadata": {
    "scrolled": true
   },
   "outputs": [
    {
     "data": {
      "text/html": [
       "<div>\n",
       "<style scoped>\n",
       "    .dataframe tbody tr th:only-of-type {\n",
       "        vertical-align: middle;\n",
       "    }\n",
       "\n",
       "    .dataframe tbody tr th {\n",
       "        vertical-align: top;\n",
       "    }\n",
       "\n",
       "    .dataframe thead th {\n",
       "        text-align: right;\n",
       "    }\n",
       "</style>\n",
       "<table border=\"1\" class=\"dataframe\">\n",
       "  <thead>\n",
       "    <tr style=\"text-align: right;\">\n",
       "      <th></th>\n",
       "      <th>count</th>\n",
       "      <th>unique</th>\n",
       "      <th>top</th>\n",
       "      <th>freq</th>\n",
       "    </tr>\n",
       "    <tr>\n",
       "      <th>loan_status</th>\n",
       "      <th></th>\n",
       "      <th></th>\n",
       "      <th></th>\n",
       "      <th></th>\n",
       "    </tr>\n",
       "  </thead>\n",
       "  <tbody>\n",
       "    <tr>\n",
       "      <th>Charged Off</th>\n",
       "      <td>261655</td>\n",
       "      <td>3</td>\n",
       "      <td>1-5 years</td>\n",
       "      <td>135714</td>\n",
       "    </tr>\n",
       "    <tr>\n",
       "      <th>Fully Paid</th>\n",
       "      <td>1041952</td>\n",
       "      <td>3</td>\n",
       "      <td>1-5 years</td>\n",
       "      <td>511639</td>\n",
       "    </tr>\n",
       "  </tbody>\n",
       "</table>\n",
       "</div>"
      ],
      "text/plain": [
       "               count unique        top    freq\n",
       "loan_status                                   \n",
       "Charged Off   261655      3  1-5 years  135714\n",
       "Fully Paid   1041952      3  1-5 years  511639"
      ]
     },
     "execution_count": 1195,
     "metadata": {},
     "output_type": "execute_result"
    }
   ],
   "source": [
    "data.groupby('loan_status')['emp_length'].describe()"
   ]
  },
  {
   "cell_type": "markdown",
   "metadata": {},
   "source": [
    "**Home Ownership**"
   ]
  },
  {
   "cell_type": "markdown",
   "metadata": {},
   "source": [
    "Based on further inference into the data loans had most applicants either rent or have a mortgage. Charged off loans seem to occur at similar rates across all home ownerships."
   ]
  },
  {
   "cell_type": "code",
   "execution_count": 1196,
   "metadata": {},
   "outputs": [
    {
     "data": {
      "text/plain": [
       "count      1303607\n",
       "unique           4\n",
       "top       MORTGAGE\n",
       "freq        645496\n",
       "Name: home_ownership, dtype: object"
      ]
     },
     "execution_count": 1196,
     "metadata": {},
     "output_type": "execute_result"
    }
   ],
   "source": [
    "# Information about distribution of home ownership.\n",
    "data['home_ownership'].describe()"
   ]
  },
  {
   "cell_type": "code",
   "execution_count": 1197,
   "metadata": {},
   "outputs": [
    {
     "data": {
      "image/png": "[encoded data removed]",
      "text/plain": [
       "<Figure size 1080x270 with 2 Axes>"
      ]
     },
     "metadata": {
      "needs_background": "light"
     },
     "output_type": "display_data"
    }
   ],
   "source": [
    "data_explore(\"home_ownership\", \"Home Ownership\", False)"
   ]
  },
  {
   "cell_type": "code",
   "execution_count": 1198,
   "metadata": {
    "scrolled": true
   },
   "outputs": [
    {
     "data": {
      "text/html": [
       "<div>\n",
       "<style scoped>\n",
       "    .dataframe tbody tr th:only-of-type {\n",
       "        vertical-align: middle;\n",
       "    }\n",
       "\n",
       "    .dataframe tbody tr th {\n",
       "        vertical-align: top;\n",
       "    }\n",
       "\n",
       "    .dataframe thead th {\n",
       "        text-align: right;\n",
       "    }\n",
       "</style>\n",
       "<table border=\"1\" class=\"dataframe\">\n",
       "  <thead>\n",
       "    <tr style=\"text-align: right;\">\n",
       "      <th></th>\n",
       "      <th>count</th>\n",
       "      <th>unique</th>\n",
       "      <th>top</th>\n",
       "      <th>freq</th>\n",
       "    </tr>\n",
       "    <tr>\n",
       "      <th>loan_status</th>\n",
       "      <th></th>\n",
       "      <th></th>\n",
       "      <th></th>\n",
       "      <th></th>\n",
       "    </tr>\n",
       "  </thead>\n",
       "  <tbody>\n",
       "    <tr>\n",
       "      <th>Charged Off</th>\n",
       "      <td>261655</td>\n",
       "      <td>4</td>\n",
       "      <td>RENT</td>\n",
       "      <td>120896</td>\n",
       "    </tr>\n",
       "    <tr>\n",
       "      <th>Fully Paid</th>\n",
       "      <td>1041952</td>\n",
       "      <td>4</td>\n",
       "      <td>MORTGAGE</td>\n",
       "      <td>533834</td>\n",
       "    </tr>\n",
       "  </tbody>\n",
       "</table>\n",
       "</div>"
      ],
      "text/plain": [
       "               count unique       top    freq\n",
       "loan_status                                  \n",
       "Charged Off   261655      4      RENT  120896\n",
       "Fully Paid   1041952      4  MORTGAGE  533834"
      ]
     },
     "execution_count": 1198,
     "metadata": {},
     "output_type": "execute_result"
    }
   ],
   "source": [
    "data.groupby('loan_status')['home_ownership'].describe()"
   ]
  },
  {
   "cell_type": "markdown",
   "metadata": {},
   "source": [
    "**Annual Income**"
   ]
  },
  {
   "cell_type": "markdown",
   "metadata": {},
   "source": [
    "Based on further inference into the data loans had most had an income of around 76,000. The data is very sparse ranging from 0 to over 10,000,000 and a mean of only 76,000. Due to this the data will be transformed to conform normality. Charged off loans seem to occur when income is lower than those of paid loans with a difference of only 0.04."
   ]
  },
  {
   "cell_type": "code",
   "execution_count": 1199,
   "metadata": {},
   "outputs": [
    {
     "data": {
      "text/plain": [
       "count    1,303,607.00\n",
       "mean        76,158.99\n",
       "std         70,048.90\n",
       "min              0.00\n",
       "25%         45,840.00\n",
       "50%         65,000.00\n",
       "75%         90,000.00\n",
       "max     10,999,200.00\n",
       "Name: annual_inc, dtype: float64"
      ]
     },
     "execution_count": 1199,
     "metadata": {},
     "output_type": "execute_result"
    }
   ],
   "source": [
    "# Information about distribution of annual income.\n",
    "data['annual_inc'].describe()"
   ]
  },
  {
   "cell_type": "code",
   "execution_count": 1200,
   "metadata": {},
   "outputs": [],
   "source": [
    "data['annual_inc'] = data['annual_inc'].apply(lambda x: np.log10(x+1))"
   ]
  },
  {
   "cell_type": "code",
   "execution_count": 1201,
   "metadata": {},
   "outputs": [
    {
     "data": {
      "text/plain": [
       "count   1,303,607.00\n",
       "mean            4.81\n",
       "std             0.25\n",
       "min             0.00\n",
       "25%             4.66\n",
       "50%             4.81\n",
       "75%             4.95\n",
       "max             7.04\n",
       "Name: annual_inc, dtype: float64"
      ]
     },
     "execution_count": 1201,
     "metadata": {},
     "output_type": "execute_result"
    }
   ],
   "source": [
    "data['annual_inc'].describe()"
   ]
  },
  {
   "cell_type": "code",
   "execution_count": 1202,
   "metadata": {},
   "outputs": [
    {
     "data": {
      "image/png": "[encoded data removed]",
      "text/plain": [
       "<Figure size 1080x270 with 2 Axes>"
      ]
     },
     "metadata": {
      "needs_background": "light"
     },
     "output_type": "display_data"
    }
   ],
   "source": [
    "data_explore(\"annual_inc\", \"Annual Income\", True)"
   ]
  },
  {
   "cell_type": "code",
   "execution_count": 1203,
   "metadata": {
    "scrolled": true
   },
   "outputs": [
    {
     "data": {
      "text/html": [
       "<div>\n",
       "<style scoped>\n",
       "    .dataframe tbody tr th:only-of-type {\n",
       "        vertical-align: middle;\n",
       "    }\n",
       "\n",
       "    .dataframe tbody tr th {\n",
       "        vertical-align: top;\n",
       "    }\n",
       "\n",
       "    .dataframe thead th {\n",
       "        text-align: right;\n",
       "    }\n",
       "</style>\n",
       "<table border=\"1\" class=\"dataframe\">\n",
       "  <thead>\n",
       "    <tr style=\"text-align: right;\">\n",
       "      <th></th>\n",
       "      <th>count</th>\n",
       "      <th>mean</th>\n",
       "      <th>std</th>\n",
       "      <th>min</th>\n",
       "      <th>25%</th>\n",
       "      <th>50%</th>\n",
       "      <th>75%</th>\n",
       "      <th>max</th>\n",
       "    </tr>\n",
       "    <tr>\n",
       "      <th>loan_status</th>\n",
       "      <th></th>\n",
       "      <th></th>\n",
       "      <th></th>\n",
       "      <th></th>\n",
       "      <th></th>\n",
       "      <th></th>\n",
       "      <th></th>\n",
       "      <th></th>\n",
       "    </tr>\n",
       "  </thead>\n",
       "  <tbody>\n",
       "    <tr>\n",
       "      <th>Charged Off</th>\n",
       "      <td>261,655.00</td>\n",
       "      <td>4.78</td>\n",
       "      <td>0.24</td>\n",
       "      <td>0.00</td>\n",
       "      <td>4.63</td>\n",
       "      <td>4.78</td>\n",
       "      <td>4.93</td>\n",
       "      <td>6.98</td>\n",
       "    </tr>\n",
       "    <tr>\n",
       "      <th>Fully Paid</th>\n",
       "      <td>1,041,952.00</td>\n",
       "      <td>4.82</td>\n",
       "      <td>0.25</td>\n",
       "      <td>0.00</td>\n",
       "      <td>4.67</td>\n",
       "      <td>4.81</td>\n",
       "      <td>4.97</td>\n",
       "      <td>7.04</td>\n",
       "    </tr>\n",
       "  </tbody>\n",
       "</table>\n",
       "</div>"
      ],
      "text/plain": [
       "                   count  mean  std  min  25%  50%  75%  max\n",
       "loan_status                                                 \n",
       "Charged Off   261,655.00  4.78 0.24 0.00 4.63 4.78 4.93 6.98\n",
       "Fully Paid  1,041,952.00  4.82 0.25 0.00 4.67 4.81 4.97 7.04"
      ]
     },
     "execution_count": 1203,
     "metadata": {},
     "output_type": "execute_result"
    }
   ],
   "source": [
    "data.groupby('loan_status')['annual_inc'].describe()"
   ]
  },
  {
   "cell_type": "markdown",
   "metadata": {},
   "source": [
    "**Purpose**"
   ]
  },
  {
   "cell_type": "markdown",
   "metadata": {},
   "source": [
    "Based on further inference into the data loans were filed mostly for debt. Although life event was the lowest prevalence almost 25% of those loans were charged off."
   ]
  },
  {
   "cell_type": "code",
   "execution_count": 1204,
   "metadata": {},
   "outputs": [
    {
     "data": {
      "text/plain": [
       "count     1303607\n",
       "unique          4\n",
       "top          debt\n",
       "freq      1043295\n",
       "Name: purpose, dtype: object"
      ]
     },
     "execution_count": 1204,
     "metadata": {},
     "output_type": "execute_result"
    }
   ],
   "source": [
    "# Information about distribution of loan purposes.\n",
    "data['purpose'].describe()"
   ]
  },
  {
   "cell_type": "code",
   "execution_count": 1205,
   "metadata": {},
   "outputs": [
    {
     "data": {
      "image/png": "[encoded data removed]",
      "text/plain": [
       "<Figure size 1080x270 with 2 Axes>"
      ]
     },
     "metadata": {
      "needs_background": "light"
     },
     "output_type": "display_data"
    }
   ],
   "source": [
    "data_explore(\"purpose\", \"Purpose\", False)"
   ]
  },
  {
   "cell_type": "code",
   "execution_count": 1206,
   "metadata": {
    "scrolled": false
   },
   "outputs": [
    {
     "data": {
      "text/html": [
       "<div>\n",
       "<style scoped>\n",
       "    .dataframe tbody tr th:only-of-type {\n",
       "        vertical-align: middle;\n",
       "    }\n",
       "\n",
       "    .dataframe tbody tr th {\n",
       "        vertical-align: top;\n",
       "    }\n",
       "\n",
       "    .dataframe thead th {\n",
       "        text-align: right;\n",
       "    }\n",
       "</style>\n",
       "<table border=\"1\" class=\"dataframe\">\n",
       "  <thead>\n",
       "    <tr style=\"text-align: right;\">\n",
       "      <th></th>\n",
       "      <th>count</th>\n",
       "      <th>unique</th>\n",
       "      <th>top</th>\n",
       "      <th>freq</th>\n",
       "    </tr>\n",
       "    <tr>\n",
       "      <th>loan_status</th>\n",
       "      <th></th>\n",
       "      <th></th>\n",
       "      <th></th>\n",
       "      <th></th>\n",
       "    </tr>\n",
       "  </thead>\n",
       "  <tbody>\n",
       "    <tr>\n",
       "      <th>Charged Off</th>\n",
       "      <td>261655</td>\n",
       "      <td>4</td>\n",
       "      <td>debt</td>\n",
       "      <td>209685</td>\n",
       "    </tr>\n",
       "    <tr>\n",
       "      <th>Fully Paid</th>\n",
       "      <td>1041952</td>\n",
       "      <td>4</td>\n",
       "      <td>debt</td>\n",
       "      <td>833610</td>\n",
       "    </tr>\n",
       "  </tbody>\n",
       "</table>\n",
       "</div>"
      ],
      "text/plain": [
       "               count unique   top    freq\n",
       "loan_status                              \n",
       "Charged Off   261655      4  debt  209685\n",
       "Fully Paid   1041952      4  debt  833610"
      ]
     },
     "execution_count": 1206,
     "metadata": {},
     "output_type": "execute_result"
    }
   ],
   "source": [
    "data.groupby('loan_status')['purpose'].describe()"
   ]
  },
  {
   "cell_type": "markdown",
   "metadata": {},
   "source": [
    "**Loan Title**"
   ]
  },
  {
   "cell_type": "markdown",
   "metadata": {},
   "source": [
    "Too many unique values to infer anything from data so will be dropped. "
   ]
  },
  {
   "cell_type": "code",
   "execution_count": 1207,
   "metadata": {},
   "outputs": [
    {
     "data": {
      "text/plain": [
       "count                1288181\n",
       "unique                 61678\n",
       "top       Debt consolidation\n",
       "freq                  638945\n",
       "Name: title, dtype: object"
      ]
     },
     "execution_count": 1207,
     "metadata": {},
     "output_type": "execute_result"
    }
   ],
   "source": [
    "# Information about distribution of loan purposes.\n",
    "data['title'].describe()"
   ]
  },
  {
   "cell_type": "code",
   "execution_count": 1208,
   "metadata": {
    "scrolled": true
   },
   "outputs": [
    {
     "data": {
      "text/html": [
       "<div>\n",
       "<style scoped>\n",
       "    .dataframe tbody tr th:only-of-type {\n",
       "        vertical-align: middle;\n",
       "    }\n",
       "\n",
       "    .dataframe tbody tr th {\n",
       "        vertical-align: top;\n",
       "    }\n",
       "\n",
       "    .dataframe thead th {\n",
       "        text-align: right;\n",
       "    }\n",
       "</style>\n",
       "<table border=\"1\" class=\"dataframe\">\n",
       "  <thead>\n",
       "    <tr style=\"text-align: right;\">\n",
       "      <th></th>\n",
       "      <th>count</th>\n",
       "      <th>unique</th>\n",
       "      <th>top</th>\n",
       "      <th>freq</th>\n",
       "    </tr>\n",
       "    <tr>\n",
       "      <th>loan_status</th>\n",
       "      <th></th>\n",
       "      <th></th>\n",
       "      <th></th>\n",
       "      <th></th>\n",
       "    </tr>\n",
       "  </thead>\n",
       "  <tbody>\n",
       "    <tr>\n",
       "      <th>Charged Off</th>\n",
       "      <td>256926</td>\n",
       "      <td>12045</td>\n",
       "      <td>Debt consolidation</td>\n",
       "      <td>140254</td>\n",
       "    </tr>\n",
       "    <tr>\n",
       "      <th>Fully Paid</th>\n",
       "      <td>1031255</td>\n",
       "      <td>53731</td>\n",
       "      <td>Debt consolidation</td>\n",
       "      <td>498691</td>\n",
       "    </tr>\n",
       "  </tbody>\n",
       "</table>\n",
       "</div>"
      ],
      "text/plain": [
       "               count unique                 top    freq\n",
       "loan_status                                            \n",
       "Charged Off   256926  12045  Debt consolidation  140254\n",
       "Fully Paid   1031255  53731  Debt consolidation  498691"
      ]
     },
     "execution_count": 1208,
     "metadata": {},
     "output_type": "execute_result"
    }
   ],
   "source": [
    "data.groupby('loan_status')['title'].describe()"
   ]
  },
  {
   "cell_type": "code",
   "execution_count": 1209,
   "metadata": {},
   "outputs": [],
   "source": [
    "data.drop(labels='title', axis=1, inplace=True)"
   ]
  },
  {
   "cell_type": "markdown",
   "metadata": {},
   "source": [
    "**DTI**"
   ]
  },
  {
   "cell_type": "markdown",
   "metadata": {},
   "source": [
    "Based on further inference into the data average debt to income (DTI) ratio was 18.26. Those who default on loans seem to be above the average DTI ratio and those who paid off were below. "
   ]
  },
  {
   "cell_type": "code",
   "execution_count": 1210,
   "metadata": {},
   "outputs": [
    {
     "data": {
      "text/plain": [
       "count   1,303,295.00\n",
       "mean           18.26\n",
       "std            10.94\n",
       "min            -1.00\n",
       "25%            11.79\n",
       "50%            17.61\n",
       "75%            24.04\n",
       "max           999.00\n",
       "Name: dti, dtype: float64"
      ]
     },
     "execution_count": 1210,
     "metadata": {},
     "output_type": "execute_result"
    }
   ],
   "source": [
    "# Information about distribution of loan purposes.\n",
    "data['dti'].describe()"
   ]
  },
  {
   "cell_type": "code",
   "execution_count": 1211,
   "metadata": {},
   "outputs": [
    {
     "data": {
      "text/plain": [
       "Text(0.5, 1.0, 'Debt-to-income Ratio')"
      ]
     },
     "execution_count": 1211,
     "metadata": {},
     "output_type": "execute_result"
    },
    {
     "data": {
      "image/png": "[encoded data removed]",
      "text/plain": [
       "<Figure size 720x270 with 1 Axes>"
      ]
     },
     "metadata": {
      "needs_background": "light"
     },
     "output_type": "display_data"
    }
   ],
   "source": [
    "plt.figure(figsize=(8,3), dpi=90)\n",
    "sns.distplot(data.loc[data['dti'].notnull() & (data['dti']<60), 'dti'], kde=False)\n",
    "plt.xlabel('Debt-to-income Ratio')\n",
    "plt.ylabel('Count')\n",
    "plt.title('Debt-to-income Ratio')"
   ]
  },
  {
   "cell_type": "code",
   "execution_count": 1212,
   "metadata": {},
   "outputs": [
    {
     "data": {
      "text/html": [
       "<div>\n",
       "<style scoped>\n",
       "    .dataframe tbody tr th:only-of-type {\n",
       "        vertical-align: middle;\n",
       "    }\n",
       "\n",
       "    .dataframe tbody tr th {\n",
       "        vertical-align: top;\n",
       "    }\n",
       "\n",
       "    .dataframe thead th {\n",
       "        text-align: right;\n",
       "    }\n",
       "</style>\n",
       "<table border=\"1\" class=\"dataframe\">\n",
       "  <thead>\n",
       "    <tr style=\"text-align: right;\">\n",
       "      <th></th>\n",
       "      <th>count</th>\n",
       "      <th>mean</th>\n",
       "      <th>std</th>\n",
       "      <th>min</th>\n",
       "      <th>25%</th>\n",
       "      <th>50%</th>\n",
       "      <th>75%</th>\n",
       "      <th>max</th>\n",
       "    </tr>\n",
       "    <tr>\n",
       "      <th>loan_status</th>\n",
       "      <th></th>\n",
       "      <th></th>\n",
       "      <th></th>\n",
       "      <th></th>\n",
       "      <th></th>\n",
       "      <th></th>\n",
       "      <th></th>\n",
       "      <th></th>\n",
       "    </tr>\n",
       "  </thead>\n",
       "  <tbody>\n",
       "    <tr>\n",
       "      <th>Charged Off</th>\n",
       "      <td>261,593.00</td>\n",
       "      <td>20.16</td>\n",
       "      <td>11.29</td>\n",
       "      <td>0.00</td>\n",
       "      <td>13.58</td>\n",
       "      <td>19.77</td>\n",
       "      <td>26.31</td>\n",
       "      <td>999.00</td>\n",
       "    </tr>\n",
       "    <tr>\n",
       "      <th>Fully Paid</th>\n",
       "      <td>1,041,702.00</td>\n",
       "      <td>17.78</td>\n",
       "      <td>10.80</td>\n",
       "      <td>-1.00</td>\n",
       "      <td>11.42</td>\n",
       "      <td>17.09</td>\n",
       "      <td>23.41</td>\n",
       "      <td>999.00</td>\n",
       "    </tr>\n",
       "  </tbody>\n",
       "</table>\n",
       "</div>"
      ],
      "text/plain": [
       "                   count  mean   std   min   25%   50%   75%    max\n",
       "loan_status                                                        \n",
       "Charged Off   261,593.00 20.16 11.29  0.00 13.58 19.77 26.31 999.00\n",
       "Fully Paid  1,041,702.00 17.78 10.80 -1.00 11.42 17.09 23.41 999.00"
      ]
     },
     "execution_count": 1212,
     "metadata": {},
     "output_type": "execute_result"
    }
   ],
   "source": [
    "data.groupby('loan_status')['dti'].describe()"
   ]
  },
  {
   "cell_type": "markdown",
   "metadata": {},
   "source": [
    "**Earliest Credit Line**"
   ]
  },
  {
   "cell_type": "markdown",
   "metadata": {},
   "source": [
    "Based on further inference into the data most borrowers earliest credit line was opened in 2000. Those who opened credit lines more recently seem to be charged off more.  "
   ]
  },
  {
   "cell_type": "code",
   "execution_count": 1213,
   "metadata": {},
   "outputs": [
    {
     "data": {
      "text/plain": [
       "count   1,303,607.00\n",
       "mean        1,998.65\n",
       "std             7.59\n",
       "min         1,934.00\n",
       "25%         1,995.00\n",
       "50%         2,000.00\n",
       "75%         2,004.00\n",
       "max         2,015.00\n",
       "Name: earliest_cr_line, dtype: float64"
      ]
     },
     "execution_count": 1213,
     "metadata": {},
     "output_type": "execute_result"
    }
   ],
   "source": [
    "# Information about distribution of loan purposes.\n",
    "data['earliest_cr_line'].describe()"
   ]
  },
  {
   "cell_type": "code",
   "execution_count": 1214,
   "metadata": {},
   "outputs": [
    {
     "data": {
      "image/png": "[encoded data removed]",
      "text/plain": [
       "<Figure size 1080x270 with 2 Axes>"
      ]
     },
     "metadata": {
      "needs_background": "light"
     },
     "output_type": "display_data"
    }
   ],
   "source": [
    "data_explore(\"earliest_cr_line\", \"Earliest Credit Line\", True)"
   ]
  },
  {
   "cell_type": "code",
   "execution_count": 1215,
   "metadata": {
    "scrolled": false
   },
   "outputs": [
    {
     "data": {
      "text/html": [
       "<div>\n",
       "<style scoped>\n",
       "    .dataframe tbody tr th:only-of-type {\n",
       "        vertical-align: middle;\n",
       "    }\n",
       "\n",
       "    .dataframe tbody tr th {\n",
       "        vertical-align: top;\n",
       "    }\n",
       "\n",
       "    .dataframe thead th {\n",
       "        text-align: right;\n",
       "    }\n",
       "</style>\n",
       "<table border=\"1\" class=\"dataframe\">\n",
       "  <thead>\n",
       "    <tr style=\"text-align: right;\">\n",
       "      <th></th>\n",
       "      <th>count</th>\n",
       "      <th>mean</th>\n",
       "      <th>std</th>\n",
       "      <th>min</th>\n",
       "      <th>25%</th>\n",
       "      <th>50%</th>\n",
       "      <th>75%</th>\n",
       "      <th>max</th>\n",
       "    </tr>\n",
       "    <tr>\n",
       "      <th>loan_status</th>\n",
       "      <th></th>\n",
       "      <th></th>\n",
       "      <th></th>\n",
       "      <th></th>\n",
       "      <th></th>\n",
       "      <th></th>\n",
       "      <th></th>\n",
       "      <th></th>\n",
       "    </tr>\n",
       "  </thead>\n",
       "  <tbody>\n",
       "    <tr>\n",
       "      <th>Charged Off</th>\n",
       "      <td>261,655.00</td>\n",
       "      <td>1,999.32</td>\n",
       "      <td>7.57</td>\n",
       "      <td>1,944.00</td>\n",
       "      <td>1,996.00</td>\n",
       "      <td>2,001.00</td>\n",
       "      <td>2,004.00</td>\n",
       "      <td>2,015.00</td>\n",
       "    </tr>\n",
       "    <tr>\n",
       "      <th>Fully Paid</th>\n",
       "      <td>1,041,952.00</td>\n",
       "      <td>1,998.48</td>\n",
       "      <td>7.59</td>\n",
       "      <td>1,934.00</td>\n",
       "      <td>1,995.00</td>\n",
       "      <td>2,000.00</td>\n",
       "      <td>2,004.00</td>\n",
       "      <td>2,015.00</td>\n",
       "    </tr>\n",
       "  </tbody>\n",
       "</table>\n",
       "</div>"
      ],
      "text/plain": [
       "                   count     mean  std      min      25%      50%      75%  \\\n",
       "loan_status                                                                  \n",
       "Charged Off   261,655.00 1,999.32 7.57 1,944.00 1,996.00 2,001.00 2,004.00   \n",
       "Fully Paid  1,041,952.00 1,998.48 7.59 1,934.00 1,995.00 2,000.00 2,004.00   \n",
       "\n",
       "                 max  \n",
       "loan_status           \n",
       "Charged Off 2,015.00  \n",
       "Fully Paid  2,015.00  "
      ]
     },
     "execution_count": 1215,
     "metadata": {},
     "output_type": "execute_result"
    }
   ],
   "source": [
    "data.groupby('loan_status')['earliest_cr_line'].describe()"
   ]
  },
  {
   "cell_type": "markdown",
   "metadata": {},
   "source": [
    "**Open Accounts**"
   ]
  },
  {
   "cell_type": "markdown",
   "metadata": {},
   "source": [
    "Borrowers seems to have the same number of open accounts whether they defaulted or paid."
   ]
  },
  {
   "cell_type": "code",
   "execution_count": 1216,
   "metadata": {},
   "outputs": [
    {
     "data": {
      "text/plain": [
       "count   1,303,607.00\n",
       "mean           11.59\n",
       "std             5.47\n",
       "min             0.00\n",
       "25%             8.00\n",
       "50%            11.00\n",
       "75%            14.00\n",
       "max            90.00\n",
       "Name: open_acc, dtype: float64"
      ]
     },
     "execution_count": 1216,
     "metadata": {},
     "output_type": "execute_result"
    }
   ],
   "source": [
    "# Information about distribution of loan purposes.\n",
    "data['open_acc'].describe()"
   ]
  },
  {
   "cell_type": "code",
   "execution_count": 1217,
   "metadata": {},
   "outputs": [
    {
     "data": {
      "image/png": "[encoded data removed]",
      "text/plain": [
       "<Figure size 1080x270 with 2 Axes>"
      ]
     },
     "metadata": {
      "needs_background": "light"
     },
     "output_type": "display_data"
    }
   ],
   "source": [
    "data_explore(\"open_acc\", \"Open Accounts\", True)"
   ]
  },
  {
   "cell_type": "code",
   "execution_count": 1218,
   "metadata": {
    "scrolled": false
   },
   "outputs": [
    {
     "data": {
      "text/html": [
       "<div>\n",
       "<style scoped>\n",
       "    .dataframe tbody tr th:only-of-type {\n",
       "        vertical-align: middle;\n",
       "    }\n",
       "\n",
       "    .dataframe tbody tr th {\n",
       "        vertical-align: top;\n",
       "    }\n",
       "\n",
       "    .dataframe thead th {\n",
       "        text-align: right;\n",
       "    }\n",
       "</style>\n",
       "<table border=\"1\" class=\"dataframe\">\n",
       "  <thead>\n",
       "    <tr style=\"text-align: right;\">\n",
       "      <th></th>\n",
       "      <th>count</th>\n",
       "      <th>mean</th>\n",
       "      <th>std</th>\n",
       "      <th>min</th>\n",
       "      <th>25%</th>\n",
       "      <th>50%</th>\n",
       "      <th>75%</th>\n",
       "      <th>max</th>\n",
       "    </tr>\n",
       "    <tr>\n",
       "      <th>loan_status</th>\n",
       "      <th></th>\n",
       "      <th></th>\n",
       "      <th></th>\n",
       "      <th></th>\n",
       "      <th></th>\n",
       "      <th></th>\n",
       "      <th></th>\n",
       "      <th></th>\n",
       "    </tr>\n",
       "  </thead>\n",
       "  <tbody>\n",
       "    <tr>\n",
       "      <th>Charged Off</th>\n",
       "      <td>261,655.00</td>\n",
       "      <td>11.91</td>\n",
       "      <td>5.63</td>\n",
       "      <td>0.00</td>\n",
       "      <td>8.00</td>\n",
       "      <td>11.00</td>\n",
       "      <td>15.00</td>\n",
       "      <td>76.00</td>\n",
       "    </tr>\n",
       "    <tr>\n",
       "      <th>Fully Paid</th>\n",
       "      <td>1,041,952.00</td>\n",
       "      <td>11.51</td>\n",
       "      <td>5.42</td>\n",
       "      <td>0.00</td>\n",
       "      <td>8.00</td>\n",
       "      <td>11.00</td>\n",
       "      <td>14.00</td>\n",
       "      <td>90.00</td>\n",
       "    </tr>\n",
       "  </tbody>\n",
       "</table>\n",
       "</div>"
      ],
      "text/plain": [
       "                   count  mean  std  min  25%   50%   75%   max\n",
       "loan_status                                                    \n",
       "Charged Off   261,655.00 11.91 5.63 0.00 8.00 11.00 15.00 76.00\n",
       "Fully Paid  1,041,952.00 11.51 5.42 0.00 8.00 11.00 14.00 90.00"
      ]
     },
     "execution_count": 1218,
     "metadata": {},
     "output_type": "execute_result"
    }
   ],
   "source": [
    "data.groupby('loan_status')['open_acc'].describe()"
   ]
  },
  {
   "cell_type": "markdown",
   "metadata": {},
   "source": [
    "**Public Records**"
   ]
  },
  {
   "cell_type": "markdown",
   "metadata": {},
   "source": [
    "Seems that there are only outliers for public records this feature wont reveal much. Since in reality it was much more likely that an applicant is not a criminal."
   ]
  },
  {
   "cell_type": "code",
   "execution_count": 1219,
   "metadata": {},
   "outputs": [
    {
     "data": {
      "text/plain": [
       "count   1,303,607.00\n",
       "mean            0.22\n",
       "std             0.60\n",
       "min             0.00\n",
       "25%             0.00\n",
       "50%             0.00\n",
       "75%             0.00\n",
       "max            86.00\n",
       "Name: pub_rec, dtype: float64"
      ]
     },
     "execution_count": 1219,
     "metadata": {},
     "output_type": "execute_result"
    }
   ],
   "source": [
    "# Information about distribution of loan purposes.\n",
    "data['pub_rec'].describe()"
   ]
  },
  {
   "cell_type": "code",
   "execution_count": 1220,
   "metadata": {},
   "outputs": [
    {
     "data": {
      "image/png": "[encoded data removed]",
      "text/plain": [
       "<Figure size 1080x270 with 2 Axes>"
      ]
     },
     "metadata": {
      "needs_background": "light"
     },
     "output_type": "display_data"
    }
   ],
   "source": [
    "data_explore(\"pub_rec\", \"Public Records\", True)"
   ]
  },
  {
   "cell_type": "code",
   "execution_count": 1221,
   "metadata": {
    "scrolled": false
   },
   "outputs": [
    {
     "data": {
      "text/html": [
       "<div>\n",
       "<style scoped>\n",
       "    .dataframe tbody tr th:only-of-type {\n",
       "        vertical-align: middle;\n",
       "    }\n",
       "\n",
       "    .dataframe tbody tr th {\n",
       "        vertical-align: top;\n",
       "    }\n",
       "\n",
       "    .dataframe thead th {\n",
       "        text-align: right;\n",
       "    }\n",
       "</style>\n",
       "<table border=\"1\" class=\"dataframe\">\n",
       "  <thead>\n",
       "    <tr style=\"text-align: right;\">\n",
       "      <th></th>\n",
       "      <th>count</th>\n",
       "      <th>mean</th>\n",
       "      <th>std</th>\n",
       "      <th>min</th>\n",
       "      <th>25%</th>\n",
       "      <th>50%</th>\n",
       "      <th>75%</th>\n",
       "      <th>max</th>\n",
       "    </tr>\n",
       "    <tr>\n",
       "      <th>loan_status</th>\n",
       "      <th></th>\n",
       "      <th></th>\n",
       "      <th></th>\n",
       "      <th></th>\n",
       "      <th></th>\n",
       "      <th></th>\n",
       "      <th></th>\n",
       "      <th></th>\n",
       "    </tr>\n",
       "  </thead>\n",
       "  <tbody>\n",
       "    <tr>\n",
       "      <th>Charged Off</th>\n",
       "      <td>261,655.00</td>\n",
       "      <td>0.25</td>\n",
       "      <td>0.66</td>\n",
       "      <td>0.00</td>\n",
       "      <td>0.00</td>\n",
       "      <td>0.00</td>\n",
       "      <td>0.00</td>\n",
       "      <td>86.00</td>\n",
       "    </tr>\n",
       "    <tr>\n",
       "      <th>Fully Paid</th>\n",
       "      <td>1,041,952.00</td>\n",
       "      <td>0.21</td>\n",
       "      <td>0.59</td>\n",
       "      <td>0.00</td>\n",
       "      <td>0.00</td>\n",
       "      <td>0.00</td>\n",
       "      <td>0.00</td>\n",
       "      <td>63.00</td>\n",
       "    </tr>\n",
       "  </tbody>\n",
       "</table>\n",
       "</div>"
      ],
      "text/plain": [
       "                   count  mean  std  min  25%  50%  75%   max\n",
       "loan_status                                                  \n",
       "Charged Off   261,655.00  0.25 0.66 0.00 0.00 0.00 0.00 86.00\n",
       "Fully Paid  1,041,952.00  0.21 0.59 0.00 0.00 0.00 0.00 63.00"
      ]
     },
     "execution_count": 1221,
     "metadata": {},
     "output_type": "execute_result"
    }
   ],
   "source": [
    "data.groupby('loan_status')['pub_rec'].describe()"
   ]
  },
  {
   "cell_type": "markdown",
   "metadata": {},
   "source": [
    "**Credit Revolving Balance**"
   ]
  },
  {
   "cell_type": "markdown",
   "metadata": {},
   "source": [
    "Based on further inference into the data most borrowers on average have a revolving balance of 16,000. The data is very sparse so a log transformation will be used to normalize and get better inference. Revolving balance seems to be the same for both paid and charged off loans.  "
   ]
  },
  {
   "cell_type": "code",
   "execution_count": 1222,
   "metadata": {},
   "outputs": [
    {
     "data": {
      "text/plain": [
       "count   1,303,607.00\n",
       "mean       16,235.99\n",
       "std        22,286.29\n",
       "min             0.00\n",
       "25%         5,952.00\n",
       "50%        11,140.00\n",
       "75%        19,748.00\n",
       "max     2,904,836.00\n",
       "Name: revol_bal, dtype: float64"
      ]
     },
     "execution_count": 1222,
     "metadata": {},
     "output_type": "execute_result"
    }
   ],
   "source": [
    "# Information about distribution of loan purposes.\n",
    "data['revol_bal'].describe()"
   ]
  },
  {
   "cell_type": "code",
   "execution_count": 1223,
   "metadata": {},
   "outputs": [],
   "source": [
    "data['revol_bal'] = data['revol_bal'].apply(lambda x: np.log10(x+1))"
   ]
  },
  {
   "cell_type": "code",
   "execution_count": 1224,
   "metadata": {},
   "outputs": [
    {
     "data": {
      "text/plain": [
       "count   1,303,607.00\n",
       "mean            3.99\n",
       "std             0.53\n",
       "min             0.00\n",
       "25%             3.77\n",
       "50%             4.05\n",
       "75%             4.30\n",
       "max             6.46\n",
       "Name: revol_bal, dtype: float64"
      ]
     },
     "execution_count": 1224,
     "metadata": {},
     "output_type": "execute_result"
    }
   ],
   "source": [
    "data['revol_bal'].describe()"
   ]
  },
  {
   "cell_type": "code",
   "execution_count": 1225,
   "metadata": {},
   "outputs": [
    {
     "data": {
      "image/png": "[encoded data removed]",
      "text/plain": [
       "<Figure size 1080x270 with 2 Axes>"
      ]
     },
     "metadata": {
      "needs_background": "light"
     },
     "output_type": "display_data"
    }
   ],
   "source": [
    "data_explore(\"revol_bal\", \"Revol Balance\", True)"
   ]
  },
  {
   "cell_type": "code",
   "execution_count": 1226,
   "metadata": {
    "scrolled": false
   },
   "outputs": [
    {
     "data": {
      "text/html": [
       "<div>\n",
       "<style scoped>\n",
       "    .dataframe tbody tr th:only-of-type {\n",
       "        vertical-align: middle;\n",
       "    }\n",
       "\n",
       "    .dataframe tbody tr th {\n",
       "        vertical-align: top;\n",
       "    }\n",
       "\n",
       "    .dataframe thead th {\n",
       "        text-align: right;\n",
       "    }\n",
       "</style>\n",
       "<table border=\"1\" class=\"dataframe\">\n",
       "  <thead>\n",
       "    <tr style=\"text-align: right;\">\n",
       "      <th></th>\n",
       "      <th>count</th>\n",
       "      <th>mean</th>\n",
       "      <th>std</th>\n",
       "      <th>min</th>\n",
       "      <th>25%</th>\n",
       "      <th>50%</th>\n",
       "      <th>75%</th>\n",
       "      <th>max</th>\n",
       "    </tr>\n",
       "    <tr>\n",
       "      <th>loan_status</th>\n",
       "      <th></th>\n",
       "      <th></th>\n",
       "      <th></th>\n",
       "      <th></th>\n",
       "      <th></th>\n",
       "      <th></th>\n",
       "      <th></th>\n",
       "      <th></th>\n",
       "    </tr>\n",
       "  </thead>\n",
       "  <tbody>\n",
       "    <tr>\n",
       "      <th>Charged Off</th>\n",
       "      <td>261,655.00</td>\n",
       "      <td>3.99</td>\n",
       "      <td>0.51</td>\n",
       "      <td>0.00</td>\n",
       "      <td>3.78</td>\n",
       "      <td>4.04</td>\n",
       "      <td>4.28</td>\n",
       "      <td>6.24</td>\n",
       "    </tr>\n",
       "    <tr>\n",
       "      <th>Fully Paid</th>\n",
       "      <td>1,041,952.00</td>\n",
       "      <td>3.99</td>\n",
       "      <td>0.53</td>\n",
       "      <td>0.00</td>\n",
       "      <td>3.77</td>\n",
       "      <td>4.05</td>\n",
       "      <td>4.30</td>\n",
       "      <td>6.46</td>\n",
       "    </tr>\n",
       "  </tbody>\n",
       "</table>\n",
       "</div>"
      ],
      "text/plain": [
       "                   count  mean  std  min  25%  50%  75%  max\n",
       "loan_status                                                 \n",
       "Charged Off   261,655.00  3.99 0.51 0.00 3.78 4.04 4.28 6.24\n",
       "Fully Paid  1,041,952.00  3.99 0.53 0.00 3.77 4.05 4.30 6.46"
      ]
     },
     "execution_count": 1226,
     "metadata": {},
     "output_type": "execute_result"
    }
   ],
   "source": [
    "data.groupby('loan_status')['revol_bal'].describe()"
   ]
  },
  {
   "cell_type": "markdown",
   "metadata": {},
   "source": [
    "**Revolving Utilization Rate**"
   ]
  },
  {
   "cell_type": "markdown",
   "metadata": {},
   "source": [
    "Based on further inference into the data those who charged of have a higher revolving utilization rate than the average.  "
   ]
  },
  {
   "cell_type": "code",
   "execution_count": 1227,
   "metadata": {},
   "outputs": [
    {
     "data": {
      "text/plain": [
       "count   1,302,797.00\n",
       "mean           51.91\n",
       "std            24.50\n",
       "min             0.00\n",
       "25%            33.60\n",
       "50%            52.30\n",
       "75%            70.80\n",
       "max           892.30\n",
       "Name: revol_util, dtype: float64"
      ]
     },
     "execution_count": 1227,
     "metadata": {},
     "output_type": "execute_result"
    }
   ],
   "source": [
    "# Information about distribution of loan purposes.\n",
    "data['revol_util'].describe()"
   ]
  },
  {
   "cell_type": "code",
   "execution_count": 1228,
   "metadata": {},
   "outputs": [
    {
     "data": {
      "image/png": "[encoded data removed]",
      "text/plain": [
       "<Figure size 1080x270 with 2 Axes>"
      ]
     },
     "metadata": {
      "needs_background": "light"
     },
     "output_type": "display_data"
    }
   ],
   "source": [
    "data_explore(\"revol_util\", \"Revolving Utilization Rate\", True)"
   ]
  },
  {
   "cell_type": "code",
   "execution_count": 1229,
   "metadata": {
    "scrolled": false
   },
   "outputs": [
    {
     "data": {
      "text/html": [
       "<div>\n",
       "<style scoped>\n",
       "    .dataframe tbody tr th:only-of-type {\n",
       "        vertical-align: middle;\n",
       "    }\n",
       "\n",
       "    .dataframe tbody tr th {\n",
       "        vertical-align: top;\n",
       "    }\n",
       "\n",
       "    .dataframe thead th {\n",
       "        text-align: right;\n",
       "    }\n",
       "</style>\n",
       "<table border=\"1\" class=\"dataframe\">\n",
       "  <thead>\n",
       "    <tr style=\"text-align: right;\">\n",
       "      <th></th>\n",
       "      <th>count</th>\n",
       "      <th>mean</th>\n",
       "      <th>std</th>\n",
       "      <th>min</th>\n",
       "      <th>25%</th>\n",
       "      <th>50%</th>\n",
       "      <th>75%</th>\n",
       "      <th>max</th>\n",
       "    </tr>\n",
       "    <tr>\n",
       "      <th>loan_status</th>\n",
       "      <th></th>\n",
       "      <th></th>\n",
       "      <th></th>\n",
       "      <th></th>\n",
       "      <th></th>\n",
       "      <th></th>\n",
       "      <th></th>\n",
       "      <th></th>\n",
       "    </tr>\n",
       "  </thead>\n",
       "  <tbody>\n",
       "    <tr>\n",
       "      <th>Charged Off</th>\n",
       "      <td>261,487.00</td>\n",
       "      <td>54.90</td>\n",
       "      <td>23.83</td>\n",
       "      <td>0.00</td>\n",
       "      <td>37.60</td>\n",
       "      <td>55.70</td>\n",
       "      <td>73.20</td>\n",
       "      <td>366.60</td>\n",
       "    </tr>\n",
       "    <tr>\n",
       "      <th>Fully Paid</th>\n",
       "      <td>1,041,310.00</td>\n",
       "      <td>51.16</td>\n",
       "      <td>24.61</td>\n",
       "      <td>0.00</td>\n",
       "      <td>32.60</td>\n",
       "      <td>51.40</td>\n",
       "      <td>70.10</td>\n",
       "      <td>892.30</td>\n",
       "    </tr>\n",
       "  </tbody>\n",
       "</table>\n",
       "</div>"
      ],
      "text/plain": [
       "                   count  mean   std  min   25%   50%   75%    max\n",
       "loan_status                                                       \n",
       "Charged Off   261,487.00 54.90 23.83 0.00 37.60 55.70 73.20 366.60\n",
       "Fully Paid  1,041,310.00 51.16 24.61 0.00 32.60 51.40 70.10 892.30"
      ]
     },
     "execution_count": 1229,
     "metadata": {},
     "output_type": "execute_result"
    }
   ],
   "source": [
    "data.groupby('loan_status')['revol_util'].describe()"
   ]
  },
  {
   "cell_type": "markdown",
   "metadata": {},
   "source": [
    "**Total Accounts**"
   ]
  },
  {
   "cell_type": "markdown",
   "metadata": {},
   "source": [
    "Based on further inference into the data total number acocunds is virtually the same for borrowers who defaulted and those who paid.  "
   ]
  },
  {
   "cell_type": "code",
   "execution_count": 1230,
   "metadata": {},
   "outputs": [
    {
     "data": {
      "text/plain": [
       "count   1,303,607.00\n",
       "mean           25.02\n",
       "std            12.00\n",
       "min             2.00\n",
       "25%            16.00\n",
       "50%            23.00\n",
       "75%            32.00\n",
       "max           176.00\n",
       "Name: total_acc, dtype: float64"
      ]
     },
     "execution_count": 1230,
     "metadata": {},
     "output_type": "execute_result"
    }
   ],
   "source": [
    "# Information about distribution of loan purposes.\n",
    "data['total_acc'].describe()"
   ]
  },
  {
   "cell_type": "code",
   "execution_count": 1231,
   "metadata": {},
   "outputs": [
    {
     "data": {
      "image/png": "[encoded data removed]",
      "text/plain": [
       "<Figure size 1080x270 with 2 Axes>"
      ]
     },
     "metadata": {
      "needs_background": "light"
     },
     "output_type": "display_data"
    }
   ],
   "source": [
    "data_explore(\"total_acc\", \"Total Accounts\", True)"
   ]
  },
  {
   "cell_type": "code",
   "execution_count": 1232,
   "metadata": {
    "scrolled": false
   },
   "outputs": [
    {
     "data": {
      "text/html": [
       "<div>\n",
       "<style scoped>\n",
       "    .dataframe tbody tr th:only-of-type {\n",
       "        vertical-align: middle;\n",
       "    }\n",
       "\n",
       "    .dataframe tbody tr th {\n",
       "        vertical-align: top;\n",
       "    }\n",
       "\n",
       "    .dataframe thead th {\n",
       "        text-align: right;\n",
       "    }\n",
       "</style>\n",
       "<table border=\"1\" class=\"dataframe\">\n",
       "  <thead>\n",
       "    <tr style=\"text-align: right;\">\n",
       "      <th></th>\n",
       "      <th>count</th>\n",
       "      <th>mean</th>\n",
       "      <th>std</th>\n",
       "      <th>min</th>\n",
       "      <th>25%</th>\n",
       "      <th>50%</th>\n",
       "      <th>75%</th>\n",
       "      <th>max</th>\n",
       "    </tr>\n",
       "    <tr>\n",
       "      <th>loan_status</th>\n",
       "      <th></th>\n",
       "      <th></th>\n",
       "      <th></th>\n",
       "      <th></th>\n",
       "      <th></th>\n",
       "      <th></th>\n",
       "      <th></th>\n",
       "      <th></th>\n",
       "    </tr>\n",
       "  </thead>\n",
       "  <tbody>\n",
       "    <tr>\n",
       "      <th>Charged Off</th>\n",
       "      <td>261,655.00</td>\n",
       "      <td>24.75</td>\n",
       "      <td>12.11</td>\n",
       "      <td>2.00</td>\n",
       "      <td>16.00</td>\n",
       "      <td>23.00</td>\n",
       "      <td>32.00</td>\n",
       "      <td>176.00</td>\n",
       "    </tr>\n",
       "    <tr>\n",
       "      <th>Fully Paid</th>\n",
       "      <td>1,041,952.00</td>\n",
       "      <td>25.09</td>\n",
       "      <td>11.96</td>\n",
       "      <td>2.00</td>\n",
       "      <td>16.00</td>\n",
       "      <td>23.00</td>\n",
       "      <td>32.00</td>\n",
       "      <td>162.00</td>\n",
       "    </tr>\n",
       "  </tbody>\n",
       "</table>\n",
       "</div>"
      ],
      "text/plain": [
       "                   count  mean   std  min   25%   50%   75%    max\n",
       "loan_status                                                       \n",
       "Charged Off   261,655.00 24.75 12.11 2.00 16.00 23.00 32.00 176.00\n",
       "Fully Paid  1,041,952.00 25.09 11.96 2.00 16.00 23.00 32.00 162.00"
      ]
     },
     "execution_count": 1232,
     "metadata": {},
     "output_type": "execute_result"
    }
   ],
   "source": [
    "data.groupby('loan_status')['total_acc'].describe()"
   ]
  },
  {
   "cell_type": "markdown",
   "metadata": {},
   "source": [
    "**Application Type**"
   ]
  },
  {
   "cell_type": "markdown",
   "metadata": {},
   "source": [
    "Based on further inference into the data almost all applications were individual, but almost 25% of joint applications defualted.  "
   ]
  },
  {
   "cell_type": "code",
   "execution_count": 1233,
   "metadata": {},
   "outputs": [
    {
     "data": {
      "text/plain": [
       "count        1303607\n",
       "unique             2\n",
       "top       Individual\n",
       "freq         1280370\n",
       "Name: application_type, dtype: object"
      ]
     },
     "execution_count": 1233,
     "metadata": {},
     "output_type": "execute_result"
    }
   ],
   "source": [
    "# Information about distribution of loan purposes.\n",
    "data['application_type'].describe()"
   ]
  },
  {
   "cell_type": "code",
   "execution_count": 1234,
   "metadata": {},
   "outputs": [
    {
     "data": {
      "image/png": "[encoded data removed]",
      "text/plain": [
       "<Figure size 1080x270 with 2 Axes>"
      ]
     },
     "metadata": {
      "needs_background": "light"
     },
     "output_type": "display_data"
    }
   ],
   "source": [
    "data_explore(\"application_type\", \"Application Type\", False)"
   ]
  },
  {
   "cell_type": "code",
   "execution_count": 1235,
   "metadata": {
    "scrolled": false
   },
   "outputs": [
    {
     "data": {
      "text/html": [
       "<div>\n",
       "<style scoped>\n",
       "    .dataframe tbody tr th:only-of-type {\n",
       "        vertical-align: middle;\n",
       "    }\n",
       "\n",
       "    .dataframe tbody tr th {\n",
       "        vertical-align: top;\n",
       "    }\n",
       "\n",
       "    .dataframe thead th {\n",
       "        text-align: right;\n",
       "    }\n",
       "</style>\n",
       "<table border=\"1\" class=\"dataframe\">\n",
       "  <thead>\n",
       "    <tr style=\"text-align: right;\">\n",
       "      <th></th>\n",
       "      <th>count</th>\n",
       "      <th>unique</th>\n",
       "      <th>top</th>\n",
       "      <th>freq</th>\n",
       "    </tr>\n",
       "    <tr>\n",
       "      <th>loan_status</th>\n",
       "      <th></th>\n",
       "      <th></th>\n",
       "      <th></th>\n",
       "      <th></th>\n",
       "    </tr>\n",
       "  </thead>\n",
       "  <tbody>\n",
       "    <tr>\n",
       "      <th>Charged Off</th>\n",
       "      <td>261655</td>\n",
       "      <td>2</td>\n",
       "      <td>Individual</td>\n",
       "      <td>255926</td>\n",
       "    </tr>\n",
       "    <tr>\n",
       "      <th>Fully Paid</th>\n",
       "      <td>1041952</td>\n",
       "      <td>2</td>\n",
       "      <td>Individual</td>\n",
       "      <td>1024444</td>\n",
       "    </tr>\n",
       "  </tbody>\n",
       "</table>\n",
       "</div>"
      ],
      "text/plain": [
       "               count unique         top     freq\n",
       "loan_status                                     \n",
       "Charged Off   261655      2  Individual   255926\n",
       "Fully Paid   1041952      2  Individual  1024444"
      ]
     },
     "execution_count": 1235,
     "metadata": {},
     "output_type": "execute_result"
    }
   ],
   "source": [
    "data.groupby('loan_status')['application_type'].describe()"
   ]
  },
  {
   "cell_type": "markdown",
   "metadata": {},
   "source": [
    "**Mortgage Accounts**"
   ]
  },
  {
   "cell_type": "markdown",
   "metadata": {},
   "source": [
    "Based on further inference into the data most borrowers that default on loans have less mortgage accounts than those who pay off loans.  "
   ]
  },
  {
   "cell_type": "code",
   "execution_count": 1236,
   "metadata": {},
   "outputs": [
    {
     "data": {
      "text/plain": [
       "count   1,256,326.00\n",
       "mean            1.68\n",
       "std             2.01\n",
       "min             0.00\n",
       "25%             0.00\n",
       "50%             1.00\n",
       "75%             3.00\n",
       "max            51.00\n",
       "Name: mort_acc, dtype: float64"
      ]
     },
     "execution_count": 1236,
     "metadata": {},
     "output_type": "execute_result"
    }
   ],
   "source": [
    "# Information about distribution of loan purposes.\n",
    "data['mort_acc'].describe()"
   ]
  },
  {
   "cell_type": "code",
   "execution_count": 1237,
   "metadata": {},
   "outputs": [
    {
     "data": {
      "image/png": "[encoded data removed]",
      "text/plain": [
       "<Figure size 1080x270 with 2 Axes>"
      ]
     },
     "metadata": {
      "needs_background": "light"
     },
     "output_type": "display_data"
    }
   ],
   "source": [
    "data_explore(\"mort_acc\", \"Mortgage Accounts Type\", True)"
   ]
  },
  {
   "cell_type": "code",
   "execution_count": 1238,
   "metadata": {
    "scrolled": false
   },
   "outputs": [
    {
     "data": {
      "text/html": [
       "<div>\n",
       "<style scoped>\n",
       "    .dataframe tbody tr th:only-of-type {\n",
       "        vertical-align: middle;\n",
       "    }\n",
       "\n",
       "    .dataframe tbody tr th {\n",
       "        vertical-align: top;\n",
       "    }\n",
       "\n",
       "    .dataframe thead th {\n",
       "        text-align: right;\n",
       "    }\n",
       "</style>\n",
       "<table border=\"1\" class=\"dataframe\">\n",
       "  <thead>\n",
       "    <tr style=\"text-align: right;\">\n",
       "      <th></th>\n",
       "      <th>count</th>\n",
       "      <th>mean</th>\n",
       "      <th>std</th>\n",
       "      <th>min</th>\n",
       "      <th>25%</th>\n",
       "      <th>50%</th>\n",
       "      <th>75%</th>\n",
       "      <th>max</th>\n",
       "    </tr>\n",
       "    <tr>\n",
       "      <th>loan_status</th>\n",
       "      <th></th>\n",
       "      <th></th>\n",
       "      <th></th>\n",
       "      <th></th>\n",
       "      <th></th>\n",
       "      <th></th>\n",
       "      <th></th>\n",
       "      <th></th>\n",
       "    </tr>\n",
       "  </thead>\n",
       "  <tbody>\n",
       "    <tr>\n",
       "      <th>Charged Off</th>\n",
       "      <td>254,769.00</td>\n",
       "      <td>1.38</td>\n",
       "      <td>1.83</td>\n",
       "      <td>0.00</td>\n",
       "      <td>0.00</td>\n",
       "      <td>1.00</td>\n",
       "      <td>2.00</td>\n",
       "      <td>29.00</td>\n",
       "    </tr>\n",
       "    <tr>\n",
       "      <th>Fully Paid</th>\n",
       "      <td>1,001,557.00</td>\n",
       "      <td>1.75</td>\n",
       "      <td>2.04</td>\n",
       "      <td>0.00</td>\n",
       "      <td>0.00</td>\n",
       "      <td>1.00</td>\n",
       "      <td>3.00</td>\n",
       "      <td>51.00</td>\n",
       "    </tr>\n",
       "  </tbody>\n",
       "</table>\n",
       "</div>"
      ],
      "text/plain": [
       "                   count  mean  std  min  25%  50%  75%   max\n",
       "loan_status                                                  \n",
       "Charged Off   254,769.00  1.38 1.83 0.00 0.00 1.00 2.00 29.00\n",
       "Fully Paid  1,001,557.00  1.75 2.04 0.00 0.00 1.00 3.00 51.00"
      ]
     },
     "execution_count": 1238,
     "metadata": {},
     "output_type": "execute_result"
    }
   ],
   "source": [
    "data.groupby('loan_status')['mort_acc'].describe()"
   ]
  },
  {
   "cell_type": "markdown",
   "metadata": {},
   "source": [
    "**Public Recorded Bankruptcies**"
   ]
  },
  {
   "cell_type": "markdown",
   "metadata": {},
   "source": [
    "Based on further inference into the data essentially all borrowers despite whether the loan was charged off or not had no public recorded bankruptcies.  "
   ]
  },
  {
   "cell_type": "code",
   "execution_count": 1239,
   "metadata": {},
   "outputs": [
    {
     "data": {
      "text/plain": [
       "count   1,302,910.00\n",
       "mean            0.13\n",
       "std             0.38\n",
       "min             0.00\n",
       "25%             0.00\n",
       "50%             0.00\n",
       "75%             0.00\n",
       "max            12.00\n",
       "Name: pub_rec_bankruptcies, dtype: float64"
      ]
     },
     "execution_count": 1239,
     "metadata": {},
     "output_type": "execute_result"
    }
   ],
   "source": [
    "# Information about distribution of loan purposes.\n",
    "data['pub_rec_bankruptcies'].describe()"
   ]
  },
  {
   "cell_type": "code",
   "execution_count": 1240,
   "metadata": {},
   "outputs": [
    {
     "data": {
      "image/png": "[encoded data removed]",
      "text/plain": [
       "<Figure size 1080x270 with 2 Axes>"
      ]
     },
     "metadata": {
      "needs_background": "light"
     },
     "output_type": "display_data"
    }
   ],
   "source": [
    "data_explore(\"pub_rec_bankruptcies\", \"Application Type\", True)"
   ]
  },
  {
   "cell_type": "code",
   "execution_count": 1241,
   "metadata": {
    "scrolled": false
   },
   "outputs": [
    {
     "data": {
      "text/html": [
       "<div>\n",
       "<style scoped>\n",
       "    .dataframe tbody tr th:only-of-type {\n",
       "        vertical-align: middle;\n",
       "    }\n",
       "\n",
       "    .dataframe tbody tr th {\n",
       "        vertical-align: top;\n",
       "    }\n",
       "\n",
       "    .dataframe thead th {\n",
       "        text-align: right;\n",
       "    }\n",
       "</style>\n",
       "<table border=\"1\" class=\"dataframe\">\n",
       "  <thead>\n",
       "    <tr style=\"text-align: right;\">\n",
       "      <th></th>\n",
       "      <th>count</th>\n",
       "      <th>mean</th>\n",
       "      <th>std</th>\n",
       "      <th>min</th>\n",
       "      <th>25%</th>\n",
       "      <th>50%</th>\n",
       "      <th>75%</th>\n",
       "      <th>max</th>\n",
       "    </tr>\n",
       "    <tr>\n",
       "      <th>loan_status</th>\n",
       "      <th></th>\n",
       "      <th></th>\n",
       "      <th></th>\n",
       "      <th></th>\n",
       "      <th></th>\n",
       "      <th></th>\n",
       "      <th></th>\n",
       "      <th></th>\n",
       "    </tr>\n",
       "  </thead>\n",
       "  <tbody>\n",
       "    <tr>\n",
       "      <th>Charged Off</th>\n",
       "      <td>261,537.00</td>\n",
       "      <td>0.15</td>\n",
       "      <td>0.40</td>\n",
       "      <td>0.00</td>\n",
       "      <td>0.00</td>\n",
       "      <td>0.00</td>\n",
       "      <td>0.00</td>\n",
       "      <td>11.00</td>\n",
       "    </tr>\n",
       "    <tr>\n",
       "      <th>Fully Paid</th>\n",
       "      <td>1,041,373.00</td>\n",
       "      <td>0.13</td>\n",
       "      <td>0.37</td>\n",
       "      <td>0.00</td>\n",
       "      <td>0.00</td>\n",
       "      <td>0.00</td>\n",
       "      <td>0.00</td>\n",
       "      <td>12.00</td>\n",
       "    </tr>\n",
       "  </tbody>\n",
       "</table>\n",
       "</div>"
      ],
      "text/plain": [
       "                   count  mean  std  min  25%  50%  75%   max\n",
       "loan_status                                                  \n",
       "Charged Off   261,537.00  0.15 0.40 0.00 0.00 0.00 0.00 11.00\n",
       "Fully Paid  1,041,373.00  0.13 0.37 0.00 0.00 0.00 0.00 12.00"
      ]
     },
     "execution_count": 1241,
     "metadata": {},
     "output_type": "execute_result"
    }
   ],
   "source": [
    "data.groupby('loan_status')['pub_rec_bankruptcies'].describe()"
   ]
  },
  {
   "cell_type": "markdown",
   "metadata": {},
   "source": [
    "**Region**"
   ]
  },
  {
   "cell_type": "markdown",
   "metadata": {},
   "source": [
    "Based on further inference into the data most borrowers are form the Southeast, West, and Northeast. Almost all regions had the same amount of loans that defaulted.  "
   ]
  },
  {
   "cell_type": "code",
   "execution_count": 1242,
   "metadata": {},
   "outputs": [
    {
     "data": {
      "text/plain": [
       "count       1303607\n",
       "unique            5\n",
       "top       SouthEast\n",
       "freq         314653\n",
       "Name: region, dtype: object"
      ]
     },
     "execution_count": 1242,
     "metadata": {},
     "output_type": "execute_result"
    }
   ],
   "source": [
    "# Information about distribution of loan purposes.\n",
    "data['region'].describe()"
   ]
  },
  {
   "cell_type": "code",
   "execution_count": 1243,
   "metadata": {},
   "outputs": [
    {
     "data": {
      "image/png": "[encoded data removed]",
      "text/plain": [
       "<Figure size 1080x270 with 2 Axes>"
      ]
     },
     "metadata": {
      "needs_background": "light"
     },
     "output_type": "display_data"
    }
   ],
   "source": [
    "data_explore(\"region\", \"Region\", False)"
   ]
  },
  {
   "cell_type": "code",
   "execution_count": 1244,
   "metadata": {
    "scrolled": true
   },
   "outputs": [
    {
     "data": {
      "text/html": [
       "<div>\n",
       "<style scoped>\n",
       "    .dataframe tbody tr th:only-of-type {\n",
       "        vertical-align: middle;\n",
       "    }\n",
       "\n",
       "    .dataframe tbody tr th {\n",
       "        vertical-align: top;\n",
       "    }\n",
       "\n",
       "    .dataframe thead th {\n",
       "        text-align: right;\n",
       "    }\n",
       "</style>\n",
       "<table border=\"1\" class=\"dataframe\">\n",
       "  <thead>\n",
       "    <tr style=\"text-align: right;\">\n",
       "      <th></th>\n",
       "      <th>count</th>\n",
       "      <th>unique</th>\n",
       "      <th>top</th>\n",
       "      <th>freq</th>\n",
       "    </tr>\n",
       "    <tr>\n",
       "      <th>loan_status</th>\n",
       "      <th></th>\n",
       "      <th></th>\n",
       "      <th></th>\n",
       "      <th></th>\n",
       "    </tr>\n",
       "  </thead>\n",
       "  <tbody>\n",
       "    <tr>\n",
       "      <th>Charged Off</th>\n",
       "      <td>261655</td>\n",
       "      <td>5</td>\n",
       "      <td>SouthEast</td>\n",
       "      <td>65460</td>\n",
       "    </tr>\n",
       "    <tr>\n",
       "      <th>Fully Paid</th>\n",
       "      <td>1041952</td>\n",
       "      <td>5</td>\n",
       "      <td>West</td>\n",
       "      <td>253076</td>\n",
       "    </tr>\n",
       "  </tbody>\n",
       "</table>\n",
       "</div>"
      ],
      "text/plain": [
       "               count unique        top    freq\n",
       "loan_status                                   \n",
       "Charged Off   261655      5  SouthEast   65460\n",
       "Fully Paid   1041952      5       West  253076"
      ]
     },
     "execution_count": 1244,
     "metadata": {},
     "output_type": "execute_result"
    }
   ],
   "source": [
    "data.groupby('loan_status')['region'].describe()"
   ]
  },
  {
   "cell_type": "code",
   "execution_count": 40,
   "metadata": {},
   "outputs": [
    {
     "data": {
      "text/plain": [
       "Index(['loan_amnt', 'funded_amnt', 'funded_amnt_inv', 'term', 'int_rate',\n",
       "       'installment', 'grade', 'sub_grade', 'emp_title', 'emp_length',\n",
       "       'home_ownership', 'annual_inc', 'verification_status', 'issue_d',\n",
       "       'loan_status', 'pymnt_plan', 'purpose', 'title', 'zip_code',\n",
       "       'addr_state', 'dti', 'delinq_2yrs', 'earliest_cr_line',\n",
       "       'inq_last_6mths', 'open_acc', 'pub_rec', 'revol_bal', 'revol_util',\n",
       "       'total_acc', 'initial_list_status', 'out_prncp', 'out_prncp_inv',\n",
       "       'total_pymnt', 'total_pymnt_inv', 'total_rec_prncp', 'total_rec_int',\n",
       "       'total_rec_late_fee', 'recoveries', 'collection_recovery_fee',\n",
       "       'last_pymnt_d', 'last_pymnt_amnt', 'last_credit_pull_d',\n",
       "       'collections_12_mths_ex_med', 'policy_code', 'application_type',\n",
       "       'acc_now_delinq', 'tot_coll_amt', 'tot_cur_bal', 'total_rev_hi_lim',\n",
       "       'acc_open_past_24mths', 'avg_cur_bal', 'bc_open_to_buy', 'bc_util',\n",
       "       'chargeoff_within_12_mths', 'delinq_amnt', 'mo_sin_old_il_acct',\n",
       "       'mo_sin_old_rev_tl_op', 'mo_sin_rcnt_rev_tl_op', 'mo_sin_rcnt_tl',\n",
       "       'mort_acc', 'mths_since_recent_bc', 'mths_since_recent_inq',\n",
       "       'num_accts_ever_120_pd', 'num_actv_bc_tl', 'num_actv_rev_tl',\n",
       "       'num_bc_sats', 'num_bc_tl', 'num_il_tl', 'num_op_rev_tl',\n",
       "       'num_rev_accts', 'num_rev_tl_bal_gt_0', 'num_sats', 'num_tl_120dpd_2m',\n",
       "       'num_tl_30dpd', 'num_tl_90g_dpd_24m', 'num_tl_op_past_12m',\n",
       "       'pct_tl_nvr_dlq', 'percent_bc_gt_75', 'pub_rec_bankruptcies',\n",
       "       'tax_liens', 'tot_hi_cred_lim', 'total_bal_ex_mort', 'total_bc_limit',\n",
       "       'total_il_high_credit_limit', 'hardship_flag', 'disbursement_method',\n",
       "       'debt_settlement_flag', 'region'],\n",
       "      dtype='object')"
      ]
     },
     "execution_count": 40,
     "metadata": {},
     "output_type": "execute_result"
    }
   ],
   "source": [
    "data.columns"
   ]
  },
  {
   "cell_type": "code",
   "execution_count": 24,
   "metadata": {},
   "outputs": [],
   "source": [
    "# Drop irrelevant features that only apply ot one class.\n",
    "data.drop(['total_rec_late_fee','last_pymnt_amnt','total_rec_int','debt_settlement_flag','collection_recovery_fee','total_rec_prncp','recoveries', 'zip_code', 'addr_state', 'sub_grade', 'title', 'emp_title', 'last_pymnt_d', 'last_credit_pull_d'], axis=1, inplace=True)"
   ]
  },
  {
   "cell_type": "code",
   "execution_count": 25,
   "metadata": {},
   "outputs": [],
   "source": [
    "# Drop irrelevant features.\n",
    "app_data.drop(['zip_code', 'addr_state', 'sub_grade', 'title', 'emp_title'], axis=1, inplace=True)"
   ]
  },
  {
   "cell_type": "code",
   "execution_count": 26,
   "metadata": {},
   "outputs": [],
   "source": [
    "# Fill in missing numerical columns with the mode of each. \n",
    "\n",
    "missing_cols = data.columns[data.isnull().any()].tolist()\n",
    "missing_cols_app = app_data.columns[app_data.isnull().any()].tolist()\n",
    "\n",
    "for col in missing_cols:\n",
    "    data[col].fillna(data[col].mode()[0], inplace=True)\n",
    "    \n",
    "for col in missing_cols_app:\n",
    "    app_data[col].fillna(app_data[col].mode()[0], inplace=True)"
   ]
  },
  {
   "cell_type": "code",
   "execution_count": 27,
   "metadata": {},
   "outputs": [],
   "source": [
    "# Encode loan status.\n",
    "def loan_status_encoder(x):\n",
    "    if (x == 'Fully Paid'):\n",
    "        return 0\n",
    "    return 1\n",
    "\n",
    "data['loan_status'] = data['loan_status'].apply(loan_status_encoder)\n",
    "app_data['loan_status'] = app_data['loan_status'].apply(loan_status_encoder)"
   ]
  },
  {
   "cell_type": "code",
   "execution_count": 28,
   "metadata": {},
   "outputs": [],
   "source": [
    "# Convert issue date to datetime\n",
    "data['issue_d'] = pd.to_datetime(data['issue_d'])\n",
    "app_data['issue_d'] = pd.to_datetime(app_data['issue_d'])"
   ]
  },
  {
   "cell_type": "code",
   "execution_count": 29,
   "metadata": {},
   "outputs": [
    {
     "data": {
      "text/plain": [
       "Index(['term', 'grade', 'emp_length', 'home_ownership', 'verification_status',\n",
       "       'pymnt_plan', 'purpose', 'initial_list_status', 'application_type',\n",
       "       'hardship_flag', 'disbursement_method', 'region'],\n",
       "      dtype='object')"
      ]
     },
     "execution_count": 29,
     "metadata": {},
     "output_type": "execute_result"
    }
   ],
   "source": [
    "data.loc[:, data.dtypes == object].columns"
   ]
  },
  {
   "cell_type": "code",
   "execution_count": 30,
   "metadata": {},
   "outputs": [
    {
     "data": {
      "text/plain": [
       "Index(['term', 'grade', 'emp_length', 'home_ownership', 'verification_status',\n",
       "       'purpose', 'initial_list_status', 'application_type', 'region'],\n",
       "      dtype='object')"
      ]
     },
     "execution_count": 30,
     "metadata": {},
     "output_type": "execute_result"
    }
   ],
   "source": [
    "app_data.loc[:, app_data.dtypes == object].columns"
   ]
  },
  {
   "cell_type": "code",
   "execution_count": 31,
   "metadata": {},
   "outputs": [],
   "source": [
    "# Encode categorical variables as dummy variables.\n",
    "\n",
    "data = pd.get_dummies(data, columns=['term', 'grade', 'emp_length', 'home_ownership', 'verification_status',\n",
    "       'pymnt_plan', 'purpose', 'initial_list_status', 'application_type',\n",
    "       'hardship_flag', 'disbursement_method', 'region'], drop_first=True)\n",
    "\n",
    "app_data = pd.get_dummies(app_data, columns=['term', 'grade', 'emp_length', 'home_ownership', 'verification_status',\n",
    "       'purpose', 'initial_list_status', 'application_type', 'region'], drop_first=True)"
   ]
  },
  {
   "cell_type": "markdown",
   "metadata": {},
   "source": [
    "# Correlations and Significance"
   ]
  },
  {
   "cell_type": "code",
   "execution_count": 32,
   "metadata": {},
   "outputs": [],
   "source": [
    "corr = data.corr()\n",
    "corr_app = app_data.corr()"
   ]
  },
  {
   "cell_type": "code",
   "execution_count": 444,
   "metadata": {
    "scrolled": false
   },
   "outputs": [
    {
     "data": {
      "text/plain": [
       "total_pymnt                    -0.318482\n",
       "total_pymnt_inv                -0.318038\n",
       "grade_B                        -0.106295\n",
       "bc_open_to_buy                 -0.077103\n",
       "avg_cur_bal                    -0.071585\n",
       "tot_hi_cred_lim                -0.070042\n",
       "mort_acc                       -0.069613\n",
       "total_bc_limit                 -0.065104\n",
       "tot_cur_bal                    -0.063210\n",
       "mo_sin_rcnt_tl                 -0.049633\n",
       "mo_sin_rcnt_rev_tl_op          -0.048207\n",
       "total_rev_hi_lim               -0.047068\n",
       "mths_since_recent_bc           -0.046954\n",
       "mo_sin_old_rev_tl_op           -0.046010\n",
       "annual_inc                     -0.041716\n",
       "mths_since_recent_inq          -0.033662\n",
       "mo_sin_old_il_acct             -0.025315\n",
       "emp_length_10+ years           -0.020749\n",
       "revol_bal                      -0.019578\n",
       "region_West                    -0.018738\n",
       "purpose_major_purchase         -0.018039\n",
       "pct_tl_nvr_dlq                 -0.014350\n",
       "num_bc_tl                      -0.013316\n",
       "total_acc                      -0.011332\n",
       "emp_length_5-10 years          -0.003483\n",
       "num_rev_accts                  -0.001425\n",
       "home_ownership_OTHER           -0.000626\n",
       "tot_coll_amt                   -0.000311\n",
       "num_tl_120dpd_2m                0.001318\n",
       "region_SouthWest                0.001421\n",
       "                                  ...   \n",
       "num_sats                        0.029573\n",
       "num_op_rev_tl                   0.035613\n",
       "grade_C                         0.038282\n",
       "num_actv_bc_tl                  0.042828\n",
       "earliest_cr_line                0.044416\n",
       "installment                     0.051183\n",
       "revol_util                      0.060950\n",
       "grade_G                         0.062281\n",
       "funded_amnt_inv                 0.065058\n",
       "inq_last_6mths                  0.065078\n",
       "loan_amnt                       0.065217\n",
       "funded_amnt                     0.065275\n",
       "home_ownership_RENT             0.066395\n",
       "bc_util                         0.069021\n",
       "percent_bc_gt_75                0.070625\n",
       "num_rev_tl_bal_gt_0             0.071636\n",
       "num_actv_rev_tl                 0.072909\n",
       "dti                             0.087164\n",
       "num_tl_op_past_12m              0.087235\n",
       "verification_status_Verified    0.087793\n",
       "grade_F                         0.099103\n",
       "acc_open_past_24mths            0.100731\n",
       "grade_D                         0.108647\n",
       "grade_E                         0.127284\n",
       "term_ 60 months                 0.175899\n",
       "int_rate                        0.258412\n",
       "loan_status                     1.000000\n",
       "out_prncp                            NaN\n",
       "out_prncp_inv                        NaN\n",
       "policy_code                          NaN\n",
       "Name: loan_status, Length: 85, dtype: float64"
      ]
     },
     "execution_count": 444,
     "metadata": {},
     "output_type": "execute_result"
    }
   ],
   "source": [
    "corr['loan_status'].sort_values()"
   ]
  },
  {
   "cell_type": "code",
   "execution_count": 445,
   "metadata": {},
   "outputs": [
    {
     "data": {
      "text/plain": [
       "grade_B                        -0.106295\n",
       "bc_open_to_buy                 -0.077103\n",
       "avg_cur_bal                    -0.071585\n",
       "mort_acc                       -0.069613\n",
       "total_bc_limit                 -0.065104\n",
       "mo_sin_rcnt_tl                 -0.049633\n",
       "mo_sin_rcnt_rev_tl_op          -0.048207\n",
       "mths_since_recent_bc           -0.046954\n",
       "mo_sin_old_rev_tl_op           -0.046010\n",
       "annual_inc                     -0.041716\n",
       "mths_since_recent_inq          -0.033662\n",
       "mo_sin_old_il_acct             -0.025315\n",
       "emp_length_10+ years           -0.020749\n",
       "revol_bal                      -0.019578\n",
       "region_West                    -0.018738\n",
       "purpose_major_purchase         -0.018039\n",
       "num_bc_tl                      -0.013316\n",
       "total_acc                      -0.011332\n",
       "emp_length_5-10 years          -0.003483\n",
       "num_rev_accts                  -0.001425\n",
       "home_ownership_OTHER           -0.000626\n",
       "region_SouthWest                0.001421\n",
       "delinq_amnt                     0.002808\n",
       "home_ownership_OWN              0.005830\n",
       "purpose_other                   0.006776\n",
       "initial_list_status_w           0.008919\n",
       "region_NorthEast                0.009170\n",
       "num_il_tl                       0.010300\n",
       "region_SouthEast                0.010312\n",
       "application_type_Joint App      0.015415\n",
       "num_bc_sats                     0.017260\n",
       "purpose_life_event              0.020063\n",
       "pub_rec_bankruptcies            0.024998\n",
       "pub_rec                         0.026335\n",
       "open_acc                        0.028803\n",
       "num_op_rev_tl                   0.035613\n",
       "grade_C                         0.038282\n",
       "num_actv_bc_tl                  0.042828\n",
       "earliest_cr_line                0.044416\n",
       "installment                     0.051183\n",
       "revol_util                      0.060950\n",
       "grade_G                         0.062281\n",
       "loan_amnt                       0.065217\n",
       "home_ownership_RENT             0.066395\n",
       "bc_util                         0.069021\n",
       "num_actv_rev_tl                 0.072909\n",
       "dti                             0.087164\n",
       "verification_status_Verified    0.087793\n",
       "grade_F                         0.099103\n",
       "acc_open_past_24mths            0.100731\n",
       "grade_D                         0.108647\n",
       "grade_E                         0.127284\n",
       "term_ 60 months                 0.175899\n",
       "int_rate                        0.258412\n",
       "loan_status                     1.000000\n",
       "Name: loan_status, dtype: float64"
      ]
     },
     "execution_count": 445,
     "metadata": {},
     "output_type": "execute_result"
    }
   ],
   "source": [
    "corr_app['loan_status'].sort_values()"
   ]
  },
  {
   "cell_type": "code",
   "execution_count": 33,
   "metadata": {},
   "outputs": [],
   "source": [
    "# Select upper triangle of correlation matrix\n",
    "upper = corr.where(np.triu(np.ones(corr.shape), k=1).astype(np.bool))\n",
    "\n",
    "# Find index of feature columns with correlation greater than 0.95\n",
    "to_drop = [column for column in upper.columns if any(upper[column] > 0.95)]"
   ]
  },
  {
   "cell_type": "code",
   "execution_count": 34,
   "metadata": {},
   "outputs": [
    {
     "data": {
      "text/plain": [
       "['funded_amnt',\n",
       " 'funded_amnt_inv',\n",
       " 'installment',\n",
       " 'total_pymnt_inv',\n",
       " 'num_rev_tl_bal_gt_0',\n",
       " 'num_sats',\n",
       " 'tot_hi_cred_lim']"
      ]
     },
     "execution_count": 34,
     "metadata": {},
     "output_type": "execute_result"
    }
   ],
   "source": [
    "to_drop"
   ]
  },
  {
   "cell_type": "code",
   "execution_count": 35,
   "metadata": {},
   "outputs": [],
   "source": [
    "# Data to drop due to multicollinearity\n",
    "data.drop(['installment','out_prncp', 'out_prncp_inv', 'policy_code', 'num_sats', 'num_rev_tl_bal_gt_0', 'total_pymnt_inv', 'funded_amnt_inv', 'tot_hi_cred_lim'], axis=1, inplace=True)"
   ]
  },
  {
   "cell_type": "code",
   "execution_count": 36,
   "metadata": {},
   "outputs": [],
   "source": [
    "# Select upper triangle of correlation matrix\n",
    "upper_app = corr_app.where(np.triu(np.ones(corr_app.shape), k=1).astype(np.bool))\n",
    "\n",
    "# Find index of feature columns with correlation greater than 0.95\n",
    "to_drop_app = [column for column in upper_app.columns if any(upper_app[column] > 0.95)]"
   ]
  },
  {
   "cell_type": "code",
   "execution_count": 37,
   "metadata": {},
   "outputs": [
    {
     "data": {
      "text/plain": [
       "['installment']"
      ]
     },
     "execution_count": 37,
     "metadata": {},
     "output_type": "execute_result"
    }
   ],
   "source": [
    "to_drop_app"
   ]
  },
  {
   "cell_type": "code",
   "execution_count": 38,
   "metadata": {},
   "outputs": [],
   "source": [
    "# Data to drop due to multicollinearity\n",
    "app_data.drop(['installment'], axis=1, inplace=True)"
   ]
  },
  {
   "cell_type": "markdown",
   "metadata": {},
   "source": [
    "# Train/Test Split"
   ]
  },
  {
   "cell_type": "markdown",
   "metadata": {},
   "source": [
    "Converted issue date of loan to datetime object to separate on for test and training. The split will be 80/20 training and test. Split on date in the 0.8 quantile."
   ]
  },
  {
   "cell_type": "code",
   "execution_count": 180,
   "metadata": {},
   "outputs": [
    {
     "data": {
      "text/plain": [
       "Text(0.5, 1.0, 'Number of Loans per Year')"
      ]
     },
     "execution_count": 180,
     "metadata": {},
     "output_type": "execute_result"
    },
    {
     "data": {
      "image/png": "[encoded data removed]",
      "text/plain": [
       "<Figure size 560x320 with 1 Axes>"
      ]
     },
     "metadata": {
      "needs_background": "light"
     },
     "output_type": "display_data"
    }
   ],
   "source": [
    "plt.figure(figsize=(7,4), dpi=80)\n",
    "data['issue_d'].dt.year.value_counts().sort_index().plot.bar(color='green')\n",
    "plt.xlabel('Year')\n",
    "plt.ylabel('Number of Loans')\n",
    "plt.title('Number of Loans per Year')"
   ]
  },
  {
   "cell_type": "code",
   "execution_count": null,
   "metadata": {},
   "outputs": [],
   "source": [
    "data.shape"
   ]
  },
  {
   "cell_type": "code",
   "execution_count": 40,
   "metadata": {},
   "outputs": [
    {
     "data": {
      "text/plain": [
       "Index(['loan_amnt', 'int_rate', 'annual_inc', 'issue_d', 'loan_status', 'dti',\n",
       "       'earliest_cr_line', 'open_acc', 'pub_rec', 'revol_bal', 'revol_util',\n",
       "       'total_acc', 'acc_open_past_24mths', 'avg_cur_bal', 'bc_open_to_buy',\n",
       "       'bc_util', 'delinq_amnt', 'mo_sin_old_il_acct', 'mo_sin_old_rev_tl_op',\n",
       "       'mo_sin_rcnt_rev_tl_op', 'mo_sin_rcnt_tl', 'mort_acc',\n",
       "       'mths_since_recent_bc', 'mths_since_recent_inq', 'num_actv_bc_tl',\n",
       "       'num_actv_rev_tl', 'num_bc_sats', 'num_bc_tl', 'num_il_tl',\n",
       "       'num_op_rev_tl', 'num_rev_accts', 'pub_rec_bankruptcies',\n",
       "       'total_bc_limit', 'term_ 60 months', 'grade_B', 'grade_C', 'grade_D',\n",
       "       'grade_E', 'grade_F', 'grade_G', 'emp_length_10+ years',\n",
       "       'emp_length_5-10 years', 'home_ownership_OTHER', 'home_ownership_OWN',\n",
       "       'home_ownership_RENT', 'verification_status_Verified',\n",
       "       'purpose_life_event', 'purpose_major_purchase', 'purpose_other',\n",
       "       'initial_list_status_w', 'application_type_Joint App',\n",
       "       'region_NorthEast', 'region_SouthEast', 'region_SouthWest',\n",
       "       'region_West'],\n",
       "      dtype='object')"
      ]
     },
     "execution_count": 40,
     "metadata": {},
     "output_type": "execute_result"
    }
   ],
   "source": [
    "app_data.columns"
   ]
  },
  {
   "cell_type": "code",
   "execution_count": 41,
   "metadata": {},
   "outputs": [],
   "source": [
    "data_train = data.loc[data['issue_d'] <  data['issue_d'].quantile(0.80)]\n",
    "data_test =  data.loc[data['issue_d'] >= data['issue_d'].quantile(0.80)]\n",
    "\n",
    "data_train_app = app_data.loc[app_data['issue_d'] <  app_data['issue_d'].quantile(0.80)]\n",
    "data_test_app =  app_data.loc[app_data['issue_d'] >= app_data['issue_d'].quantile(0.80)]"
   ]
  },
  {
   "cell_type": "code",
   "execution_count": 42,
   "metadata": {},
   "outputs": [
    {
     "data": {
      "text/plain": [
       "0.2002628092669033"
      ]
     },
     "execution_count": 42,
     "metadata": {},
     "output_type": "execute_result"
    }
   ],
   "source": [
    "data_test.shape[0] / data.shape[0]"
   ]
  },
  {
   "cell_type": "code",
   "execution_count": 43,
   "metadata": {},
   "outputs": [
    {
     "data": {
      "text/plain": [
       "0.2002628092669033"
      ]
     },
     "execution_count": 43,
     "metadata": {},
     "output_type": "execute_result"
    }
   ],
   "source": [
    "data_test_app.shape[0] / app_data.shape[0]"
   ]
  },
  {
   "cell_type": "code",
   "execution_count": 44,
   "metadata": {},
   "outputs": [],
   "source": [
    "# Drop issue date from data.\n",
    "data_train.drop(labels='issue_d', axis=1, inplace=True)\n",
    "data_test.drop(labels='issue_d', axis=1, inplace=True)\n",
    "data_train_app.drop(labels='issue_d', axis=1, inplace=True)\n",
    "data_test_app.drop(labels='issue_d', axis=1, inplace=True)"
   ]
  },
  {
   "cell_type": "markdown",
   "metadata": {},
   "source": [
    "# Label Imbalance"
   ]
  },
  {
   "cell_type": "markdown",
   "metadata": {},
   "source": [
    "Subsample majority class so labels balanced in training and testing. "
   ]
  },
  {
   "cell_type": "code",
   "execution_count": 45,
   "metadata": {},
   "outputs": [],
   "source": [
    "#Divide by class\n",
    "class_paid = data_train[data_train['loan_status'] == 0]\n",
    "class_default = data_train[data_train['loan_status'] == 1]\n",
    "\n",
    "class_paid_app = data_train_app[data_train_app['loan_status'] == 0]\n",
    "class_default_app = data_train_app[data_train_app['loan_status'] == 1]\n",
    "\n",
    "# Class count\n",
    "paid_count = len(class_paid) \n",
    "default_count = len(class_default) \n",
    "\n",
    "paid_count_app = len(class_paid_app) \n",
    "default_count_app = len(class_default_app) "
   ]
  },
  {
   "cell_type": "code",
   "execution_count": 46,
   "metadata": {},
   "outputs": [
    {
     "name": "stdout",
     "output_type": "stream",
     "text": [
      "Random under-sampling:\n",
      "1    205149\n",
      "0    205149\n",
      "Name: loan_status, dtype: int64\n",
      "Random under-sampling:\n",
      "1    205149\n",
      "0    205149\n",
      "Name: loan_status, dtype: int64\n"
     ]
    },
    {
     "data": {
      "image/png": "[encoded data removed]",
      "text/plain": [
       "<Figure size 432x288 with 1 Axes>"
      ]
     },
     "metadata": {
      "needs_background": "light"
     },
     "output_type": "display_data"
    }
   ],
   "source": [
    "#random sampling\n",
    "df_class_paid_under = class_paid.sample(default_count)\n",
    "balanced_data = pd.concat([df_class_paid_under, class_default], axis=0)\n",
    "\n",
    "print('Random under-sampling:')\n",
    "print(balanced_data['loan_status'].value_counts())\n",
    "\n",
    "balanced_data['loan_status'].value_counts().plot(kind='bar', title='Count (target)');\n",
    "\n",
    "\n",
    "df_class_paid_under_app = class_paid_app.sample(default_count_app)\n",
    "balanced_data_app = pd.concat([df_class_paid_under_app, class_default_app], axis=0)\n",
    "\n",
    "print('Random under-sampling:')\n",
    "print(balanced_data_app['loan_status'].value_counts())\n",
    "\n",
    "balanced_data_app['loan_status'].value_counts().plot(kind='bar', title='Count (target)');"
   ]
  },
  {
   "cell_type": "code",
   "execution_count": 47,
   "metadata": {},
   "outputs": [],
   "source": [
    "#Divide by class\n",
    "class_paid_test = data_test[data_test['loan_status'] == 0]\n",
    "class_default_test = data_test[data_test['loan_status'] == 1]\n",
    "\n",
    "class_paid_test_app = data_test_app[data_test_app['loan_status'] == 0]\n",
    "class_default_test_app = data_test_app[data_test_app['loan_status'] == 1]\n",
    "\n",
    "# Class count\n",
    "paid_count_test = len(class_paid_test) \n",
    "default_count_test = len(class_default_test) \n",
    "\n",
    "paid_count_test_app = len(class_paid_test_app) \n",
    "default_count_test_app = len(class_default_test_app) "
   ]
  },
  {
   "cell_type": "code",
   "execution_count": 48,
   "metadata": {},
   "outputs": [
    {
     "name": "stdout",
     "output_type": "stream",
     "text": [
      "Random under-sampling:\n",
      "1    56506\n",
      "0    56506\n",
      "Name: loan_status, dtype: int64\n",
      "Random under-sampling:\n",
      "1    56506\n",
      "0    56506\n",
      "Name: loan_status, dtype: int64\n"
     ]
    },
    {
     "data": {
      "image/png": "[encoded data removed]",
      "text/plain": [
       "<Figure size 432x288 with 1 Axes>"
      ]
     },
     "metadata": {
      "needs_background": "light"
     },
     "output_type": "display_data"
    }
   ],
   "source": [
    "#random sampling\n",
    "df_class_paid_under_test = class_paid_test.sample(default_count_test)\n",
    "balanced_data_test = pd.concat([df_class_paid_under_test, class_default_test], axis=0)\n",
    "\n",
    "print('Random under-sampling:')\n",
    "print(balanced_data_test['loan_status'].value_counts())\n",
    "\n",
    "balanced_data_test['loan_status'].value_counts().plot(kind='bar', title='Count (target)');\n",
    "\n",
    "\n",
    "\n",
    "df_class_paid_under_test_app = class_paid_test_app.sample(default_count_test_app)\n",
    "balanced_data_test_app = pd.concat([df_class_paid_under_test_app, class_default_test_app], axis=0)\n",
    "\n",
    "print('Random under-sampling:')\n",
    "print(balanced_data_test_app['loan_status'].value_counts())\n",
    "\n",
    "balanced_data_test_app['loan_status'].value_counts().plot(kind='bar', title='Count (target)');"
   ]
  },
  {
   "cell_type": "markdown",
   "metadata": {},
   "source": [
    "# Separation of features and label."
   ]
  },
  {
   "cell_type": "code",
   "execution_count": 49,
   "metadata": {},
   "outputs": [],
   "source": [
    "X_train = balanced_data.drop(['loan_status'], axis=1)\n",
    "y_train = balanced_data['loan_status']\n",
    "\n",
    "X_test = balanced_data_test.drop(['loan_status'], axis=1)\n",
    "y_test = balanced_data_test['loan_status']"
   ]
  },
  {
   "cell_type": "code",
   "execution_count": 50,
   "metadata": {},
   "outputs": [],
   "source": [
    "X_train_app = balanced_data_app.drop(['loan_status'], axis=1)\n",
    "y_train_app = balanced_data_app['loan_status']\n",
    "\n",
    "X_test_app = balanced_data_test_app.drop(['loan_status'], axis=1)\n",
    "y_test_app = balanced_data_test_app['loan_status']"
   ]
  },
  {
   "cell_type": "code",
   "execution_count": 470,
   "metadata": {},
   "outputs": [],
   "source": [
    "X_train = data_train.drop(['loan_status'], axis=1)\n",
    "y_train = data_train['loan_status']\n",
    "\n",
    "X_test = data_test.drop(['loan_status'], axis=1)\n",
    "y_test = data_test['loan_status']"
   ]
  },
  {
   "cell_type": "code",
   "execution_count": 503,
   "metadata": {},
   "outputs": [],
   "source": [
    "X_train_app = data_train_app.drop(['loan_status'], axis=1)\n",
    "y_train_app = data_train_app['loan_status']\n",
    "\n",
    "X_test_app = data_test_app.drop(['loan_status'], axis=1)\n",
    "y_test_app = data_test_app['loan_status']"
   ]
  },
  {
   "cell_type": "markdown",
   "metadata": {},
   "source": [
    "# Feature Importance"
   ]
  },
  {
   "cell_type": "code",
   "execution_count": 475,
   "metadata": {},
   "outputs": [
    {
     "data": {
      "text/plain": [
       "<matplotlib.axes._subplots.AxesSubplot at 0x1aa7ca4ef0>"
      ]
     },
     "execution_count": 475,
     "metadata": {},
     "output_type": "execute_result"
    },
    {
     "data": {
      "image/png": "[encoded data removed]",
      "text/plain": [
       "<Figure size 432x288 with 1 Axes>"
      ]
     },
     "metadata": {
      "needs_background": "light"
     },
     "output_type": "display_data"
    }
   ],
   "source": [
    "from sklearn.ensemble import RandomForestClassifier\n",
    "import numpy as np\n",
    "\n",
    "rf = RandomForestClassifier(n_estimators=250)\n",
    "rf.fit(X_train, y_train)\n",
    "\n",
    "feat_importances = pd.Series(rf.feature_importances_, index=X_train.columns)\n",
    "feat_importances.nlargest(15).plot(kind='barh')"
   ]
  },
  {
   "cell_type": "code",
   "execution_count": 476,
   "metadata": {},
   "outputs": [
    {
     "data": {
      "text/plain": [
       "<matplotlib.axes._subplots.AxesSubplot at 0x1a323c0358>"
      ]
     },
     "execution_count": 476,
     "metadata": {},
     "output_type": "execute_result"
    },
    {
     "data": {
      "image/png": "[encoded data removed]",
      "text/plain": [
       "<Figure size 432x288 with 1 Axes>"
      ]
     },
     "metadata": {
      "needs_background": "light"
     },
     "output_type": "display_data"
    }
   ],
   "source": [
    "from sklearn.ensemble import RandomForestClassifier\n",
    "import numpy as np\n",
    "\n",
    "rf = RandomForestClassifier(n_estimators=250)\n",
    "rf.fit(X_train_app, y_train_app)\n",
    "\n",
    "feat_importances = pd.Series(rf.feature_importances_, index=X_train_app.columns)\n",
    "feat_importances.nlargest(15).plot(kind='barh')"
   ]
  },
  {
   "cell_type": "markdown",
   "metadata": {},
   "source": [
    "# Standardization "
   ]
  },
  {
   "cell_type": "markdown",
   "metadata": {},
   "source": [
    "Use Z-score standarization to standardize data. Data value scales are varied so need to be put onto same scale so some features do not overpower others. "
   ]
  },
  {
   "cell_type": "code",
   "execution_count": 51,
   "metadata": {},
   "outputs": [],
   "source": [
    "from scipy.stats import zscore\n",
    "\n",
    "X_test = X_test.apply(zscore)\n",
    "X_test_app = X_test_app.apply(zscore)"
   ]
  },
  {
   "cell_type": "code",
   "execution_count": 52,
   "metadata": {},
   "outputs": [],
   "source": [
    "from scipy.stats import zscore\n",
    "\n",
    "X_train = X_train.apply(zscore)\n",
    "X_train_app = X_train_app.apply(zscore)"
   ]
  },
  {
   "cell_type": "markdown",
   "metadata": {},
   "source": [
    "# Models"
   ]
  },
  {
   "cell_type": "code",
   "execution_count": 53,
   "metadata": {},
   "outputs": [],
   "source": [
    "from sklearn.metrics import classification_report, confusion_matrix, accuracy_score\n",
    "\n",
    "# Gets model metrics.\n",
    "def get_metrics(model_name, train_test, trues, predictions):\n",
    "    # Metrics report for logistic regression model.\n",
    "    report = classification_report(trues, predictions)\n",
    "\n",
    "    # Confusion matrix for logistic regression model.\n",
    "    matrix = confusion_matrix(trues, predictions)\n",
    "\n",
    "    # Accurcy of logistic regression model.\n",
    "    accuracy = accuracy_score(trues, predictions)\n",
    "\n",
    "    print(\"Confusion Matrix for\", model_name, \" Model\")\n",
    "    print(matrix, \"\\n\")\n",
    "\n",
    "    print(\"True Positives: \", matrix[1][1])\n",
    "    print(\"False Positives: \", matrix[0][1])\n",
    "    print(\"True Negatives: \", matrix[0][0])\n",
    "    print(\"False Negatives: \", matrix[1][0])\n",
    "\n",
    "    print(model_name, train_test, \" Accuracy: \", accuracy)\n",
    "    print(model_name, train_test, \" Error: \", 1 - accuracy)\n",
    "\n",
    "    print(\"Report for\", model_name, \" Model\")\n",
    "    print(report)"
   ]
  },
  {
   "cell_type": "code",
   "execution_count": 54,
   "metadata": {},
   "outputs": [],
   "source": [
    "from sklearn.metrics import roc_curve, auc\n",
    "import matplotlib.pyplot as plt\n",
    "\n",
    "# Creates an ROC curve based on a model.\n",
    "def get_roc(model_name, predictions, trues):\n",
    "\n",
    "    fpr, tpr, _ = roc_curve(predictions, trues)\n",
    "    roc_auc = auc(fpr, tpr)\n",
    "\n",
    "\n",
    "    plt.title('Receiver Operating Characteristic for ' + model_name + ' Model')\n",
    "    plt.plot(fpr, tpr, 'green', label = (\"AUC\" +'= %0.2f') % roc_auc)\n",
    "    plt.legend(loc = 'lower right')\n",
    "    plt.plot([0, 1], [0, 1],'r--')\n",
    "    plt.xlim([0, 1])\n",
    "    plt.ylim([0, 1])\n",
    "    plt.ylabel('True Positive Rate')\n",
    "    plt.xlabel('False Positive Rate')\n",
    "    plt.show()"
   ]
  },
  {
   "cell_type": "markdown",
   "metadata": {},
   "source": [
    "# Logistic Regression"
   ]
  },
  {
   "cell_type": "code",
   "execution_count": 106,
   "metadata": {},
   "outputs": [],
   "source": [
    "from sklearn.linear_model import LogisticRegression\n",
    "\n",
    "log_model = LogisticRegression(penalty = 'l1')\n",
    "\n",
    "log_model.fit(X_train, y_train)\n",
    "\n",
    "log_probs_train = log_model.predict_proba(X_train)\n",
    "log_probs = log_model.predict_proba(X_test)"
   ]
  },
  {
   "cell_type": "code",
   "execution_count": 116,
   "metadata": {},
   "outputs": [
    {
     "name": "stdout",
     "output_type": "stream",
     "text": [
      "Accuracy: 0.94 (+/- 0.03)\n"
     ]
    }
   ],
   "source": [
    "from sklearn.model_selection import cross_val_score\n",
    "scores = cross_val_score(log_model, X_train, y_train, cv=5)\n",
    "print(\"Accuracy: %0.2f (+/- %0.2f)\" % (scores.mean(), scores.std() * 2))"
   ]
  },
  {
   "cell_type": "code",
   "execution_count": 108,
   "metadata": {
    "scrolled": false
   },
   "outputs": [
    {
     "name": "stdout",
     "output_type": "stream",
     "text": [
      "Logistic Regresion Model with Threshold =  0.25\n",
      "Confusion Matrix for Logistic Regression  Model\n",
      "[[184817  20332]\n",
      " [  9024 196125]] \n",
      "\n",
      "True Positives:  196125\n",
      "False Positives:  20332\n",
      "True Negatives:  184817\n",
      "False Negatives:  9024\n",
      "Logistic Regression Train  Accuracy:  0.9284520031781778\n",
      "Logistic Regression Train  Error:  0.07154799682182222\n",
      "Report for Logistic Regression  Model\n",
      "              precision    recall  f1-score   support\n",
      "\n",
      "           0       0.95      0.90      0.93    205149\n",
      "           1       0.91      0.96      0.93    205149\n",
      "\n",
      "   micro avg       0.93      0.93      0.93    410298\n",
      "   macro avg       0.93      0.93      0.93    410298\n",
      "weighted avg       0.93      0.93      0.93    410298\n",
      "\n",
      "\n",
      "\n",
      "Confusion Matrix for Logistic Regression  Model\n",
      "[[54702  1804]\n",
      " [  539 55967]] \n",
      "\n",
      "True Positives:  55967\n",
      "False Positives:  1804\n",
      "True Negatives:  54702\n",
      "False Negatives:  539\n",
      "Logistic Regression Test  Accuracy:  0.9792676883870739\n",
      "Logistic Regression Test  Error:  0.020732311612926102\n",
      "Report for Logistic Regression  Model\n",
      "              precision    recall  f1-score   support\n",
      "\n",
      "           0       0.99      0.97      0.98     56506\n",
      "           1       0.97      0.99      0.98     56506\n",
      "\n",
      "   micro avg       0.98      0.98      0.98    113012\n",
      "   macro avg       0.98      0.98      0.98    113012\n",
      "weighted avg       0.98      0.98      0.98    113012\n",
      "\n",
      "\n",
      "\n",
      "Logistic Regresion Model with Threshold =  0.5\n",
      "Confusion Matrix for Logistic Regression  Model\n",
      "[[199271   5878]\n",
      " [ 16990 188159]] \n",
      "\n",
      "True Positives:  188159\n",
      "False Positives:  5878\n",
      "True Negatives:  199271\n",
      "False Negatives:  16990\n",
      "Logistic Regression Train  Accuracy:  0.9442649001457477\n",
      "Logistic Regression Train  Error:  0.05573509985425229\n",
      "Report for Logistic Regression  Model\n",
      "              precision    recall  f1-score   support\n",
      "\n",
      "           0       0.92      0.97      0.95    205149\n",
      "           1       0.97      0.92      0.94    205149\n",
      "\n",
      "   micro avg       0.94      0.94      0.94    410298\n",
      "   macro avg       0.95      0.94      0.94    410298\n",
      "weighted avg       0.95      0.94      0.94    410298\n",
      "\n",
      "\n",
      "\n",
      "Confusion Matrix for Logistic Regression  Model\n",
      "[[56148   358]\n",
      " [ 1373 55133]] \n",
      "\n",
      "True Positives:  55133\n",
      "False Positives:  358\n",
      "True Negatives:  56148\n",
      "False Negatives:  1373\n",
      "Logistic Regression Test  Accuracy:  0.9846830425087602\n",
      "Logistic Regression Test  Error:  0.015316957491239847\n",
      "Report for Logistic Regression  Model\n",
      "              precision    recall  f1-score   support\n",
      "\n",
      "           0       0.98      0.99      0.98     56506\n",
      "           1       0.99      0.98      0.98     56506\n",
      "\n",
      "   micro avg       0.98      0.98      0.98    113012\n",
      "   macro avg       0.98      0.98      0.98    113012\n",
      "weighted avg       0.98      0.98      0.98    113012\n",
      "\n",
      "\n",
      "\n",
      "Logistic Regresion Model with Threshold =  0.75\n",
      "Confusion Matrix for Logistic Regression  Model\n",
      "[[203320   1829]\n",
      " [ 27828 177321]] \n",
      "\n",
      "True Positives:  177321\n",
      "False Positives:  1829\n",
      "True Negatives:  203320\n",
      "False Negatives:  27828\n",
      "Logistic Regression Train  Accuracy:  0.9277183900482089\n",
      "Logistic Regression Train  Error:  0.07228160995179111\n",
      "Report for Logistic Regression  Model\n",
      "              precision    recall  f1-score   support\n",
      "\n",
      "           0       0.88      0.99      0.93    205149\n",
      "           1       0.99      0.86      0.92    205149\n",
      "\n",
      "   micro avg       0.93      0.93      0.93    410298\n",
      "   macro avg       0.93      0.93      0.93    410298\n",
      "weighted avg       0.93      0.93      0.93    410298\n",
      "\n",
      "\n",
      "\n",
      "Confusion Matrix for Logistic Regression  Model\n",
      "[[56456    50]\n",
      " [ 2892 53614]] \n",
      "\n",
      "True Positives:  53614\n",
      "False Positives:  50\n",
      "True Negatives:  56456\n",
      "False Negatives:  2892\n",
      "Logistic Regression Test  Accuracy:  0.9739673662973843\n",
      "Logistic Regression Test  Error:  0.02603263370261566\n",
      "Report for Logistic Regression  Model\n",
      "              precision    recall  f1-score   support\n",
      "\n",
      "           0       0.95      1.00      0.97     56506\n",
      "           1       1.00      0.95      0.97     56506\n",
      "\n",
      "   micro avg       0.97      0.97      0.97    113012\n",
      "   macro avg       0.98      0.97      0.97    113012\n",
      "weighted avg       0.98      0.97      0.97    113012\n",
      "\n",
      "\n",
      "\n",
      "Logistic Regresion Model with Threshold =  0.9\n",
      "Confusion Matrix for Logistic Regression  Model\n",
      "[[204602    547]\n",
      " [ 39754 165395]] \n",
      "\n",
      "True Positives:  165395\n",
      "False Positives:  547\n",
      "True Negatives:  204602\n",
      "False Negatives:  39754\n",
      "Logistic Regression Train  Accuracy:  0.9017762699306358\n",
      "Logistic Regression Train  Error:  0.09822373006936425\n",
      "Report for Logistic Regression  Model\n",
      "              precision    recall  f1-score   support\n",
      "\n",
      "           0       0.84      1.00      0.91    205149\n",
      "           1       1.00      0.81      0.89    205149\n",
      "\n",
      "   micro avg       0.90      0.90      0.90    410298\n",
      "   macro avg       0.92      0.90      0.90    410298\n",
      "weighted avg       0.92      0.90      0.90    410298\n",
      "\n",
      "\n",
      "\n",
      "Confusion Matrix for Logistic Regression  Model\n",
      "[[56493    13]\n",
      " [ 5112 51394]] \n",
      "\n",
      "True Positives:  51394\n",
      "False Positives:  13\n",
      "True Negatives:  56493\n",
      "False Negatives:  5112\n",
      "Logistic Regression Test  Accuracy:  0.9546508335398011\n",
      "Logistic Regression Test  Error:  0.04534916646019893\n",
      "Report for Logistic Regression  Model\n",
      "              precision    recall  f1-score   support\n",
      "\n",
      "           0       0.92      1.00      0.96     56506\n",
      "           1       1.00      0.91      0.95     56506\n",
      "\n",
      "   micro avg       0.95      0.95      0.95    113012\n",
      "   macro avg       0.96      0.95      0.95    113012\n",
      "weighted avg       0.96      0.95      0.95    113012\n",
      "\n",
      "\n",
      "\n"
     ]
    }
   ],
   "source": [
    "thresholds = [0.25, 0.5, 0.75, 0.9]\n",
    "\n",
    "# Runs the logistic regression model with different thresholds. \n",
    "for thresh in thresholds:\n",
    "    predictions_train = (log_probs_train [:,1] >= thresh).astype('int')\n",
    "    predictions = (log_probs [:,1] >= thresh).astype('int')\n",
    "    \n",
    "    print(\"Logistic Regresion Model with Threshold = \",thresh)\n",
    "    get_metrics(\"Logistic Regression\", \"Train\", y_train, predictions_train)\n",
    "    print(\"\\n\")\n",
    "    get_metrics(\"Logistic Regression\", \"Test\", y_test, predictions)\n",
    "    print(\"\\n\")"
   ]
  },
  {
   "cell_type": "code",
   "execution_count": 109,
   "metadata": {},
   "outputs": [
    {
     "data": {
      "text/html": [
       "<div>\n",
       "<style scoped>\n",
       "    .dataframe tbody tr th:only-of-type {\n",
       "        vertical-align: middle;\n",
       "    }\n",
       "\n",
       "    .dataframe tbody tr th {\n",
       "        vertical-align: top;\n",
       "    }\n",
       "\n",
       "    .dataframe thead th {\n",
       "        text-align: right;\n",
       "    }\n",
       "</style>\n",
       "<table border=\"1\" class=\"dataframe\">\n",
       "  <thead>\n",
       "    <tr style=\"text-align: right;\">\n",
       "      <th></th>\n",
       "      <th>Feature</th>\n",
       "      <th>Coefficients</th>\n",
       "    </tr>\n",
       "  </thead>\n",
       "  <tbody>\n",
       "    <tr>\n",
       "      <th>0</th>\n",
       "      <td>loan_amnt</td>\n",
       "      <td>4.225374</td>\n",
       "    </tr>\n",
       "    <tr>\n",
       "      <th>1</th>\n",
       "      <td>funded_amnt</td>\n",
       "      <td>53.398443</td>\n",
       "    </tr>\n",
       "    <tr>\n",
       "      <th>2</th>\n",
       "      <td>int_rate</td>\n",
       "      <td>3.613821</td>\n",
       "    </tr>\n",
       "    <tr>\n",
       "      <th>3</th>\n",
       "      <td>installment</td>\n",
       "      <td>4.329987</td>\n",
       "    </tr>\n",
       "    <tr>\n",
       "      <th>4</th>\n",
       "      <td>annual_inc</td>\n",
       "      <td>-4.800068</td>\n",
       "    </tr>\n",
       "    <tr>\n",
       "      <th>5</th>\n",
       "      <td>dti</td>\n",
       "      <td>15.175921</td>\n",
       "    </tr>\n",
       "    <tr>\n",
       "      <th>6</th>\n",
       "      <td>delinq_2yrs</td>\n",
       "      <td>3.066101</td>\n",
       "    </tr>\n",
       "    <tr>\n",
       "      <th>7</th>\n",
       "      <td>earliest_cr_line</td>\n",
       "      <td>-2.632013</td>\n",
       "    </tr>\n",
       "    <tr>\n",
       "      <th>8</th>\n",
       "      <td>inq_last_6mths</td>\n",
       "      <td>0.413606</td>\n",
       "    </tr>\n",
       "    <tr>\n",
       "      <th>9</th>\n",
       "      <td>open_acc</td>\n",
       "      <td>0.546362</td>\n",
       "    </tr>\n",
       "    <tr>\n",
       "      <th>10</th>\n",
       "      <td>pub_rec</td>\n",
       "      <td>3.339596</td>\n",
       "    </tr>\n",
       "    <tr>\n",
       "      <th>11</th>\n",
       "      <td>revol_bal</td>\n",
       "      <td>-2.595624</td>\n",
       "    </tr>\n",
       "    <tr>\n",
       "      <th>12</th>\n",
       "      <td>revol_util</td>\n",
       "      <td>1.623492</td>\n",
       "    </tr>\n",
       "    <tr>\n",
       "      <th>13</th>\n",
       "      <td>total_acc</td>\n",
       "      <td>-1.598559</td>\n",
       "    </tr>\n",
       "    <tr>\n",
       "      <th>14</th>\n",
       "      <td>out_prncp</td>\n",
       "      <td>0.000000</td>\n",
       "    </tr>\n",
       "    <tr>\n",
       "      <th>15</th>\n",
       "      <td>out_prncp_inv</td>\n",
       "      <td>0.000000</td>\n",
       "    </tr>\n",
       "    <tr>\n",
       "      <th>16</th>\n",
       "      <td>total_pymnt</td>\n",
       "      <td>-91.460869</td>\n",
       "    </tr>\n",
       "    <tr>\n",
       "      <th>17</th>\n",
       "      <td>collections_12_mths_ex_med</td>\n",
       "      <td>0.721690</td>\n",
       "    </tr>\n",
       "    <tr>\n",
       "      <th>18</th>\n",
       "      <td>policy_code</td>\n",
       "      <td>0.000000</td>\n",
       "    </tr>\n",
       "    <tr>\n",
       "      <th>19</th>\n",
       "      <td>acc_now_delinq</td>\n",
       "      <td>0.000000</td>\n",
       "    </tr>\n",
       "    <tr>\n",
       "      <th>20</th>\n",
       "      <td>tot_coll_amt</td>\n",
       "      <td>0.597694</td>\n",
       "    </tr>\n",
       "    <tr>\n",
       "      <th>21</th>\n",
       "      <td>tot_cur_bal</td>\n",
       "      <td>-1.731816</td>\n",
       "    </tr>\n",
       "    <tr>\n",
       "      <th>22</th>\n",
       "      <td>total_rev_hi_lim</td>\n",
       "      <td>0.000000</td>\n",
       "    </tr>\n",
       "    <tr>\n",
       "      <th>23</th>\n",
       "      <td>acc_open_past_24mths</td>\n",
       "      <td>-0.200835</td>\n",
       "    </tr>\n",
       "    <tr>\n",
       "      <th>24</th>\n",
       "      <td>avg_cur_bal</td>\n",
       "      <td>-2.544774</td>\n",
       "    </tr>\n",
       "    <tr>\n",
       "      <th>25</th>\n",
       "      <td>bc_open_to_buy</td>\n",
       "      <td>0.350054</td>\n",
       "    </tr>\n",
       "    <tr>\n",
       "      <th>26</th>\n",
       "      <td>bc_util</td>\n",
       "      <td>-0.139156</td>\n",
       "    </tr>\n",
       "    <tr>\n",
       "      <th>27</th>\n",
       "      <td>chargeoff_within_12_mths</td>\n",
       "      <td>0.000000</td>\n",
       "    </tr>\n",
       "    <tr>\n",
       "      <th>28</th>\n",
       "      <td>delinq_amnt</td>\n",
       "      <td>0.176708</td>\n",
       "    </tr>\n",
       "    <tr>\n",
       "      <th>29</th>\n",
       "      <td>mo_sin_old_il_acct</td>\n",
       "      <td>-0.274437</td>\n",
       "    </tr>\n",
       "    <tr>\n",
       "      <th>...</th>\n",
       "      <td>...</td>\n",
       "      <td>...</td>\n",
       "    </tr>\n",
       "    <tr>\n",
       "      <th>50</th>\n",
       "      <td>pub_rec_bankruptcies</td>\n",
       "      <td>-0.133174</td>\n",
       "    </tr>\n",
       "    <tr>\n",
       "      <th>51</th>\n",
       "      <td>tax_liens</td>\n",
       "      <td>0.000000</td>\n",
       "    </tr>\n",
       "    <tr>\n",
       "      <th>52</th>\n",
       "      <td>tot_hi_cred_lim</td>\n",
       "      <td>0.000000</td>\n",
       "    </tr>\n",
       "    <tr>\n",
       "      <th>53</th>\n",
       "      <td>total_bal_ex_mort</td>\n",
       "      <td>6.408644</td>\n",
       "    </tr>\n",
       "    <tr>\n",
       "      <th>54</th>\n",
       "      <td>total_bc_limit</td>\n",
       "      <td>-15.734183</td>\n",
       "    </tr>\n",
       "    <tr>\n",
       "      <th>55</th>\n",
       "      <td>total_il_high_credit_limit</td>\n",
       "      <td>-3.898764</td>\n",
       "    </tr>\n",
       "    <tr>\n",
       "      <th>56</th>\n",
       "      <td>emp_length_10+ years</td>\n",
       "      <td>-0.046570</td>\n",
       "    </tr>\n",
       "    <tr>\n",
       "      <th>57</th>\n",
       "      <td>emp_length_5-10 years</td>\n",
       "      <td>-0.041072</td>\n",
       "    </tr>\n",
       "    <tr>\n",
       "      <th>58</th>\n",
       "      <td>term_ 60 months</td>\n",
       "      <td>1.153627</td>\n",
       "    </tr>\n",
       "    <tr>\n",
       "      <th>59</th>\n",
       "      <td>home_ownership_OTHER</td>\n",
       "      <td>0.455894</td>\n",
       "    </tr>\n",
       "    <tr>\n",
       "      <th>60</th>\n",
       "      <td>home_ownership_OWN</td>\n",
       "      <td>0.036489</td>\n",
       "    </tr>\n",
       "    <tr>\n",
       "      <th>61</th>\n",
       "      <td>home_ownership_RENT</td>\n",
       "      <td>0.164427</td>\n",
       "    </tr>\n",
       "    <tr>\n",
       "      <th>62</th>\n",
       "      <td>grade_B</td>\n",
       "      <td>0.200753</td>\n",
       "    </tr>\n",
       "    <tr>\n",
       "      <th>63</th>\n",
       "      <td>grade_C</td>\n",
       "      <td>0.302030</td>\n",
       "    </tr>\n",
       "    <tr>\n",
       "      <th>64</th>\n",
       "      <td>grade_D</td>\n",
       "      <td>0.289273</td>\n",
       "    </tr>\n",
       "    <tr>\n",
       "      <th>65</th>\n",
       "      <td>grade_E</td>\n",
       "      <td>0.276431</td>\n",
       "    </tr>\n",
       "    <tr>\n",
       "      <th>66</th>\n",
       "      <td>grade_F</td>\n",
       "      <td>0.381491</td>\n",
       "    </tr>\n",
       "    <tr>\n",
       "      <th>67</th>\n",
       "      <td>grade_G</td>\n",
       "      <td>0.212939</td>\n",
       "    </tr>\n",
       "    <tr>\n",
       "      <th>68</th>\n",
       "      <td>purpose_life_event</td>\n",
       "      <td>0.080693</td>\n",
       "    </tr>\n",
       "    <tr>\n",
       "      <th>69</th>\n",
       "      <td>purpose_major_purchase</td>\n",
       "      <td>-0.007856</td>\n",
       "    </tr>\n",
       "    <tr>\n",
       "      <th>70</th>\n",
       "      <td>purpose_other</td>\n",
       "      <td>0.013206</td>\n",
       "    </tr>\n",
       "    <tr>\n",
       "      <th>71</th>\n",
       "      <td>region_NorthEast</td>\n",
       "      <td>0.025614</td>\n",
       "    </tr>\n",
       "    <tr>\n",
       "      <th>72</th>\n",
       "      <td>region_SouthEast</td>\n",
       "      <td>0.020860</td>\n",
       "    </tr>\n",
       "    <tr>\n",
       "      <th>73</th>\n",
       "      <td>region_SouthWest</td>\n",
       "      <td>0.003057</td>\n",
       "    </tr>\n",
       "    <tr>\n",
       "      <th>74</th>\n",
       "      <td>region_West</td>\n",
       "      <td>-0.170872</td>\n",
       "    </tr>\n",
       "    <tr>\n",
       "      <th>75</th>\n",
       "      <td>verification_status_Verified</td>\n",
       "      <td>0.195165</td>\n",
       "    </tr>\n",
       "    <tr>\n",
       "      <th>76</th>\n",
       "      <td>application_type_Joint App</td>\n",
       "      <td>-0.893395</td>\n",
       "    </tr>\n",
       "    <tr>\n",
       "      <th>77</th>\n",
       "      <td>initial_list_status_w</td>\n",
       "      <td>-0.236310</td>\n",
       "    </tr>\n",
       "    <tr>\n",
       "      <th>78</th>\n",
       "      <td>hardship_flag_Y</td>\n",
       "      <td>0.000000</td>\n",
       "    </tr>\n",
       "    <tr>\n",
       "      <th>79</th>\n",
       "      <td>disbursement_method_DirectPay</td>\n",
       "      <td>-0.429454</td>\n",
       "    </tr>\n",
       "  </tbody>\n",
       "</table>\n",
       "<p>80 rows × 2 columns</p>\n",
       "</div>"
      ],
      "text/plain": [
       "                          Feature  Coefficients\n",
       "0                       loan_amnt      4.225374\n",
       "1                     funded_amnt     53.398443\n",
       "2                        int_rate      3.613821\n",
       "3                     installment      4.329987\n",
       "4                      annual_inc     -4.800068\n",
       "5                             dti     15.175921\n",
       "6                     delinq_2yrs      3.066101\n",
       "7                earliest_cr_line     -2.632013\n",
       "8                  inq_last_6mths      0.413606\n",
       "9                        open_acc      0.546362\n",
       "10                        pub_rec      3.339596\n",
       "11                      revol_bal     -2.595624\n",
       "12                     revol_util      1.623492\n",
       "13                      total_acc     -1.598559\n",
       "14                      out_prncp      0.000000\n",
       "15                  out_prncp_inv      0.000000\n",
       "16                    total_pymnt    -91.460869\n",
       "17     collections_12_mths_ex_med      0.721690\n",
       "18                    policy_code      0.000000\n",
       "19                 acc_now_delinq      0.000000\n",
       "20                   tot_coll_amt      0.597694\n",
       "21                    tot_cur_bal     -1.731816\n",
       "22               total_rev_hi_lim      0.000000\n",
       "23           acc_open_past_24mths     -0.200835\n",
       "24                    avg_cur_bal     -2.544774\n",
       "25                 bc_open_to_buy      0.350054\n",
       "26                        bc_util     -0.139156\n",
       "27       chargeoff_within_12_mths      0.000000\n",
       "28                    delinq_amnt      0.176708\n",
       "29             mo_sin_old_il_acct     -0.274437\n",
       "..                            ...           ...\n",
       "50           pub_rec_bankruptcies     -0.133174\n",
       "51                      tax_liens      0.000000\n",
       "52                tot_hi_cred_lim      0.000000\n",
       "53              total_bal_ex_mort      6.408644\n",
       "54                 total_bc_limit    -15.734183\n",
       "55     total_il_high_credit_limit     -3.898764\n",
       "56           emp_length_10+ years     -0.046570\n",
       "57          emp_length_5-10 years     -0.041072\n",
       "58                term_ 60 months      1.153627\n",
       "59           home_ownership_OTHER      0.455894\n",
       "60             home_ownership_OWN      0.036489\n",
       "61            home_ownership_RENT      0.164427\n",
       "62                        grade_B      0.200753\n",
       "63                        grade_C      0.302030\n",
       "64                        grade_D      0.289273\n",
       "65                        grade_E      0.276431\n",
       "66                        grade_F      0.381491\n",
       "67                        grade_G      0.212939\n",
       "68             purpose_life_event      0.080693\n",
       "69         purpose_major_purchase     -0.007856\n",
       "70                  purpose_other      0.013206\n",
       "71               region_NorthEast      0.025614\n",
       "72               region_SouthEast      0.020860\n",
       "73               region_SouthWest      0.003057\n",
       "74                    region_West     -0.170872\n",
       "75   verification_status_Verified      0.195165\n",
       "76     application_type_Joint App     -0.893395\n",
       "77          initial_list_status_w     -0.236310\n",
       "78                hardship_flag_Y      0.000000\n",
       "79  disbursement_method_DirectPay     -0.429454\n",
       "\n",
       "[80 rows x 2 columns]"
      ]
     },
     "execution_count": 109,
     "metadata": {},
     "output_type": "execute_result"
    }
   ],
   "source": [
    "coefficients = pd.DataFrame({\"Feature\":X_train.columns,\"Coefficients\":np.transpose(log_model.coef_[0, ])})\n",
    "coefficients"
   ]
  },
  {
   "cell_type": "code",
   "execution_count": null,
   "metadata": {},
   "outputs": [],
   "source": [
    "fpr_log, tpr_log, _ = roc_curve(predictions, y_test)\n",
    "roc_auc_log = auc(fpr_log, tpr_log)\n",
    "print(\"Logistic Regression (0.5) AUC \",  roc_auc_log)"
   ]
  },
  {
   "cell_type": "markdown",
   "metadata": {},
   "source": [
    "# Logistic Regression Before Application"
   ]
  },
  {
   "cell_type": "code",
   "execution_count": 55,
   "metadata": {},
   "outputs": [
    {
     "name": "stdout",
     "output_type": "stream",
     "text": [
      "Time for Logistic Regression train:  12.805015087127686\n",
      "Time for Logistic Regression test:  0.012660980224609375\n"
     ]
    }
   ],
   "source": [
    "from sklearn.linear_model import LogisticRegression\n",
    "\n",
    "log_model_app = LogisticRegression(penalty = 'l1', max_iter=500)\n",
    "\n",
    "start_log = time.time()\n",
    "log_model_app.fit(X_train_app, y_train_app)\n",
    "end_log = time.time()\n",
    "\n",
    "log_probs_train_app = log_model_app.predict_proba(X_train_app)\n",
    "\n",
    "start_log_test = time.time()\n",
    "log_probs_app = log_model_app.predict_proba(X_test_app)\n",
    "end_log_test = time.time()\n",
    "\n",
    "print(\"Time for Logistic Regression train: \", (end_log - start_log))\n",
    "print(\"Time for Logistic Regression test: \", (end_log_test - start_log_test))"
   ]
  },
  {
   "cell_type": "code",
   "execution_count": 555,
   "metadata": {},
   "outputs": [
    {
     "name": "stdout",
     "output_type": "stream",
     "text": [
      "Accuracy: 0.63 (+/- 0.05)\n"
     ]
    }
   ],
   "source": [
    "from sklearn.model_selection import cross_val_score\n",
    "scores = cross_val_score(log_model_app, X_train_app, y_train_app, cv=5)\n",
    "print(\"Accuracy: %0.2f (+/- %0.2f)\" % (scores.mean(), scores.std() * 2))"
   ]
  },
  {
   "cell_type": "code",
   "execution_count": 559,
   "metadata": {
    "scrolled": false
   },
   "outputs": [
    {
     "name": "stdout",
     "output_type": "stream",
     "text": [
      "Logistic Regresion Model with Threshold =  0.25\n",
      "Confusion Matrix for Logistic Regression  Model\n",
      "[[ 39306 165843]\n",
      " [  8813 196336]] \n",
      "\n",
      "True Positives:  196336\n",
      "False Positives:  165843\n",
      "True Negatives:  39306\n",
      "False Negatives:  8813\n",
      "Logistic Regression Train  Accuracy:  0.5743191533958245\n",
      "Logistic Regression Train  Error:  0.4256808466041755\n",
      "Report for Logistic Regression  Model\n",
      "              precision    recall  f1-score   support\n",
      "\n",
      "           0       0.82      0.19      0.31    205149\n",
      "           1       0.54      0.96      0.69    205149\n",
      "\n",
      "   micro avg       0.57      0.57      0.57    410298\n",
      "   macro avg       0.68      0.57      0.50    410298\n",
      "weighted avg       0.68      0.57      0.50    410298\n",
      "\n",
      "\n",
      "\n",
      "Confusion Matrix for Logistic Regression  Model\n",
      "[[10191 46315]\n",
      " [ 2252 54254]] \n",
      "\n",
      "True Positives:  54254\n",
      "False Positives:  46315\n",
      "True Negatives:  10191\n",
      "False Negatives:  2252\n",
      "Logistic Regression Test  Accuracy:  0.5702491770785403\n",
      "Logistic Regression Test  Error:  0.4297508229214597\n",
      "Report for Logistic Regression  Model\n",
      "              precision    recall  f1-score   support\n",
      "\n",
      "           0       0.82      0.18      0.30     56506\n",
      "           1       0.54      0.96      0.69     56506\n",
      "\n",
      "   micro avg       0.57      0.57      0.57    113012\n",
      "   macro avg       0.68      0.57      0.49    113012\n",
      "weighted avg       0.68      0.57      0.49    113012\n",
      "\n",
      "\n",
      "\n",
      "Logistic Regresion Model with Threshold =  0.5\n",
      "Confusion Matrix for Logistic Regression  Model\n",
      "[[132859  72290]\n",
      " [ 68324 136825]] \n",
      "\n",
      "True Positives:  136825\n",
      "False Positives:  72290\n",
      "True Negatives:  132859\n",
      "False Negatives:  68324\n",
      "Logistic Regression Train  Accuracy:  0.6572881174170968\n",
      "Logistic Regression Train  Error:  0.3427118825829032\n",
      "Report for Logistic Regression  Model\n",
      "              precision    recall  f1-score   support\n",
      "\n",
      "           0       0.66      0.65      0.65    205149\n",
      "           1       0.65      0.67      0.66    205149\n",
      "\n",
      "   micro avg       0.66      0.66      0.66    410298\n",
      "   macro avg       0.66      0.66      0.66    410298\n",
      "weighted avg       0.66      0.66      0.66    410298\n",
      "\n",
      "\n",
      "\n",
      "Confusion Matrix for Logistic Regression  Model\n",
      "[[34463 22043]\n",
      " [18442 38064]] \n",
      "\n",
      "True Positives:  38064\n",
      "False Positives:  22043\n",
      "True Negatives:  34463\n",
      "False Negatives:  18442\n",
      "Logistic Regression Test  Accuracy:  0.6417637065090432\n",
      "Logistic Regression Test  Error:  0.35823629349095676\n",
      "Report for Logistic Regression  Model\n",
      "              precision    recall  f1-score   support\n",
      "\n",
      "           0       0.65      0.61      0.63     56506\n",
      "           1       0.63      0.67      0.65     56506\n",
      "\n",
      "   micro avg       0.64      0.64      0.64    113012\n",
      "   macro avg       0.64      0.64      0.64    113012\n",
      "weighted avg       0.64      0.64      0.64    113012\n",
      "\n",
      "\n",
      "\n",
      "Logistic Regresion Model with Threshold =  0.75\n",
      "Confusion Matrix for Logistic Regression  Model\n",
      "[[196970   8179]\n",
      " [170942  34207]] \n",
      "\n",
      "True Positives:  34207\n",
      "False Positives:  8179\n",
      "True Negatives:  196970\n",
      "False Negatives:  170942\n",
      "Logistic Regression Train  Accuracy:  0.5634368190924645\n",
      "Logistic Regression Train  Error:  0.43656318090753554\n",
      "Report for Logistic Regression  Model\n",
      "              precision    recall  f1-score   support\n",
      "\n",
      "           0       0.54      0.96      0.69    205149\n",
      "           1       0.81      0.17      0.28    205149\n",
      "\n",
      "   micro avg       0.56      0.56      0.56    410298\n",
      "   macro avg       0.67      0.56      0.48    410298\n",
      "weighted avg       0.67      0.56      0.48    410298\n",
      "\n",
      "\n",
      "\n",
      "Confusion Matrix for Logistic Regression  Model\n",
      "[[53232  3274]\n",
      " [46679  9827]] \n",
      "\n",
      "True Positives:  9827\n",
      "False Positives:  3274\n",
      "True Negatives:  53232\n",
      "False Negatives:  46679\n",
      "Logistic Regression Test  Accuracy:  0.5579849927441334\n",
      "Logistic Regression Test  Error:  0.4420150072558666\n",
      "Report for Logistic Regression  Model\n",
      "              precision    recall  f1-score   support\n",
      "\n",
      "           0       0.53      0.94      0.68     56506\n",
      "           1       0.75      0.17      0.28     56506\n",
      "\n",
      "   micro avg       0.56      0.56      0.56    113012\n",
      "   macro avg       0.64      0.56      0.48    113012\n",
      "weighted avg       0.64      0.56      0.48    113012\n",
      "\n",
      "\n",
      "\n",
      "Logistic Regresion Model with Threshold =  0.9\n",
      "Confusion Matrix for Logistic Regression  Model\n",
      "[[205069     80]\n",
      " [204504    645]] \n",
      "\n",
      "True Positives:  645\n",
      "False Positives:  80\n",
      "True Negatives:  205069\n",
      "False Negatives:  204504\n",
      "Logistic Regression Train  Accuracy:  0.501377047901769\n",
      "Logistic Regression Train  Error:  0.49862295209823104\n",
      "Report for Logistic Regression  Model\n",
      "              precision    recall  f1-score   support\n",
      "\n",
      "           0       0.50      1.00      0.67    205149\n",
      "           1       0.89      0.00      0.01    205149\n",
      "\n",
      "   micro avg       0.50      0.50      0.50    410298\n",
      "   macro avg       0.70      0.50      0.34    410298\n",
      "weighted avg       0.70      0.50      0.34    410298\n",
      "\n",
      "\n",
      "\n",
      "Confusion Matrix for Logistic Regression  Model\n",
      "[[56353   153]\n",
      " [55945   561]] \n",
      "\n",
      "True Positives:  561\n",
      "False Positives:  153\n",
      "True Negatives:  56353\n",
      "False Negatives:  55945\n",
      "Logistic Regression Test  Accuracy:  0.5036102360811241\n",
      "Logistic Regression Test  Error:  0.4963897639188759\n",
      "Report for Logistic Regression  Model\n",
      "              precision    recall  f1-score   support\n",
      "\n",
      "           0       0.50      1.00      0.67     56506\n",
      "           1       0.79      0.01      0.02     56506\n",
      "\n",
      "   micro avg       0.50      0.50      0.50    113012\n",
      "   macro avg       0.64      0.50      0.34    113012\n",
      "weighted avg       0.64      0.50      0.34    113012\n",
      "\n",
      "\n",
      "\n"
     ]
    }
   ],
   "source": [
    "thresholds = [0.25, 0.50, 0.75, 0.90]\n",
    "\n",
    "# Runs the logistic regression model with different thresholds. \n",
    "for thresh in thresholds:\n",
    "    predictions_train_app = (log_probs_train_app [:,1] >= thresh).astype('int')\n",
    "    predictions_app = (log_probs_app [:,1] >= thresh).astype('int')\n",
    "    \n",
    "    print(\"Logistic Regresion Model with Threshold = \",thresh)\n",
    "    get_metrics(\"Logistic Regression\", \"Train\", y_train_app, predictions_train_app)\n",
    "    print(\"\\n\")\n",
    "    get_metrics(\"Logistic Regression\", \"Test\", y_test_app, predictions_app)\n",
    "    print(\"\\n\")"
   ]
  },
  {
   "cell_type": "code",
   "execution_count": 557,
   "metadata": {},
   "outputs": [
    {
     "name": "stdout",
     "output_type": "stream",
     "text": [
      "Logistic Regression (0.5) AUC  0.6792425602061313\n"
     ]
    }
   ],
   "source": [
    "fpr_log_app, tpr_log_app, _ = roc_curve(predictions_app, y_test_app)\n",
    "roc_auc_log_app = auc(fpr_log_app, tpr_log_app)\n",
    "print(\"Logistic Regression (0.5) AUC \",  roc_auc_log_app)"
   ]
  },
  {
   "cell_type": "code",
   "execution_count": 558,
   "metadata": {},
   "outputs": [
    {
     "data": {
      "image/png": "[encoded data removed]",
      "text/plain": [
       "<Figure size 432x288 with 1 Axes>"
      ]
     },
     "metadata": {
      "needs_background": "light"
     },
     "output_type": "display_data"
    }
   ],
   "source": [
    "get_roc(\"Logistic Regression\", predictions_app, y_test_app)"
   ]
  },
  {
   "cell_type": "code",
   "execution_count": 67,
   "metadata": {
    "scrolled": false
   },
   "outputs": [
    {
     "data": {
      "text/html": [
       "<div>\n",
       "<style scoped>\n",
       "    .dataframe tbody tr th:only-of-type {\n",
       "        vertical-align: middle;\n",
       "    }\n",
       "\n",
       "    .dataframe tbody tr th {\n",
       "        vertical-align: top;\n",
       "    }\n",
       "\n",
       "    .dataframe thead th {\n",
       "        text-align: right;\n",
       "    }\n",
       "</style>\n",
       "<table border=\"1\" class=\"dataframe\">\n",
       "  <thead>\n",
       "    <tr style=\"text-align: right;\">\n",
       "      <th></th>\n",
       "      <th>Feature</th>\n",
       "      <th>Coefficients</th>\n",
       "    </tr>\n",
       "  </thead>\n",
       "  <tbody>\n",
       "    <tr>\n",
       "      <th>30</th>\n",
       "      <td>total_bc_limit</td>\n",
       "      <td>-0.154836</td>\n",
       "    </tr>\n",
       "    <tr>\n",
       "      <th>9</th>\n",
       "      <td>total_acc</td>\n",
       "      <td>-0.120101</td>\n",
       "    </tr>\n",
       "    <tr>\n",
       "      <th>11</th>\n",
       "      <td>avg_cur_bal</td>\n",
       "      <td>-0.063163</td>\n",
       "    </tr>\n",
       "    <tr>\n",
       "      <th>5</th>\n",
       "      <td>open_acc</td>\n",
       "      <td>-0.053600</td>\n",
       "    </tr>\n",
       "    <tr>\n",
       "      <th>19</th>\n",
       "      <td>mort_acc</td>\n",
       "      <td>-0.049389</td>\n",
       "    </tr>\n",
       "    <tr>\n",
       "      <th>2</th>\n",
       "      <td>annual_inc</td>\n",
       "      <td>-0.047057</td>\n",
       "    </tr>\n",
       "    <tr>\n",
       "      <th>20</th>\n",
       "      <td>mths_since_recent_bc</td>\n",
       "      <td>-0.044826</td>\n",
       "    </tr>\n",
       "    <tr>\n",
       "      <th>38</th>\n",
       "      <td>emp_length_10+ years</td>\n",
       "      <td>-0.041276</td>\n",
       "    </tr>\n",
       "    <tr>\n",
       "      <th>52</th>\n",
       "      <td>region_West</td>\n",
       "      <td>-0.037536</td>\n",
       "    </tr>\n",
       "    <tr>\n",
       "      <th>21</th>\n",
       "      <td>mths_since_recent_inq</td>\n",
       "      <td>-0.028173</td>\n",
       "    </tr>\n",
       "    <tr>\n",
       "      <th>39</th>\n",
       "      <td>emp_length_5-10 years</td>\n",
       "      <td>-0.023106</td>\n",
       "    </tr>\n",
       "    <tr>\n",
       "      <th>18</th>\n",
       "      <td>mo_sin_rcnt_tl</td>\n",
       "      <td>-0.014675</td>\n",
       "    </tr>\n",
       "    <tr>\n",
       "      <th>4</th>\n",
       "      <td>earliest_cr_line</td>\n",
       "      <td>-0.007930</td>\n",
       "    </tr>\n",
       "    <tr>\n",
       "      <th>16</th>\n",
       "      <td>mo_sin_old_rev_tl_op</td>\n",
       "      <td>-0.007777</td>\n",
       "    </tr>\n",
       "    <tr>\n",
       "      <th>7</th>\n",
       "      <td>revol_bal</td>\n",
       "      <td>-0.007675</td>\n",
       "    </tr>\n",
       "    <tr>\n",
       "      <th>28</th>\n",
       "      <td>num_rev_accts</td>\n",
       "      <td>-0.001892</td>\n",
       "    </tr>\n",
       "    <tr>\n",
       "      <th>22</th>\n",
       "      <td>num_actv_bc_tl</td>\n",
       "      <td>-0.000265</td>\n",
       "    </tr>\n",
       "    <tr>\n",
       "      <th>48</th>\n",
       "      <td>application_type_Joint App</td>\n",
       "      <td>0.001476</td>\n",
       "    </tr>\n",
       "    <tr>\n",
       "      <th>29</th>\n",
       "      <td>pub_rec_bankruptcies</td>\n",
       "      <td>0.003306</td>\n",
       "    </tr>\n",
       "    <tr>\n",
       "      <th>40</th>\n",
       "      <td>home_ownership_OTHER</td>\n",
       "      <td>0.003822</td>\n",
       "    </tr>\n",
       "    <tr>\n",
       "      <th>51</th>\n",
       "      <td>region_SouthWest</td>\n",
       "      <td>0.004044</td>\n",
       "    </tr>\n",
       "    <tr>\n",
       "      <th>15</th>\n",
       "      <td>mo_sin_old_il_acct</td>\n",
       "      <td>0.005602</td>\n",
       "    </tr>\n",
       "    <tr>\n",
       "      <th>46</th>\n",
       "      <td>purpose_other</td>\n",
       "      <td>0.006244</td>\n",
       "    </tr>\n",
       "    <tr>\n",
       "      <th>17</th>\n",
       "      <td>mo_sin_rcnt_rev_tl_op</td>\n",
       "      <td>0.006483</td>\n",
       "    </tr>\n",
       "    <tr>\n",
       "      <th>8</th>\n",
       "      <td>revol_util</td>\n",
       "      <td>0.008737</td>\n",
       "    </tr>\n",
       "    <tr>\n",
       "      <th>14</th>\n",
       "      <td>delinq_amnt</td>\n",
       "      <td>0.009449</td>\n",
       "    </tr>\n",
       "    <tr>\n",
       "      <th>50</th>\n",
       "      <td>region_SouthEast</td>\n",
       "      <td>0.010594</td>\n",
       "    </tr>\n",
       "    <tr>\n",
       "      <th>45</th>\n",
       "      <td>purpose_major_purchase</td>\n",
       "      <td>0.012577</td>\n",
       "    </tr>\n",
       "    <tr>\n",
       "      <th>25</th>\n",
       "      <td>num_bc_tl</td>\n",
       "      <td>0.015994</td>\n",
       "    </tr>\n",
       "    <tr>\n",
       "      <th>49</th>\n",
       "      <td>region_NorthEast</td>\n",
       "      <td>0.018404</td>\n",
       "    </tr>\n",
       "    <tr>\n",
       "      <th>27</th>\n",
       "      <td>num_op_rev_tl</td>\n",
       "      <td>0.018675</td>\n",
       "    </tr>\n",
       "    <tr>\n",
       "      <th>6</th>\n",
       "      <td>pub_rec</td>\n",
       "      <td>0.021302</td>\n",
       "    </tr>\n",
       "    <tr>\n",
       "      <th>26</th>\n",
       "      <td>num_il_tl</td>\n",
       "      <td>0.025953</td>\n",
       "    </tr>\n",
       "    <tr>\n",
       "      <th>12</th>\n",
       "      <td>bc_open_to_buy</td>\n",
       "      <td>0.028612</td>\n",
       "    </tr>\n",
       "    <tr>\n",
       "      <th>13</th>\n",
       "      <td>bc_util</td>\n",
       "      <td>0.037665</td>\n",
       "    </tr>\n",
       "    <tr>\n",
       "      <th>44</th>\n",
       "      <td>purpose_life_event</td>\n",
       "      <td>0.043895</td>\n",
       "    </tr>\n",
       "    <tr>\n",
       "      <th>41</th>\n",
       "      <td>home_ownership_OWN</td>\n",
       "      <td>0.045557</td>\n",
       "    </tr>\n",
       "    <tr>\n",
       "      <th>24</th>\n",
       "      <td>num_bc_sats</td>\n",
       "      <td>0.045689</td>\n",
       "    </tr>\n",
       "    <tr>\n",
       "      <th>43</th>\n",
       "      <td>verification_status_Verified</td>\n",
       "      <td>0.053118</td>\n",
       "    </tr>\n",
       "    <tr>\n",
       "      <th>47</th>\n",
       "      <td>initial_list_status_w</td>\n",
       "      <td>0.072124</td>\n",
       "    </tr>\n",
       "    <tr>\n",
       "      <th>37</th>\n",
       "      <td>grade_G</td>\n",
       "      <td>0.088433</td>\n",
       "    </tr>\n",
       "    <tr>\n",
       "      <th>23</th>\n",
       "      <td>num_actv_rev_tl</td>\n",
       "      <td>0.094717</td>\n",
       "    </tr>\n",
       "    <tr>\n",
       "      <th>0</th>\n",
       "      <td>loan_amnt</td>\n",
       "      <td>0.097353</td>\n",
       "    </tr>\n",
       "    <tr>\n",
       "      <th>42</th>\n",
       "      <td>home_ownership_RENT</td>\n",
       "      <td>0.110536</td>\n",
       "    </tr>\n",
       "    <tr>\n",
       "      <th>36</th>\n",
       "      <td>grade_F</td>\n",
       "      <td>0.161464</td>\n",
       "    </tr>\n",
       "    <tr>\n",
       "      <th>3</th>\n",
       "      <td>dti</td>\n",
       "      <td>0.164393</td>\n",
       "    </tr>\n",
       "    <tr>\n",
       "      <th>10</th>\n",
       "      <td>acc_open_past_24mths</td>\n",
       "      <td>0.183921</td>\n",
       "    </tr>\n",
       "    <tr>\n",
       "      <th>32</th>\n",
       "      <td>grade_B</td>\n",
       "      <td>0.194414</td>\n",
       "    </tr>\n",
       "    <tr>\n",
       "      <th>1</th>\n",
       "      <td>int_rate</td>\n",
       "      <td>0.212439</td>\n",
       "    </tr>\n",
       "    <tr>\n",
       "      <th>35</th>\n",
       "      <td>grade_E</td>\n",
       "      <td>0.260573</td>\n",
       "    </tr>\n",
       "    <tr>\n",
       "      <th>31</th>\n",
       "      <td>term_ 60 months</td>\n",
       "      <td>0.264133</td>\n",
       "    </tr>\n",
       "    <tr>\n",
       "      <th>33</th>\n",
       "      <td>grade_C</td>\n",
       "      <td>0.314923</td>\n",
       "    </tr>\n",
       "    <tr>\n",
       "      <th>34</th>\n",
       "      <td>grade_D</td>\n",
       "      <td>0.316754</td>\n",
       "    </tr>\n",
       "  </tbody>\n",
       "</table>\n",
       "</div>"
      ],
      "text/plain": [
       "                         Feature  Coefficients\n",
       "30                total_bc_limit     -0.154836\n",
       "9                      total_acc     -0.120101\n",
       "11                   avg_cur_bal     -0.063163\n",
       "5                       open_acc     -0.053600\n",
       "19                      mort_acc     -0.049389\n",
       "2                     annual_inc     -0.047057\n",
       "20          mths_since_recent_bc     -0.044826\n",
       "38          emp_length_10+ years     -0.041276\n",
       "52                   region_West     -0.037536\n",
       "21         mths_since_recent_inq     -0.028173\n",
       "39         emp_length_5-10 years     -0.023106\n",
       "18                mo_sin_rcnt_tl     -0.014675\n",
       "4               earliest_cr_line     -0.007930\n",
       "16          mo_sin_old_rev_tl_op     -0.007777\n",
       "7                      revol_bal     -0.007675\n",
       "28                 num_rev_accts     -0.001892\n",
       "22                num_actv_bc_tl     -0.000265\n",
       "48    application_type_Joint App      0.001476\n",
       "29          pub_rec_bankruptcies      0.003306\n",
       "40          home_ownership_OTHER      0.003822\n",
       "51              region_SouthWest      0.004044\n",
       "15            mo_sin_old_il_acct      0.005602\n",
       "46                 purpose_other      0.006244\n",
       "17         mo_sin_rcnt_rev_tl_op      0.006483\n",
       "8                     revol_util      0.008737\n",
       "14                   delinq_amnt      0.009449\n",
       "50              region_SouthEast      0.010594\n",
       "45        purpose_major_purchase      0.012577\n",
       "25                     num_bc_tl      0.015994\n",
       "49              region_NorthEast      0.018404\n",
       "27                 num_op_rev_tl      0.018675\n",
       "6                        pub_rec      0.021302\n",
       "26                     num_il_tl      0.025953\n",
       "12                bc_open_to_buy      0.028612\n",
       "13                       bc_util      0.037665\n",
       "44            purpose_life_event      0.043895\n",
       "41            home_ownership_OWN      0.045557\n",
       "24                   num_bc_sats      0.045689\n",
       "43  verification_status_Verified      0.053118\n",
       "47         initial_list_status_w      0.072124\n",
       "37                       grade_G      0.088433\n",
       "23               num_actv_rev_tl      0.094717\n",
       "0                      loan_amnt      0.097353\n",
       "42           home_ownership_RENT      0.110536\n",
       "36                       grade_F      0.161464\n",
       "3                            dti      0.164393\n",
       "10          acc_open_past_24mths      0.183921\n",
       "32                       grade_B      0.194414\n",
       "1                       int_rate      0.212439\n",
       "35                       grade_E      0.260573\n",
       "31               term_ 60 months      0.264133\n",
       "33                       grade_C      0.314923\n",
       "34                       grade_D      0.316754"
      ]
     },
     "execution_count": 67,
     "metadata": {},
     "output_type": "execute_result"
    }
   ],
   "source": [
    "coefficients = pd.DataFrame({\"Feature\":X_train_app.columns,\"Coefficients\":np.transpose(log_model_app.coef_[0, ])})\n",
    "coefficients.sort_values('Coefficients')"
   ]
  },
  {
   "cell_type": "markdown",
   "metadata": {},
   "source": [
    "# Linear Discriminant Analysis Model"
   ]
  },
  {
   "cell_type": "code",
   "execution_count": 110,
   "metadata": {
    "scrolled": true
   },
   "outputs": [],
   "source": [
    "from sklearn.discriminant_analysis import LinearDiscriminantAnalysis\n",
    "\n",
    "lda = LinearDiscriminantAnalysis()\n",
    "\n",
    "lda.fit(X_train, y_train)\n",
    "\n",
    "# predict the response\n",
    "y_lda_pred_train = lda.predict(X_train)\n",
    "y_lda_pred = lda.predict(X_test)"
   ]
  },
  {
   "cell_type": "code",
   "execution_count": 111,
   "metadata": {},
   "outputs": [
    {
     "name": "stdout",
     "output_type": "stream",
     "text": [
      "Accuracy: 0.88 (+/- 0.06)\n"
     ]
    }
   ],
   "source": [
    "from sklearn.model_selection import cross_val_score\n",
    "lda = LinearDiscriminantAnalysis()\n",
    "scores = cross_val_score(lda, X_train, y_train, cv=5)\n",
    "print(\"Accuracy: %0.2f (+/- %0.2f)\" % (scores.mean(), scores.std() * 2))"
   ]
  },
  {
   "cell_type": "code",
   "execution_count": 540,
   "metadata": {},
   "outputs": [
    {
     "name": "stdout",
     "output_type": "stream",
     "text": [
      "Confusion Matrix for LDA  Model\n",
      "[[130379  74770]\n",
      " [ 68249 136900]] \n",
      "\n",
      "True Positives:  136900\n",
      "False Positives:  74770\n",
      "True Negatives:  130379\n",
      "False Negatives:  68249\n",
      "LDA Train  Accuracy:  0.6514265241361157\n",
      "LDA Train  Error:  0.3485734758638843\n",
      "Report for LDA  Model\n",
      "              precision    recall  f1-score   support\n",
      "\n",
      "           0       0.66      0.64      0.65    205149\n",
      "           1       0.65      0.67      0.66    205149\n",
      "\n",
      "   micro avg       0.65      0.65      0.65    410298\n",
      "   macro avg       0.65      0.65      0.65    410298\n",
      "weighted avg       0.65      0.65      0.65    410298\n",
      "\n",
      "\n",
      "\n",
      "Confusion Matrix for LDA  Model\n",
      "[[33163 23343]\n",
      " [17606 38900]] \n",
      "\n",
      "True Positives:  38900\n",
      "False Positives:  23343\n",
      "True Negatives:  33163\n",
      "False Negatives:  17606\n",
      "LDA Test  Accuracy:  0.6376579478285492\n",
      "LDA Test  Error:  0.36234205217145077\n",
      "Report for LDA  Model\n",
      "              precision    recall  f1-score   support\n",
      "\n",
      "           0       0.65      0.59      0.62     56506\n",
      "           1       0.62      0.69      0.66     56506\n",
      "\n",
      "   micro avg       0.64      0.64      0.64    113012\n",
      "   macro avg       0.64      0.64      0.64    113012\n",
      "weighted avg       0.64      0.64      0.64    113012\n",
      "\n"
     ]
    }
   ],
   "source": [
    "get_metrics(\"LDA\", \"Train\", y_train, y_lda_pred_train)\n",
    "print(\"\\n\")\n",
    "get_metrics(\"LDA\", \"Test\", y_test, y_lda_pred)"
   ]
  },
  {
   "cell_type": "code",
   "execution_count": 134,
   "metadata": {
    "scrolled": true
   },
   "outputs": [
    {
     "name": "stdout",
     "output_type": "stream",
     "text": [
      "LDA AUC  0.936185593488103\n"
     ]
    }
   ],
   "source": [
    "fpr_lda, tpr_lda, _ = roc_curve(y_lda_pred, y_test)\n",
    "roc_auc_lda = auc(fpr_lda, tpr_lda)\n",
    "print(\"LDA AUC \",  roc_auc_lda)"
   ]
  },
  {
   "cell_type": "markdown",
   "metadata": {},
   "source": [
    "# Linear Discriminant Analysis Model Before Acceptance"
   ]
  },
  {
   "cell_type": "code",
   "execution_count": 56,
   "metadata": {
    "scrolled": true
   },
   "outputs": [
    {
     "name": "stdout",
     "output_type": "stream",
     "text": [
      "Time for LDA train:  3.619105815887451\n",
      "Time for LDA test:  0.007232189178466797\n"
     ]
    }
   ],
   "source": [
    "from sklearn.discriminant_analysis import LinearDiscriminantAnalysis\n",
    "\n",
    "lda_app = LinearDiscriminantAnalysis()\n",
    "\n",
    "start_lda = time.time()\n",
    "lda_app.fit(X_train_app, y_train_app)\n",
    "end_lda = time.time()\n",
    "\n",
    "# predict the response\n",
    "y_lda_pred_train_app = lda_app.predict(X_train_app)\n",
    "\n",
    "start_lda_test = time.time()\n",
    "y_lda_pred_app = lda_app.predict(X_test_app)\n",
    "end_lda_test = time.time()\n",
    "\n",
    "print(\"Time for LDA train: \", (end_lda - start_lda))\n",
    "print(\"Time for LDA test: \", (end_lda_test - start_lda_test))"
   ]
  },
  {
   "cell_type": "code",
   "execution_count": 566,
   "metadata": {},
   "outputs": [
    {
     "name": "stdout",
     "output_type": "stream",
     "text": [
      "Accuracy: 0.63 (+/- 0.05)\n"
     ]
    }
   ],
   "source": [
    "from sklearn.model_selection import cross_val_score\n",
    "lda = LinearDiscriminantAnalysis()\n",
    "scores_lda = cross_val_score(lda, X_train_app, y_train_app, cv=5)\n",
    "print(\"Accuracy: %0.2f (+/- %0.2f)\" % (scores_lda.mean(), scores_lda.std() * 2))"
   ]
  },
  {
   "cell_type": "code",
   "execution_count": 580,
   "metadata": {},
   "outputs": [
    {
     "name": "stdout",
     "output_type": "stream",
     "text": [
      "Confusion Matrix for LDA  Model\n",
      "[[132407  72742]\n",
      " [ 68060 137089]] \n",
      "\n",
      "True Positives:  137089\n",
      "False Positives:  72742\n",
      "True Negatives:  132407\n",
      "False Negatives:  68060\n",
      "LDA Train  Accuracy:  0.6568299138674817\n",
      "LDA Train  Error:  0.3431700861325183\n",
      "Report for LDA  Model\n",
      "              precision    recall  f1-score   support\n",
      "\n",
      "           0       0.66      0.65      0.65    205149\n",
      "           1       0.65      0.67      0.66    205149\n",
      "\n",
      "   micro avg       0.66      0.66      0.66    410298\n",
      "   macro avg       0.66      0.66      0.66    410298\n",
      "weighted avg       0.66      0.66      0.66    410298\n",
      "\n",
      "\n",
      "\n",
      "Confusion Matrix for LDA  Model\n",
      "[[34316 22190]\n",
      " [18325 38181]] \n",
      "\n",
      "True Positives:  38181\n",
      "False Positives:  22190\n",
      "True Negatives:  34316\n",
      "False Negatives:  18325\n",
      "LDA Test  Accuracy:  0.6414982479736665\n",
      "LDA Test  Error:  0.3585017520263335\n",
      "Report for LDA  Model\n",
      "              precision    recall  f1-score   support\n",
      "\n",
      "           0       0.65      0.61      0.63     56506\n",
      "           1       0.63      0.68      0.65     56506\n",
      "\n",
      "   micro avg       0.64      0.64      0.64    113012\n",
      "   macro avg       0.64      0.64      0.64    113012\n",
      "weighted avg       0.64      0.64      0.64    113012\n",
      "\n"
     ]
    }
   ],
   "source": [
    "get_metrics(\"LDA\", \"Train\", y_train_app, y_lda_pred_train_app)\n",
    "print(\"\\n\")\n",
    "get_metrics(\"LDA\", \"Test\", y_test_app, y_lda_pred_app)"
   ]
  },
  {
   "cell_type": "code",
   "execution_count": 581,
   "metadata": {},
   "outputs": [
    {
     "name": "stdout",
     "output_type": "stream",
     "text": [
      "LDA AUC  0.642163364223574\n"
     ]
    }
   ],
   "source": [
    "fpr_lda_app, tpr_lda_app, _ = roc_curve(y_lda_pred_app, y_test_app)\n",
    "roc_auc_lda_app = auc(fpr_lda_app, tpr_lda_app)\n",
    "print(\"LDA AUC \",  roc_auc_lda_app)"
   ]
  },
  {
   "cell_type": "code",
   "execution_count": 582,
   "metadata": {},
   "outputs": [
    {
     "data": {
      "image/png": "[encoded data removed]",
      "text/plain": [
       "<Figure size 432x288 with 1 Axes>"
      ]
     },
     "metadata": {
      "needs_background": "light"
     },
     "output_type": "display_data"
    }
   ],
   "source": [
    "get_roc(\"LDA\", y_lda_pred_app, y_test_app)"
   ]
  },
  {
   "cell_type": "markdown",
   "metadata": {},
   "source": [
    "# Linear SVM"
   ]
  },
  {
   "cell_type": "code",
   "execution_count": 113,
   "metadata": {},
   "outputs": [],
   "source": [
    "from sklearn.svm import LinearSVC"
   ]
  },
  {
   "cell_type": "code",
   "execution_count": 114,
   "metadata": {},
   "outputs": [],
   "source": [
    "lin_svm = LinearSVC()\n",
    "\n",
    "\n",
    "lin_svm.fit(X_train, y_train)\n",
    "\n",
    "svm_train = lin_svm.predict(X_train)\n",
    "svm_test = lin_svm.predict(X_test)"
   ]
  },
  {
   "cell_type": "code",
   "execution_count": 115,
   "metadata": {},
   "outputs": [
    {
     "name": "stdout",
     "output_type": "stream",
     "text": [
      "Confusion Matrix for Linear SVM  Model\n",
      "[[199213   5936]\n",
      " [ 19447 185702]] \n",
      "\n",
      "True Positives:  185702\n",
      "False Positives:  5936\n",
      "True Negatives:  199213\n",
      "False Negatives:  19447\n",
      "Linear SVM Train  Accuracy:  0.9381352090431833\n",
      "Linear SVM Train  Error:  0.06186479095681674\n",
      "Report for Linear SVM  Model\n",
      "              precision    recall  f1-score   support\n",
      "\n",
      "           0       0.91      0.97      0.94    205149\n",
      "           1       0.97      0.91      0.94    205149\n",
      "\n",
      "   micro avg       0.94      0.94      0.94    410298\n",
      "   macro avg       0.94      0.94      0.94    410298\n",
      "weighted avg       0.94      0.94      0.94    410298\n",
      "\n",
      "\n",
      "\n",
      "Confusion Matrix for Linear SVM  Model\n",
      "[[56027   479]\n",
      " [ 2080 54426]] \n",
      "\n",
      "True Positives:  54426\n",
      "False Positives:  479\n",
      "True Negatives:  56027\n",
      "False Negatives:  2080\n",
      "Linear SVM Test  Accuracy:  0.9773563869323612\n",
      "Linear SVM Test  Error:  0.022643613067638846\n",
      "Report for Linear SVM  Model\n",
      "              precision    recall  f1-score   support\n",
      "\n",
      "           0       0.96      0.99      0.98     56506\n",
      "           1       0.99      0.96      0.98     56506\n",
      "\n",
      "   micro avg       0.98      0.98      0.98    113012\n",
      "   macro avg       0.98      0.98      0.98    113012\n",
      "weighted avg       0.98      0.98      0.98    113012\n",
      "\n"
     ]
    }
   ],
   "source": [
    "get_metrics(\"Linear SVM\", \"Train\", y_train, svm_train)\n",
    "print(\"\\n\")\n",
    "get_metrics(\"Linear SVM\", \"Test\", y_test, svm_test)"
   ]
  },
  {
   "cell_type": "code",
   "execution_count": 135,
   "metadata": {},
   "outputs": [
    {
     "name": "stdout",
     "output_type": "stream",
     "text": [
      "Linear SVM AUC  0.9777399043141096\n"
     ]
    }
   ],
   "source": [
    "fpr_svm, tpr_svm, _ = roc_curve(svm_test, y_test)\n",
    "roc_auc_svm = auc(fpr_svm, tpr_svm)\n",
    "pri# Linear SVM\n",
    "\n",
    "from sklearn.svm import LinearSVC\n",
    "\n",
    "lin_svm = LinearSVC()\n",
    "lin_svm.fit(X_train, y_train)\n",
    "\n",
    "svm_train = lin_svm.predict(X_train)\n",
    "svm_test = lin_svm.predict(X_test)\n",
    "\n",
    "get_metrics(\"Linear SVM\", \"Train\", y_train, svm_train)\n",
    "print(\"\\n\")\n",
    "get_metrics(\"Linear SVM\", \"Test\", y_test, svm_test)\n",
    "\n",
    "fpr_svm, tpr_svm, _ = roc_curve(svm_test, y_test)\n",
    "roc_auc_svm = auc(fpr_svm, tpr_svm)\n",
    "print(\"Linear SVM AUC \",  roc_auc_svm)nt(\"Linear SVM AUC \",  roc_auc_svm)"
   ]
  },
  {
   "cell_type": "markdown",
   "metadata": {},
   "source": [
    "# Linear SVM Before Accceptance"
   ]
  },
  {
   "cell_type": "code",
   "execution_count": 58,
   "metadata": {},
   "outputs": [],
   "source": [
    "from sklearn.svm import LinearSVC"
   ]
  },
  {
   "cell_type": "code",
   "execution_count": 112,
   "metadata": {},
   "outputs": [
    {
     "name": "stdout",
     "output_type": "stream",
     "text": [
      "Time for SVM (1) train:  240.85309505462646\n",
      "Time for SVM (1) test:  0.009312152862548828\n",
      "Time for SVM (5) train:  237.451012134552\n",
      "Time for SVM (5) test:  0.00893092155456543\n",
      "Time for SVM (10) train:  245.0142810344696\n",
      "Time for SVM (10) test:  0.008076667785644531\n"
     ]
    }
   ],
   "source": [
    "lin_svm_app_1 = LinearSVC(C=1, class_weight={0: 1, 1: 2})\n",
    "lin_svm_app_5 = LinearSVC(C=5, class_weight={0: 1, 1: 2})\n",
    "lin_svm_app_10 = LinearSVC(C=10, class_weight={0: 1, 1: 2})\n",
    "\n",
    "start_svm_1 = time.time()\n",
    "lin_svm_app_1.fit(X_train_app, y_train_app)\n",
    "end_svm_1 = time.time()\n",
    "\n",
    "start_svm_5 = time.time()\n",
    "lin_svm_app_5.fit(X_train_app, y_train_app)\n",
    "end_svm_5 = time.time()\n",
    "\n",
    "start_svm_10 = time.time()\n",
    "lin_svm_app_10.fit(X_train_app, y_train_app)\n",
    "end_svm_10 = time.time()\n",
    "\n",
    "svm_train_app_1 = lin_svm_app_1.predict(X_train_app)\n",
    "svm_train_app_5 = lin_svm_app_5.predict(X_train_app)\n",
    "svm_train_app_10 = lin_svm_app_10.predict(X_train_app)\n",
    "\n",
    "start_svm_test_1 = time.time()\n",
    "svm_test_app_1 = lin_svm_app_1.predict(X_test_app)\n",
    "end_svm_test_1 = time.time()\n",
    "\n",
    "start_svm_test_5 = time.time()\n",
    "svm_test_app_5 = lin_svm_app_5.predict(X_test_app)\n",
    "end_svm_test_5 = time.time()\n",
    "\n",
    "start_svm_test_10 = time.time()\n",
    "svm_test_app_10 = lin_svm_app_10.predict(X_test_app)\n",
    "end_svm_test_10 = time.time()\n",
    "\n",
    "print(\"Time for SVM (1) train: \", (end_svm_1 - start_svm_1))\n",
    "print(\"Time for SVM (1) test: \", (end_svm_test_1 - start_svm_test_1))\n",
    "print(\"Time for SVM (5) train: \", (end_svm_5 - start_svm_5))\n",
    "print(\"Time for SVM (5) test: \", (end_svm_test_5 - start_svm_test_5))\n",
    "print(\"Time for SVM (10) train: \", (end_svm_10 - start_svm_10))\n",
    "print(\"Time for SVM (10) test: \", (end_svm_test_10 - start_svm_test_10))"
   ]
  },
  {
   "cell_type": "code",
   "execution_count": 113,
   "metadata": {
    "scrolled": false
   },
   "outputs": [
    {
     "name": "stdout",
     "output_type": "stream",
     "text": [
      "Confusion Matrix for Linear SVM (1)  Model\n",
      "[[ 66204 138945]\n",
      " [ 20009 185140]] \n",
      "\n",
      "True Positives:  185140\n",
      "False Positives:  138945\n",
      "True Negatives:  66204\n",
      "False Negatives:  20009\n",
      "Linear SVM (1) Train  Accuracy:  0.6125888988003841\n",
      "Linear SVM (1) Train  Error:  0.38741110119961586\n",
      "Report for Linear SVM (1)  Model\n",
      "              precision    recall  f1-score   support\n",
      "\n",
      "           0       0.77      0.32      0.45    205149\n",
      "           1       0.57      0.90      0.70    205149\n",
      "\n",
      "   micro avg       0.61      0.61      0.61    410298\n",
      "   macro avg       0.67      0.61      0.58    410298\n",
      "weighted avg       0.67      0.61      0.58    410298\n",
      "\n",
      "\n",
      "\n",
      "Confusion Matrix for Linear SVM (1)  Model\n",
      "[[16432 40074]\n",
      " [ 5058 51448]] \n",
      "\n",
      "True Positives:  51448\n",
      "False Positives:  40074\n",
      "True Negatives:  16432\n",
      "False Negatives:  5058\n",
      "Linear SVM (1) Test  Accuracy:  0.600644179379181\n",
      "Linear SVM (1) Test  Error:  0.399355820620819\n",
      "Report for Linear SVM (1)  Model\n",
      "              precision    recall  f1-score   support\n",
      "\n",
      "           0       0.76      0.29      0.42     56506\n",
      "           1       0.56      0.91      0.70     56506\n",
      "\n",
      "   micro avg       0.60      0.60      0.60    113012\n",
      "   macro avg       0.66      0.60      0.56    113012\n",
      "weighted avg       0.66      0.60      0.56    113012\n",
      "\n",
      "Confusion Matrix for Linear SVM (5)  Model\n",
      "[[ 86560 118589]\n",
      " [ 34773 170376]] \n",
      "\n",
      "True Positives:  170376\n",
      "False Positives:  118589\n",
      "True Negatives:  86560\n",
      "False Negatives:  34773\n",
      "Linear SVM (5) Train  Accuracy:  0.6262180171485116\n",
      "Linear SVM (5) Train  Error:  0.37378198285148845\n",
      "Report for Linear SVM (5)  Model\n",
      "              precision    recall  f1-score   support\n",
      "\n",
      "           0       0.71      0.42      0.53    205149\n",
      "           1       0.59      0.83      0.69    205149\n",
      "\n",
      "   micro avg       0.63      0.63      0.63    410298\n",
      "   macro avg       0.65      0.63      0.61    410298\n",
      "weighted avg       0.65      0.63      0.61    410298\n",
      "\n",
      "\n",
      "\n",
      "Confusion Matrix for Linear SVM (5)  Model\n",
      "[[23041 33465]\n",
      " [ 9908 46598]] \n",
      "\n",
      "True Positives:  46598\n",
      "False Positives:  33465\n",
      "True Negatives:  23041\n",
      "False Negatives:  9908\n",
      "Linear SVM (5) Test  Accuracy:  0.6162088981701058\n",
      "Linear SVM (5) Test  Error:  0.3837911018298942\n",
      "Report for Linear SVM (5)  Model\n",
      "              precision    recall  f1-score   support\n",
      "\n",
      "           0       0.70      0.41      0.52     56506\n",
      "           1       0.58      0.82      0.68     56506\n",
      "\n",
      "   micro avg       0.62      0.62      0.62    113012\n",
      "   macro avg       0.64      0.62      0.60    113012\n",
      "weighted avg       0.64      0.62      0.60    113012\n",
      "\n",
      "Confusion Matrix for Linear SVM (10)  Model\n",
      "[[ 91740 113409]\n",
      " [ 49589 155560]] \n",
      "\n",
      "True Positives:  155560\n",
      "False Positives:  113409\n",
      "True Negatives:  91740\n",
      "False Negatives:  49589\n",
      "Linear SVM (10) Train  Accuracy:  0.6027326479778112\n",
      "Linear SVM (10) Train  Error:  0.39726735202218877\n",
      "Report for Linear SVM (10)  Model\n",
      "              precision    recall  f1-score   support\n",
      "\n",
      "           0       0.65      0.45      0.53    205149\n",
      "           1       0.58      0.76      0.66    205149\n",
      "\n",
      "   micro avg       0.60      0.60      0.60    410298\n",
      "   macro avg       0.61      0.60      0.59    410298\n",
      "weighted avg       0.61      0.60      0.59    410298\n",
      "\n",
      "\n",
      "\n",
      "Confusion Matrix for Linear SVM (10)  Model\n",
      "[[23799 32707]\n",
      " [14934 41572]] \n",
      "\n",
      "True Positives:  41572\n",
      "False Positives:  32707\n",
      "True Negatives:  23799\n",
      "False Negatives:  14934\n",
      "Linear SVM (10) Test  Accuracy:  0.5784429972038367\n",
      "Linear SVM (10) Test  Error:  0.42155700279616326\n",
      "Report for Linear SVM (10)  Model\n",
      "              precision    recall  f1-score   support\n",
      "\n",
      "           0       0.61      0.42      0.50     56506\n",
      "           1       0.56      0.74      0.64     56506\n",
      "\n",
      "   micro avg       0.58      0.58      0.58    113012\n",
      "   macro avg       0.59      0.58      0.57    113012\n",
      "weighted avg       0.59      0.58      0.57    113012\n",
      "\n"
     ]
    }
   ],
   "source": [
    "get_metrics(\"Linear SVM (1)\", \"Train\", y_train_app, svm_train_app_1)\n",
    "print(\"\\n\")\n",
    "get_metrics(\"Linear SVM (1)\", \"Test\", y_test_app, svm_test_app_1)\n",
    "\n",
    "get_metrics(\"Linear SVM (5)\", \"Train\", y_train_app, svm_train_app_5)\n",
    "print(\"\\n\")\n",
    "get_metrics(\"Linear SVM (5)\", \"Test\", y_test_app, svm_test_app_5)\n",
    "\n",
    "get_metrics(\"Linear SVM (10)\", \"Train\", y_train_app, svm_train_app_10)\n",
    "print(\"\\n\")\n",
    "get_metrics(\"Linear SVM (10)\", \"Test\", y_test_app, svm_test_app_10)"
   ]
  },
  {
   "cell_type": "code",
   "execution_count": 114,
   "metadata": {},
   "outputs": [
    {
     "name": "stdout",
     "output_type": "stream",
     "text": [
      "Linear SVM AUC  0.6406547541995752\n"
     ]
    }
   ],
   "source": [
    "fpr_svm, tpr_svm, _ = roc_curve(svm_test_app_5, y_test_app)\n",
    "roc_auc_svm = auc(fpr_svm, tpr_svm)\n",
    "print(\"Linear SVM AUC \",  roc_auc_svm)"
   ]
  },
  {
   "cell_type": "code",
   "execution_count": 116,
   "metadata": {},
   "outputs": [
    {
     "data": {
      "image/png": "[encoded data removed]",
      "text/plain": [
       "<Figure size 432x288 with 1 Axes>"
      ]
     },
     "metadata": {
      "needs_background": "light"
     },
     "output_type": "display_data"
    }
   ],
   "source": [
    "get_roc(\"Linear SVM\", svm_test_app_5, y_test_app)"
   ]
  },
  {
   "cell_type": "markdown",
   "metadata": {},
   "source": [
    "# Random Forest Model"
   ]
  },
  {
   "cell_type": "code",
   "execution_count": 117,
   "metadata": {},
   "outputs": [
    {
     "data": {
      "text/plain": [
       "RandomForestClassifier(bootstrap=True, class_weight=None, criterion='gini',\n",
       "            max_depth=None, max_features='auto', max_leaf_nodes=None,\n",
       "            min_impurity_decrease=0.0, min_impurity_split=None,\n",
       "            min_samples_leaf=1, min_samples_split=2,\n",
       "            min_weight_fraction_leaf=0.0, n_estimators=250, n_jobs=None,\n",
       "            oob_score=False, random_state=None, verbose=0,\n",
       "            warm_start=False)"
      ]
     },
     "execution_count": 117,
     "metadata": {},
     "output_type": "execute_result"
    }
   ],
   "source": [
    "from sklearn.ensemble import RandomForestClassifier\n",
    "from sklearn.feature_selection import SelectFromModel\n",
    "\n",
    "rfm_10 = RandomForestClassifier(n_estimators=10)\n",
    "rfm_10.fit(X_train, y_train)\n",
    "\n",
    "rfm_50 = RandomForestClassifier(n_estimators=50)\n",
    "rfm_50.fit(X_train, y_train)\n",
    "\n",
    "rfm_100 = RandomForestClassifier(n_estimators=100)\n",
    "rfm_100.fit(X_train, y_train)\n",
    "\n",
    "rfm_250 = RandomForestClassifier(n_estimators=250)\n",
    "rfm_250.fit(X_train, y_train)"
   ]
  },
  {
   "cell_type": "code",
   "execution_count": 132,
   "metadata": {},
   "outputs": [],
   "source": [
    "predictions_rfm_10_train = rfm_10.predict(X_train)\n",
    "predictions_rfm_50_train = rfm_50.predict(X_train)\n",
    "predictions_rfm_100_train = rfm_100.predict(X_train)\n",
    "predictions_rfm_250_train = rfm_250.predict(X_train)\n",
    "predictions_rfm_10_test = rfm_10.predict(X_test)\n",
    "predictions_rfm_50_test = rfm_50.predict(X_test)\n",
    "predictions_rfm_100_test = rfm_100.predict(X_test)\n",
    "predictions_rfm_250_test = rfm_250.predict(X_test)"
   ]
  },
  {
   "cell_type": "code",
   "execution_count": 133,
   "metadata": {},
   "outputs": [
    {
     "name": "stdout",
     "output_type": "stream",
     "text": [
      "Random Forest 10 Train Metrics \n",
      "\n",
      "Confusion Matrix for RFM 10  Model\n",
      "[[205092     57]\n",
      " [  1828 203321]] \n",
      "\n",
      "True Positives:  203321\n",
      "False Positives:  57\n",
      "True Negatives:  205092\n",
      "False Negatives:  1828\n",
      "RFM 10 Train  Accuracy:  0.995405778239231\n",
      "RFM 10 Train  Error:  0.004594221760768957\n",
      "Report for RFM 10  Model\n",
      "              precision    recall  f1-score   support\n",
      "\n",
      "           0       0.99      1.00      1.00    205149\n",
      "           1       1.00      0.99      1.00    205149\n",
      "\n",
      "   micro avg       1.00      1.00      1.00    410298\n",
      "   macro avg       1.00      1.00      1.00    410298\n",
      "weighted avg       1.00      1.00      1.00    410298\n",
      "\n",
      "\n",
      "\n",
      "Random Forest 10 Test Metrics \n",
      "\n",
      "Confusion Matrix for RFM 10  Model\n",
      "[[53141  3365]\n",
      " [ 3927 52579]] \n",
      "\n",
      "True Positives:  52579\n",
      "False Positives:  3365\n",
      "True Negatives:  53141\n",
      "False Negatives:  3927\n",
      "RFM 10 Test  Accuracy:  0.9354758786677521\n",
      "RFM 10 Test  Error:  0.06452412133224794\n",
      "Report for RFM 10  Model\n",
      "              precision    recall  f1-score   support\n",
      "\n",
      "           0       0.93      0.94      0.94     56506\n",
      "           1       0.94      0.93      0.94     56506\n",
      "\n",
      "   micro avg       0.94      0.94      0.94    113012\n",
      "   macro avg       0.94      0.94      0.94    113012\n",
      "weighted avg       0.94      0.94      0.94    113012\n",
      "\n",
      "\n",
      "\n",
      "Random Forest 50 Train Metrics \n",
      "\n",
      "Confusion Matrix for RFM 50  Model\n",
      "[[205149      0]\n",
      " [    12 205137]] \n",
      "\n",
      "True Positives:  205137\n",
      "False Positives:  0\n",
      "True Negatives:  205149\n",
      "False Negatives:  12\n",
      "RFM 50 Train  Accuracy:  0.9999707529649182\n",
      "RFM 50 Train  Error:  2.9247035081780837e-05\n",
      "Report for RFM 50  Model\n",
      "              precision    recall  f1-score   support\n",
      "\n",
      "           0       1.00      1.00      1.00    205149\n",
      "           1       1.00      1.00      1.00    205149\n",
      "\n",
      "   micro avg       1.00      1.00      1.00    410298\n",
      "   macro avg       1.00      1.00      1.00    410298\n",
      "weighted avg       1.00      1.00      1.00    410298\n",
      "\n",
      "\n",
      "\n",
      "Random Forest 50 Test Metrics \n",
      "\n",
      "Confusion Matrix for RFM 50  Model\n",
      "[[55173  1333]\n",
      " [ 1479 55027]] \n",
      "\n",
      "True Positives:  55027\n",
      "False Positives:  1333\n",
      "True Negatives:  55173\n",
      "False Negatives:  1479\n",
      "RFM 50 Test  Accuracy:  0.9751176866173503\n",
      "RFM 50 Test  Error:  0.02488231338264968\n",
      "Report for RFM 50  Model\n",
      "              precision    recall  f1-score   support\n",
      "\n",
      "           0       0.97      0.98      0.98     56506\n",
      "           1       0.98      0.97      0.98     56506\n",
      "\n",
      "   micro avg       0.98      0.98      0.98    113012\n",
      "   macro avg       0.98      0.98      0.98    113012\n",
      "weighted avg       0.98      0.98      0.98    113012\n",
      "\n",
      "\n",
      "\n",
      "Random Forest 100 Train Metrics \n",
      "\n",
      "Confusion Matrix for RFM 100  Model\n",
      "[[205149      0]\n",
      " [     0 205149]] \n",
      "\n",
      "True Positives:  205149\n",
      "False Positives:  0\n",
      "True Negatives:  205149\n",
      "False Negatives:  0\n",
      "RFM 100 Train  Accuracy:  1.0\n",
      "RFM 100 Train  Error:  0.0\n",
      "Report for RFM 100  Model\n",
      "              precision    recall  f1-score   support\n",
      "\n",
      "           0       1.00      1.00      1.00    205149\n",
      "           1       1.00      1.00      1.00    205149\n",
      "\n",
      "   micro avg       1.00      1.00      1.00    410298\n",
      "   macro avg       1.00      1.00      1.00    410298\n",
      "weighted avg       1.00      1.00      1.00    410298\n",
      "\n",
      "\n",
      "\n",
      "Random Forest 100 Test Metrics \n",
      "\n",
      "Confusion Matrix for RFM 100  Model\n",
      "[[55713   793]\n",
      " [ 1225 55281]] \n",
      "\n",
      "True Positives:  55281\n",
      "False Positives:  793\n",
      "True Negatives:  55713\n",
      "False Negatives:  1225\n",
      "RFM 100 Test  Accuracy:  0.982143489186989\n",
      "RFM 100 Test  Error:  0.017856510813010984\n",
      "Report for RFM 100  Model\n",
      "              precision    recall  f1-score   support\n",
      "\n",
      "           0       0.98      0.99      0.98     56506\n",
      "           1       0.99      0.98      0.98     56506\n",
      "\n",
      "   micro avg       0.98      0.98      0.98    113012\n",
      "   macro avg       0.98      0.98      0.98    113012\n",
      "weighted avg       0.98      0.98      0.98    113012\n",
      "\n",
      "\n",
      "\n",
      "Random Forest 250 Train Metrics \n",
      "\n",
      "Confusion Matrix for RFM 250  Model\n",
      "[[205149      0]\n",
      " [     0 205149]] \n",
      "\n",
      "True Positives:  205149\n",
      "False Positives:  0\n",
      "True Negatives:  205149\n",
      "False Negatives:  0\n",
      "RFM 250 Train  Accuracy:  1.0\n",
      "RFM 250 Train  Error:  0.0\n",
      "Report for RFM 250  Model\n",
      "              precision    recall  f1-score   support\n",
      "\n",
      "           0       1.00      1.00      1.00    205149\n",
      "           1       1.00      1.00      1.00    205149\n",
      "\n",
      "   micro avg       1.00      1.00      1.00    410298\n",
      "   macro avg       1.00      1.00      1.00    410298\n",
      "weighted avg       1.00      1.00      1.00    410298\n",
      "\n",
      "\n",
      "\n",
      "Random Forest 250 Test Metrics \n",
      "\n",
      "Confusion Matrix for RFM 250  Model\n",
      "[[56137   369]\n",
      " [  996 55510]] \n",
      "\n",
      "True Positives:  55510\n",
      "False Positives:  369\n",
      "True Negatives:  56137\n",
      "False Negatives:  996\n",
      "RFM 250 Test  Accuracy:  0.9879216366403568\n",
      "RFM 250 Test  Error:  0.012078363359643185\n",
      "Report for RFM 250  Model\n",
      "              precision    recall  f1-score   support\n",
      "\n",
      "           0       0.98      0.99      0.99     56506\n",
      "           1       0.99      0.98      0.99     56506\n",
      "\n",
      "   micro avg       0.99      0.99      0.99    113012\n",
      "   macro avg       0.99      0.99      0.99    113012\n",
      "weighted avg       0.99      0.99      0.99    113012\n",
      "\n"
     ]
    }
   ],
   "source": [
    "print(\"Random Forest 10 Train Metrics\", \"\\n\")\n",
    "get_metrics(\"RFM 10\", \"Train\", y_train, predictions_rfm_10_train)\n",
    "print(\"\\n\")\n",
    "print(\"Random Forest 10 Test Metrics\", \"\\n\")\n",
    "get_metrics(\"RFM 10\", \"Test\", y_test, predictions_rfm_10_test)\n",
    "print(\"\\n\")\n",
    "\n",
    "print(\"Random Forest 50 Train Metrics\", \"\\n\")\n",
    "get_metrics(\"RFM 50\", \"Train\", y_train, predictions_rfm_50_train)\n",
    "print(\"\\n\")\n",
    "print(\"Random Forest 50 Test Metrics\", \"\\n\")\n",
    "get_metrics(\"RFM 50\", \"Test\", y_test, predictions_rfm_50_test)\n",
    "print(\"\\n\")\n",
    "\n",
    "print(\"Random Forest 100 Train Metrics\", \"\\n\")\n",
    "get_metrics(\"RFM 100\", \"Train\", y_train, predictions_rfm_100_train)\n",
    "print(\"\\n\")\n",
    "print(\"Random Forest 100 Test Metrics\", \"\\n\")\n",
    "get_metrics(\"RFM 100\", \"Test\", y_test, predictions_rfm_100_test)\n",
    "print(\"\\n\")\n",
    "\n",
    "print(\"Random Forest 250 Train Metrics\", \"\\n\")\n",
    "get_metrics(\"RFM 250\", \"Train\", y_train, predictions_rfm_250_train)\n",
    "print(\"\\n\")\n",
    "print(\"Random Forest 250 Test Metrics\", \"\\n\")\n",
    "get_metrics(\"RFM 250\", \"Test\", y_test, predictions_rfm_250_test)"
   ]
  },
  {
   "cell_type": "code",
   "execution_count": 136,
   "metadata": {},
   "outputs": [
    {
     "name": "stdout",
     "output_type": "stream",
     "text": [
      "Random Forest (250) AUC  0.9879817193491379\n"
     ]
    }
   ],
   "source": [
    "fpr_rfm, tpr_rfm, _ = roc_curve(predictions_rfm_250_test, y_test)\n",
    "roc_auc_rfm = auc(fpr_rfm, tpr_rfm)\n",
    "print(\"Random Forest (250) AUC \",  roc_auc_rfm)"
   ]
  },
  {
   "cell_type": "markdown",
   "metadata": {},
   "source": [
    "# Random Forest Model Before Acceptance"
   ]
  },
  {
   "cell_type": "code",
   "execution_count": 61,
   "metadata": {},
   "outputs": [
    {
     "name": "stdout",
     "output_type": "stream",
     "text": [
      "Time for 10 train:  41.40232610702515\n",
      "Time for 50 train:  188.63707304000854\n",
      "Time for 100 train:  353.59833884239197\n",
      "Time for 250 train:  880.9357671737671\n"
     ]
    }
   ],
   "source": [
    "from sklearn.ensemble import RandomForestClassifier\n",
    "from sklearn.feature_selection import SelectFromModel\n",
    "\n",
    "rfm_10_app = RandomForestClassifier(n_estimators=10, oob_score=True, max_depth=10, max_features=35)\n",
    "\n",
    "start_10 = time.time()\n",
    "rfm_10_app.fit(X_train_app, y_train_app)\n",
    "end_10 = time.time()\n",
    "\n",
    "rfm_50_app = RandomForestClassifier(n_estimators=50, oob_score=True, max_depth=10, max_features=35)\n",
    "\n",
    "start_50 = time.time()\n",
    "rfm_50_app.fit(X_train_app, y_train_app)\n",
    "end_50 = time.time()\n",
    "\n",
    "rfm_100_app = RandomForestClassifier(n_estimators=100, oob_score=True, max_depth=10, max_features=35)\n",
    "\n",
    "start_100 = time.time()\n",
    "rfm_100_app.fit(X_train_app, y_train_app)\n",
    "end_100 = time.time()\n",
    "\n",
    "rfm_250_app = RandomForestClassifier(n_estimators=250, oob_score=True, max_depth=10, max_features=35)\n",
    "\n",
    "start_250 = time.time()\n",
    "rfm_250_app.fit(X_train_app, y_train_app)\n",
    "end_250 = time.time()\n",
    "\n",
    "\n",
    "print(\"Time for 10 train: \", (end_10 - start_10))\n",
    "print(\"Time for 50 train: \", (end_50 - start_50))\n",
    "print(\"Time for 100 train: \", (end_100 - start_100))\n",
    "print(\"Time for 250 train: \", (end_250 - start_250))"
   ]
  },
  {
   "cell_type": "code",
   "execution_count": 62,
   "metadata": {},
   "outputs": [
    {
     "name": "stdout",
     "output_type": "stream",
     "text": [
      "Time for 10 test:  0.17282509803771973\n",
      "Time for 50 test:  0.7444827556610107\n",
      "Time for 100 test:  1.3869998455047607\n",
      "Time for 250 test:  3.495119094848633\n"
     ]
    }
   ],
   "source": [
    "predictions_rfm_10_train_app = rfm_10_app.predict(X_train_app)\n",
    "predictions_rfm_50_train_app = rfm_50_app.predict(X_train_app)\n",
    "predictions_rfm_100_train_app = rfm_100_app.predict(X_train_app)\n",
    "predictions_rfm_250_train_app = rfm_250_app.predict(X_train_app)\n",
    "\n",
    "start_10_test = time.time()\n",
    "predictions_rfm_10_test_app = rfm_10_app.predict(X_test_app)\n",
    "end_10_test = time.time()\n",
    "\n",
    "start_50_test = time.time()\n",
    "predictions_rfm_50_test_app = rfm_50_app.predict(X_test_app)\n",
    "end_50_test = time.time()\n",
    "\n",
    "start_100_test = time.time()\n",
    "predictions_rfm_100_test_app = rfm_100_app.predict(X_test_app)\n",
    "end_100_test = time.time()\n",
    "\n",
    "start_250_test = time.time()\n",
    "predictions_rfm_250_test_app = rfm_250_app.predict(X_test_app)\n",
    "end_250_test = time.time()\n",
    "\n",
    "\n",
    "print(\"Time for 10 test: \", (end_10_test - start_10_test))\n",
    "print(\"Time for 50 test: \", (end_50_test - start_50_test))\n",
    "print(\"Time for 100 test: \", (end_100_test - start_100_test))\n",
    "print(\"Time for 250 test: \", (end_250_test - start_250_test))"
   ]
  },
  {
   "cell_type": "code",
   "execution_count": 63,
   "metadata": {
    "scrolled": false
   },
   "outputs": [
    {
     "name": "stdout",
     "output_type": "stream",
     "text": [
      "Random Forest 10 Train Metrics \n",
      "\n",
      "Confusion Matrix for RFM 10  Model\n",
      "[[135409  69740]\n",
      " [ 64237 140912]] \n",
      "\n",
      "True Positives:  140912\n",
      "False Positives:  69740\n",
      "True Negatives:  135409\n",
      "False Negatives:  64237\n",
      "RFM 10 Train  Accuracy:  0.673464165070266\n",
      "RFM 10 Train  Error:  0.32653583492973404\n",
      "Report for RFM 10  Model\n",
      "              precision    recall  f1-score   support\n",
      "\n",
      "           0       0.68      0.66      0.67    205149\n",
      "           1       0.67      0.69      0.68    205149\n",
      "\n",
      "   micro avg       0.67      0.67      0.67    410298\n",
      "   macro avg       0.67      0.67      0.67    410298\n",
      "weighted avg       0.67      0.67      0.67    410298\n",
      "\n",
      "\n",
      "\n",
      "Random Forest 10 Test Metrics \n",
      "\n",
      "Confusion Matrix for RFM 10  Model\n",
      "[[34701 21805]\n",
      " [19417 37089]] \n",
      "\n",
      "True Positives:  37089\n",
      "False Positives:  21805\n",
      "True Negatives:  34701\n",
      "False Negatives:  19417\n",
      "RFM 10 Test  Accuracy:  0.6352422751566206\n",
      "RFM 10 Test  Error:  0.3647577248433794\n",
      "Report for RFM 10  Model\n",
      "              precision    recall  f1-score   support\n",
      "\n",
      "           0       0.64      0.61      0.63     56506\n",
      "           1       0.63      0.66      0.64     56506\n",
      "\n",
      "   micro avg       0.64      0.64      0.64    113012\n",
      "   macro avg       0.64      0.64      0.64    113012\n",
      "weighted avg       0.64      0.64      0.64    113012\n",
      "\n",
      "\n",
      "\n",
      "Random Forest 50 Train Metrics \n",
      "\n",
      "Confusion Matrix for RFM 50  Model\n",
      "[[135404  69745]\n",
      " [ 63737 141412]] \n",
      "\n",
      "True Positives:  141412\n",
      "False Positives:  69745\n",
      "True Negatives:  135404\n",
      "False Negatives:  63737\n",
      "RFM 50 Train  Accuracy:  0.674670605267391\n",
      "RFM 50 Train  Error:  0.325329394732609\n",
      "Report for RFM 50  Model\n",
      "              precision    recall  f1-score   support\n",
      "\n",
      "           0       0.68      0.66      0.67    205149\n",
      "           1       0.67      0.69      0.68    205149\n",
      "\n",
      "   micro avg       0.67      0.67      0.67    410298\n",
      "   macro avg       0.67      0.67      0.67    410298\n",
      "weighted avg       0.67      0.67      0.67    410298\n",
      "\n",
      "\n",
      "\n",
      "Random Forest 50 Test Metrics \n",
      "\n",
      "Confusion Matrix for RFM 50  Model\n",
      "[[34612 21894]\n",
      " [19232 37274]] \n",
      "\n",
      "True Positives:  37274\n",
      "False Positives:  21894\n",
      "True Negatives:  34612\n",
      "False Negatives:  19232\n",
      "RFM 50 Test  Accuracy:  0.6360917424698262\n",
      "RFM 50 Test  Error:  0.36390825753017375\n",
      "Report for RFM 50  Model\n",
      "              precision    recall  f1-score   support\n",
      "\n",
      "           0       0.64      0.61      0.63     56506\n",
      "           1       0.63      0.66      0.64     56506\n",
      "\n",
      "   micro avg       0.64      0.64      0.64    113012\n",
      "   macro avg       0.64      0.64      0.64    113012\n",
      "weighted avg       0.64      0.64      0.64    113012\n",
      "\n",
      "\n",
      "\n",
      "Random Forest 100 Train Metrics \n",
      "\n",
      "Confusion Matrix for RFM 100  Model\n",
      "[[135244  69905]\n",
      " [ 63478 141671]] \n",
      "\n",
      "True Positives:  141671\n",
      "False Positives:  69905\n",
      "True Negatives:  135244\n",
      "False Negatives:  63478\n",
      "RFM 100 Train  Accuracy:  0.674911893306816\n",
      "RFM 100 Train  Error:  0.325088106693184\n",
      "Report for RFM 100  Model\n",
      "              precision    recall  f1-score   support\n",
      "\n",
      "           0       0.68      0.66      0.67    205149\n",
      "           1       0.67      0.69      0.68    205149\n",
      "\n",
      "   micro avg       0.67      0.67      0.67    410298\n",
      "   macro avg       0.68      0.67      0.67    410298\n",
      "weighted avg       0.68      0.67      0.67    410298\n",
      "\n",
      "\n",
      "\n",
      "Random Forest 100 Test Metrics \n",
      "\n",
      "Confusion Matrix for RFM 100  Model\n",
      "[[34571 21935]\n",
      " [19114 37392]] \n",
      "\n",
      "True Positives:  37392\n",
      "False Positives:  21935\n",
      "True Negatives:  34571\n",
      "False Negatives:  19114\n",
      "RFM 100 Test  Accuracy:  0.6367730860439599\n",
      "RFM 100 Test  Error:  0.3632269139560401\n",
      "Report for RFM 100  Model\n",
      "              precision    recall  f1-score   support\n",
      "\n",
      "           0       0.64      0.61      0.63     56506\n",
      "           1       0.63      0.66      0.65     56506\n",
      "\n",
      "   micro avg       0.64      0.64      0.64    113012\n",
      "   macro avg       0.64      0.64      0.64    113012\n",
      "weighted avg       0.64      0.64      0.64    113012\n",
      "\n",
      "\n",
      "\n",
      "Random Forest 250 Train Metrics \n",
      "\n",
      "Confusion Matrix for RFM 250  Model\n",
      "[[135695  69454]\n",
      " [ 63771 141378]] \n",
      "\n",
      "True Positives:  141378\n",
      "False Positives:  69454\n",
      "True Negatives:  135695\n",
      "False Negatives:  63771\n",
      "RFM 250 Train  Accuracy:  0.6752969792687267\n",
      "RFM 250 Train  Error:  0.32470302073127333\n",
      "Report for RFM 250  Model\n",
      "              precision    recall  f1-score   support\n",
      "\n",
      "           0       0.68      0.66      0.67    205149\n",
      "           1       0.67      0.69      0.68    205149\n",
      "\n",
      "   micro avg       0.68      0.68      0.68    410298\n",
      "   macro avg       0.68      0.68      0.68    410298\n",
      "weighted avg       0.68      0.68      0.68    410298\n",
      "\n",
      "\n",
      "\n",
      "Random Forest 250 Test Metrics \n",
      "\n",
      "Confusion Matrix for RFM 250  Model\n",
      "[[34708 21798]\n",
      " [19213 37293]] \n",
      "\n",
      "True Positives:  37293\n",
      "False Positives:  21798\n",
      "True Negatives:  34708\n",
      "False Negatives:  19213\n",
      "RFM 250 Test  Accuracy:  0.6371093335221039\n",
      "RFM 250 Test  Error:  0.36289066647789614\n",
      "Report for RFM 250  Model\n",
      "              precision    recall  f1-score   support\n",
      "\n",
      "           0       0.64      0.61      0.63     56506\n",
      "           1       0.63      0.66      0.65     56506\n",
      "\n",
      "   micro avg       0.64      0.64      0.64    113012\n",
      "   macro avg       0.64      0.64      0.64    113012\n",
      "weighted avg       0.64      0.64      0.64    113012\n",
      "\n"
     ]
    }
   ],
   "source": [
    "print(\"Random Forest 10 Train Metrics\", \"\\n\")\n",
    "get_metrics(\"RFM 10\", \"Train\", y_train_app, predictions_rfm_10_train_app)\n",
    "print(\"\\n\")\n",
    "print(\"Random Forest 10 Test Metrics\", \"\\n\")\n",
    "get_metrics(\"RFM 10\", \"Test\", y_test_app, predictions_rfm_10_test_app)\n",
    "print(\"\\n\")\n",
    "\n",
    "print(\"Random Forest 50 Train Metrics\", \"\\n\")\n",
    "get_metrics(\"RFM 50\", \"Train\", y_train_app, predictions_rfm_50_train_app)\n",
    "print(\"\\n\")\n",
    "print(\"Random Forest 50 Test Metrics\", \"\\n\")\n",
    "get_metrics(\"RFM 50\", \"Test\", y_test_app, predictions_rfm_50_test_app)\n",
    "print(\"\\n\")\n",
    "\n",
    "print(\"Random Forest 100 Train Metrics\", \"\\n\")\n",
    "get_metrics(\"RFM 100\", \"Train\", y_train_app, predictions_rfm_100_train_app)\n",
    "print(\"\\n\")\n",
    "print(\"Random Forest 100 Test Metrics\", \"\\n\")\n",
    "get_metrics(\"RFM 100\", \"Test\", y_test_app, predictions_rfm_100_test_app)\n",
    "print(\"\\n\")\n",
    "\n",
    "print(\"Random Forest 250 Train Metrics\", \"\\n\")\n",
    "get_metrics(\"RFM 250\", \"Train\", y_train_app, predictions_rfm_250_train_app)\n",
    "print(\"\\n\")\n",
    "print(\"Random Forest 250 Test Metrics\", \"\\n\")\n",
    "get_metrics(\"RFM 250\", \"Test\", y_test_app, predictions_rfm_250_test_app)"
   ]
  },
  {
   "cell_type": "code",
   "execution_count": 723,
   "metadata": {},
   "outputs": [
    {
     "name": "stdout",
     "output_type": "stream",
     "text": [
      "Random Forest (250) AUC  0.6264181863088442\n"
     ]
    }
   ],
   "source": [
    "fpr_rfm_app, tpr_rfm_app, _ = roc_curve(predictions_rfm_250_test_app, y_test_app)\n",
    "roc_auc_rfm_app = auc(fpr_rfm_app, tpr_rfm_app)\n",
    "print(\"Random Forest (250) AUC \",  roc_auc_rfm_app)"
   ]
  },
  {
   "cell_type": "code",
   "execution_count": 724,
   "metadata": {},
   "outputs": [
    {
     "data": {
      "image/png": "[encoded data removed]",
      "text/plain": [
       "<Figure size 432x288 with 1 Axes>"
      ]
     },
     "metadata": {
      "needs_background": "light"
     },
     "output_type": "display_data"
    }
   ],
   "source": [
    "get_roc(\"Random Forest (250)\", predictions_rfm_250_test_app, y_test_app)"
   ]
  },
  {
   "cell_type": "markdown",
   "metadata": {},
   "source": [
    "# Adaboost Model"
   ]
  },
  {
   "cell_type": "code",
   "execution_count": 129,
   "metadata": {},
   "outputs": [
    {
     "data": {
      "text/plain": [
       "AdaBoostClassifier(algorithm='SAMME.R',\n",
       "          base_estimator=DecisionTreeClassifier(class_weight=None, criterion='gini', max_depth=4,\n",
       "            max_features=None, max_leaf_nodes=None,\n",
       "            min_impurity_decrease=0.0, min_impurity_split=None,\n",
       "            min_samples_leaf=1, min_samples_split=2,\n",
       "            min_weight_fraction_leaf=0.0, presort=False, random_state=None,\n",
       "            splitter='best'),\n",
       "          learning_rate=1.0, n_estimators=100, random_state=None)"
      ]
     },
     "execution_count": 129,
     "metadata": {},
     "output_type": "execute_result"
    }
   ],
   "source": [
    "from sklearn.ensemble import AdaBoostClassifier\n",
    "from sklearn.tree import DecisionTreeClassifier\n",
    "\n",
    "bdt_10 = AdaBoostClassifier(DecisionTreeClassifier(max_depth=4),\n",
    "                         n_estimators=10)\n",
    "bdt_10.fit(X_train, y_train)\n",
    "\n",
    "bdt_50 = AdaBoostClassifier(DecisionTreeClassifier(max_depth=4),\n",
    "                         n_estimators=50)\n",
    "bdt_50.fit(X_train, y_train)\n",
    "\n",
    "bdt_100 = AdaBoostClassifier(DecisionTreeClassifier(max_depth=4),\n",
    "                         n_estimators=100)\n",
    "bdt_100.fit(X_train, y_train)"
   ]
  },
  {
   "cell_type": "code",
   "execution_count": 130,
   "metadata": {},
   "outputs": [],
   "source": [
    "predictions_bdt_10_train = bdt_10.predict(X_train)\n",
    "predictions_bdt_10_test = bdt_10.predict(X_test)\n",
    "predictions_bdt_50_train = bdt_50.predict(X_train)\n",
    "predictions_bdt_50_test = bdt_50.predict(X_test)\n",
    "predictions_bdt_100_train = bdt_100.predict(X_train)\n",
    "predictions_bdt_100_test = bdt_100.predict(X_test)"
   ]
  },
  {
   "cell_type": "code",
   "execution_count": 131,
   "metadata": {
    "scrolled": false
   },
   "outputs": [
    {
     "name": "stdout",
     "output_type": "stream",
     "text": [
      "Boosted Decision Tree 10 Train Metrics \n",
      "\n",
      "Confusion Matrix for BDT 10  Model\n",
      "[[197097   8052]\n",
      " [ 15775 189374]] \n",
      "\n",
      "True Positives:  189374\n",
      "False Positives:  8052\n",
      "True Negatives:  197097\n",
      "False Negatives:  15775\n",
      "BDT 10 Train  Accuracy:  0.9419275745921257\n",
      "BDT 10 Train  Error:  0.05807242540787427\n",
      "Report for BDT 10  Model\n",
      "              precision    recall  f1-score   support\n",
      "\n",
      "           0       0.93      0.96      0.94    205149\n",
      "           1       0.96      0.92      0.94    205149\n",
      "\n",
      "   micro avg       0.94      0.94      0.94    410298\n",
      "   macro avg       0.94      0.94      0.94    410298\n",
      "weighted avg       0.94      0.94      0.94    410298\n",
      "\n",
      "Boosted Decision Tree 10 Test Metrics \n",
      "\n",
      "Confusion Matrix for BDT 10  Model\n",
      "[[56046   460]\n",
      " [ 1272 55234]] \n",
      "\n",
      "True Positives:  55234\n",
      "False Positives:  460\n",
      "True Negatives:  56046\n",
      "False Negatives:  1272\n",
      "BDT 10 Test  Accuracy:  0.9846741938909143\n",
      "BDT 10 Test  Error:  0.015325806109085738\n",
      "Report for BDT 10  Model\n",
      "              precision    recall  f1-score   support\n",
      "\n",
      "           0       0.98      0.99      0.98     56506\n",
      "           1       0.99      0.98      0.98     56506\n",
      "\n",
      "   micro avg       0.98      0.98      0.98    113012\n",
      "   macro avg       0.98      0.98      0.98    113012\n",
      "weighted avg       0.98      0.98      0.98    113012\n",
      "\n",
      "\n",
      "\n",
      "Boosted Decision Tree 50 Train Metrics \n",
      "\n",
      "Confusion Matrix for BDT 50  Model\n",
      "[[199720   5429]\n",
      " [ 13262 191887]] \n",
      "\n",
      "True Positives:  191887\n",
      "False Positives:  5429\n",
      "True Negatives:  199720\n",
      "False Negatives:  13262\n",
      "BDT 50 Train  Accuracy:  0.954445305607144\n",
      "BDT 50 Train  Error:  0.04555469439285598\n",
      "Report for BDT 50  Model\n",
      "              precision    recall  f1-score   support\n",
      "\n",
      "           0       0.94      0.97      0.96    205149\n",
      "           1       0.97      0.94      0.95    205149\n",
      "\n",
      "   micro avg       0.95      0.95      0.95    410298\n",
      "   macro avg       0.96      0.95      0.95    410298\n",
      "weighted avg       0.96      0.95      0.95    410298\n",
      "\n",
      "Boosted Decision Tree 50 Test Metrics \n",
      "\n",
      "Confusion Matrix for BDT 50  Model\n",
      "[[55673   833]\n",
      " [  946 55560]] \n",
      "\n",
      "True Positives:  55560\n",
      "False Positives:  833\n",
      "True Negatives:  55673\n",
      "False Negatives:  946\n",
      "BDT 50 Test  Accuracy:  0.9842583088521573\n",
      "BDT 50 Test  Error:  0.01574169114784274\n",
      "Report for BDT 50  Model\n",
      "              precision    recall  f1-score   support\n",
      "\n",
      "           0       0.98      0.99      0.98     56506\n",
      "           1       0.99      0.98      0.98     56506\n",
      "\n",
      "   micro avg       0.98      0.98      0.98    113012\n",
      "   macro avg       0.98      0.98      0.98    113012\n",
      "weighted avg       0.98      0.98      0.98    113012\n",
      "\n",
      "\n",
      "\n",
      "Boosted Decision Tree 100 Train Metrics \n",
      "\n",
      "Confusion Matrix for BDT 100  Model\n",
      "[[200192   4957]\n",
      " [ 12486 192663]] \n",
      "\n",
      "True Positives:  192663\n",
      "False Positives:  4957\n",
      "True Negatives:  200192\n",
      "False Negatives:  12486\n",
      "BDT 100 Train  Accuracy:  0.9574869972556532\n",
      "BDT 100 Train  Error:  0.04251300274434677\n",
      "Report for BDT 100  Model\n",
      "              precision    recall  f1-score   support\n",
      "\n",
      "           0       0.94      0.98      0.96    205149\n",
      "           1       0.97      0.94      0.96    205149\n",
      "\n",
      "   micro avg       0.96      0.96      0.96    410298\n",
      "   macro avg       0.96      0.96      0.96    410298\n",
      "weighted avg       0.96      0.96      0.96    410298\n",
      "\n",
      "Boosted Decision Tree 100 Test Metrics \n",
      "\n",
      "Confusion Matrix for BDT 100  Model\n",
      "[[56133   373]\n",
      " [  953 55553]] \n",
      "\n",
      "True Positives:  55553\n",
      "False Positives:  373\n",
      "True Negatives:  56133\n",
      "False Negatives:  953\n",
      "BDT 100 Test  Accuracy:  0.9882667327363466\n",
      "BDT 100 Test  Error:  0.011733267263653424\n",
      "Report for BDT 100  Model\n",
      "              precision    recall  f1-score   support\n",
      "\n",
      "           0       0.98      0.99      0.99     56506\n",
      "           1       0.99      0.98      0.99     56506\n",
      "\n",
      "   micro avg       0.99      0.99      0.99    113012\n",
      "   macro avg       0.99      0.99      0.99    113012\n",
      "weighted avg       0.99      0.99      0.99    113012\n",
      "\n"
     ]
    }
   ],
   "source": [
    "print(\"Boosted Decision Tree 10 Train Metrics\", \"\\n\")\n",
    "get_metrics(\"BDT 10\", \"Train\", y_train, predictions_bdt_10_train)\n",
    "print(\"Boosted Decision Tree 10 Test Metrics\", \"\\n\")\n",
    "get_metrics(\"BDT 10\", \"Test\", y_test, predictions_bdt_10_test)\n",
    "print(\"\\n\")\n",
    "\n",
    "print(\"Boosted Decision Tree 50 Train Metrics\", \"\\n\")\n",
    "get_metrics(\"BDT 50\", \"Train\", y_train, predictions_bdt_50_train)\n",
    "print(\"Boosted Decision Tree 50 Test Metrics\", \"\\n\")\n",
    "get_metrics(\"BDT 50\", \"Test\", y_test, predictions_bdt_50_test)\n",
    "print(\"\\n\")\n",
    "\n",
    "print(\"Boosted Decision Tree 100 Train Metrics\", \"\\n\")\n",
    "get_metrics(\"BDT 100\", \"Train\", y_train, predictions_bdt_100_train)\n",
    "print(\"Boosted Decision Tree 100 Test Metrics\", \"\\n\")\n",
    "get_metrics(\"BDT 100\", \"Test\", y_test, predictions_bdt_100_test)"
   ]
  },
  {
   "cell_type": "code",
   "execution_count": 137,
   "metadata": {},
   "outputs": [
    {
     "name": "stdout",
     "output_type": "stream",
     "text": [
      "Random Forest (250) AUC  0.9883181808849417\n"
     ]
    }
   ],
   "source": [
    "fpr_bst, tpr_bst, _ = roc_curve(predictions_bdt_100_test, y_test)\n",
    "roc_auc_bst = auc(fpr_bst, tpr_bst)\n",
    "print(\"Adaboose (100# Adaboost Model\n",
    "\n",
    "from sklearn.ensemble import AdaBoostClassifier\n",
    "from sklearn.tree import DecisionTreeClassifier\n",
    "\n",
    "bdt_10 = AdaBoostClassifier(DecisionTreeClassifier(max_depth=4),\n",
    "                         n_estimators=10)\n",
    "bdt_10.fit(X_train, y_train)\n",
    "\n",
    "bdt_50 = AdaBoostClassifier(DecisionTreeClassifier(max_depth=4),\n",
    "                         n_estimators=50)\n",
    "bdt_50.fit(X_train, y_train)\n",
    "\n",
    "bdt_100 = AdaBoostClassifier(DecisionTreeClassifier(max_depth=4),\n",
    "                         n_estimators=100)\n",
    "bdt_100.fit(X_train, y_train)\n",
    "\n",
    "predictions_bdt_10_train = bdt_10.predict(X_train)\n",
    "predictions_bdt_10_test = bdt_10.predict(X_test)\n",
    "predictions_bdt_50_train = bdt_50.predict(X_train)\n",
    "predictions_bdt_50_test = bdt_50.predict(X_test)\n",
    "predictions_bdt_100_train = bdt_100.predict(X_train)\n",
    "predictions_bdt_100_test = bdt_100.predict(X_test)\n",
    "\n",
    "print(\"Boosted Decision Tree 10 Train Metrics\", \"\\n\")\n",
    "get_metrics(\"BDT 10\", \"Train\", y_train, predictions_bdt_10_train)\n",
    "print(\"Boosted Decision Tree 10 Test Metrics\", \"\\n\")\n",
    "get_metrics(\"BDT 10\", \"Test\", y_test, predictions_bdt_10_test)\n",
    "print(\"\\n\")\n",
    "\n",
    "print(\"Boosted Decision Tree 50 Train Metrics\", \"\\n\")\n",
    "get_metrics(\"BDT 50\", \"Train\", y_train, predictions_bdt_50_train)\n",
    "print(\"Boosted Decision Tree 50 Test Metrics\", \"\\n\")\n",
    "get_metrics(\"BDT 50\", \"Test\", y_test, predictions_bdt_50_test)\n",
    "print(\"\\n\")\n",
    "\n",
    "print(\"Boosted Decision Tree 100 Train Metrics\", \"\\n\")\n",
    "get_metrics(\"BDT 100\", \"Train\", y_train, predictions_bdt_100_train)\n",
    "print(\"Boosted Decision Tree 100 Test Metrics\", \"\\n\")\n",
    "get_metrics(\"BDT 100\", \"Test\", y_test, predictions_bdt_100_test)\n",
    "\n",
    "fpr_bst, tpr_bst, _ = roc_curve(predictions_bdt_100_test, y_test)\n",
    "roc_auc_bst = auc(fpr_bst, tpr_bst)\n",
    "print(\"Adaboose (100) AUC \",  roc_auc_bst)) AUC \",  roc_auc_bst)"
   ]
  },
  {
   "cell_type": "markdown",
   "metadata": {},
   "source": [
    "# Adaboost Model Before Acceptance"
   ]
  },
  {
   "cell_type": "code",
   "execution_count": 83,
   "metadata": {},
   "outputs": [
    {
     "name": "stdout",
     "output_type": "stream",
     "text": [
      "Time for 10 train:  61.18309807777405\n",
      "Time for 50 train:  288.97381591796875\n",
      "Time for 100 trian:  583.9286870956421\n"
     ]
    }
   ],
   "source": [
    "from sklearn.ensemble import AdaBoostClassifier\n",
    "from sklearn.tree import DecisionTreeClassifier\n",
    "\n",
    "bdt_10_app = AdaBoostClassifier(DecisionTreeClassifier(max_depth=10, max_features=35),\n",
    "                         n_estimators=10)\n",
    "\n",
    "start_10_bdt = time.time()\n",
    "bdt_10_app.fit(X_train_app, y_train_app)\n",
    "end_10_bdt = time.time()\n",
    "\n",
    "bdt_50_app = AdaBoostClassifier(DecisionTreeClassifier(max_depth=10, max_features=35),\n",
    "                         n_estimators=50)\n",
    "\n",
    "start_50_bdt = time.time()\n",
    "bdt_50_app.fit(X_train_app, y_train_app)\n",
    "end_50_bdt = time.time()\n",
    "\n",
    "bdt_100_app = AdaBoostClassifier(DecisionTreeClassifier(max_depth=10, max_features=35),\n",
    "                         n_estimators=100)\n",
    "\n",
    "start_100_bdt = time.time()\n",
    "bdt_100_app.fit(X_train_app, y_train_app)\n",
    "end_100_bdt = time.time()\n",
    "\n",
    "print(\"Time for 10 train: \", (end_10_bdt - start_10_bdt))\n",
    "print(\"Time for 50 train: \", (end_50_bdt - start_50_bdt))\n",
    "print(\"Time for 100 trian: \", (end_100_bdt - start_100_bdt))"
   ]
  },
  {
   "cell_type": "code",
   "execution_count": 84,
   "metadata": {},
   "outputs": [
    {
     "name": "stdout",
     "output_type": "stream",
     "text": [
      "Time for 10 test:  0.1865549087524414\n",
      "Time for 50 test:  0.6868469715118408\n",
      "Time for 100 test:  1.4019739627838135\n"
     ]
    }
   ],
   "source": [
    "predictions_bdt_10_train_app = bdt_10_app.predict(X_train_app)\n",
    "\n",
    "start_10_bdt_test = time.time()\n",
    "predictions_bdt_10_test_app = bdt_10_app.predict(X_test_app)\n",
    "end_10_bdt_test = time.time()\n",
    "\n",
    "predictions_bdt_50_train_app = bdt_50_app.predict(X_train_app)\n",
    "\n",
    "start_50_bdt_test = time.time()\n",
    "predictions_bdt_50_test_app = bdt_50_app.predict(X_test_app)\n",
    "end_50_bdt_test = time.time()\n",
    "\n",
    "predictions_bdt_100_train_app = bdt_100_app.predict(X_train_app)\n",
    "\n",
    "start_100_bdt_test = time.time()\n",
    "predictions_bdt_100_test_app = bdt_100_app.predict(X_test_app)\n",
    "end_100_bdt_test = time.time()\n",
    "\n",
    "print(\"Time for 10 test: \", (end_10_bdt_test - start_10_bdt_test))\n",
    "print(\"Time for 50 test: \", (end_50_bdt_test - start_50_bdt_test))\n",
    "print(\"Time for 100 test: \", (end_100_bdt_test - start_100_bdt_test))"
   ]
  },
  {
   "cell_type": "code",
   "execution_count": 85,
   "metadata": {
    "scrolled": true
   },
   "outputs": [
    {
     "name": "stdout",
     "output_type": "stream",
     "text": [
      "Boosted Decision Tree 10 Train Metrics \n",
      "\n",
      "Confusion Matrix for BDT 10  Model\n",
      "[[142346  62803]\n",
      " [ 60242 144907]] \n",
      "\n",
      "True Positives:  144907\n",
      "False Positives:  62803\n",
      "True Negatives:  142346\n",
      "False Negatives:  60242\n",
      "BDT 10 Train  Accuracy:  0.7001082140298027\n",
      "BDT 10 Train  Error:  0.2998917859701973\n",
      "Report for BDT 10  Model\n",
      "              precision    recall  f1-score   support\n",
      "\n",
      "           0       0.70      0.69      0.70    205149\n",
      "           1       0.70      0.71      0.70    205149\n",
      "\n",
      "   micro avg       0.70      0.70      0.70    410298\n",
      "   macro avg       0.70      0.70      0.70    410298\n",
      "weighted avg       0.70      0.70      0.70    410298\n",
      "\n",
      "Boosted Decision Tree 10 Test Metrics \n",
      "\n",
      "Confusion Matrix for BDT 10  Model\n",
      "[[33560 22946]\n",
      " [19475 37031]] \n",
      "\n",
      "True Positives:  37031\n",
      "False Positives:  22946\n",
      "True Negatives:  33560\n",
      "False Negatives:  19475\n",
      "BDT 10 Test  Accuracy:  0.6246327823593955\n",
      "BDT 10 Test  Error:  0.37536721764060454\n",
      "Report for BDT 10  Model\n",
      "              precision    recall  f1-score   support\n",
      "\n",
      "           0       0.63      0.59      0.61     56506\n",
      "           1       0.62      0.66      0.64     56506\n",
      "\n",
      "   micro avg       0.62      0.62      0.62    113012\n",
      "   macro avg       0.63      0.62      0.62    113012\n",
      "weighted avg       0.63      0.62      0.62    113012\n",
      "\n",
      "\n",
      "\n",
      "Boosted Decision Tree 50 Train Metrics \n",
      "\n",
      "Confusion Matrix for BDT 50  Model\n",
      "[[156739  48410]\n",
      " [ 47380 157769]] \n",
      "\n",
      "True Positives:  157769\n",
      "False Positives:  48410\n",
      "True Negatives:  156739\n",
      "False Negatives:  47380\n",
      "BDT 50 Train  Accuracy:  0.7665355424593832\n",
      "BDT 50 Train  Error:  0.23346445754061684\n",
      "Report for BDT 50  Model\n",
      "              precision    recall  f1-score   support\n",
      "\n",
      "           0       0.77      0.76      0.77    205149\n",
      "           1       0.77      0.77      0.77    205149\n",
      "\n",
      "   micro avg       0.77      0.77      0.77    410298\n",
      "   macro avg       0.77      0.77      0.77    410298\n",
      "weighted avg       0.77      0.77      0.77    410298\n",
      "\n",
      "Boosted Decision Tree 50 Test Metrics \n",
      "\n",
      "Confusion Matrix for BDT 50  Model\n",
      "[[33707 22799]\n",
      " [22417 34089]] \n",
      "\n",
      "True Positives:  34089\n",
      "False Positives:  22799\n",
      "True Negatives:  33707\n",
      "False Negatives:  22417\n",
      "BDT 50 Test  Accuracy:  0.599900895480126\n",
      "BDT 50 Test  Error:  0.40009910451987396\n",
      "Report for BDT 50  Model\n",
      "              precision    recall  f1-score   support\n",
      "\n",
      "           0       0.60      0.60      0.60     56506\n",
      "           1       0.60      0.60      0.60     56506\n",
      "\n",
      "   micro avg       0.60      0.60      0.60    113012\n",
      "   macro avg       0.60      0.60      0.60    113012\n",
      "weighted avg       0.60      0.60      0.60    113012\n",
      "\n",
      "\n",
      "\n",
      "Boosted Decision Tree 100 Train Metrics \n",
      "\n",
      "Confusion Matrix for BDT 100  Model\n",
      "[[170866  34283]\n",
      " [ 34033 171116]] \n",
      "\n",
      "True Positives:  171116\n",
      "False Positives:  34283\n",
      "True Negatives:  170866\n",
      "False Negatives:  34033\n",
      "BDT 100 Train  Accuracy:  0.8334966292792069\n",
      "BDT 100 Train  Error:  0.16650337072079313\n",
      "Report for BDT 100  Model\n",
      "              precision    recall  f1-score   support\n",
      "\n",
      "           0       0.83      0.83      0.83    205149\n",
      "           1       0.83      0.83      0.83    205149\n",
      "\n",
      "   micro avg       0.83      0.83      0.83    410298\n",
      "   macro avg       0.83      0.83      0.83    410298\n",
      "weighted avg       0.83      0.83      0.83    410298\n",
      "\n",
      "Boosted Decision Tree 100 Test Metrics \n",
      "\n",
      "Confusion Matrix for BDT 100  Model\n",
      "[[30910 25596]\n",
      " [21567 34939]] \n",
      "\n",
      "True Positives:  34939\n",
      "False Positives:  25596\n",
      "True Negatives:  30910\n",
      "False Negatives:  21567\n",
      "BDT 100 Test  Accuracy:  0.5826726365341733\n",
      "BDT 100 Test  Error:  0.41732736346582666\n",
      "Report for BDT 100  Model\n",
      "              precision    recall  f1-score   support\n",
      "\n",
      "           0       0.59      0.55      0.57     56506\n",
      "           1       0.58      0.62      0.60     56506\n",
      "\n",
      "   micro avg       0.58      0.58      0.58    113012\n",
      "   macro avg       0.58      0.58      0.58    113012\n",
      "weighted avg       0.58      0.58      0.58    113012\n",
      "\n"
     ]
    }
   ],
   "source": [
    "print(\"Boosted Decision Tree 10 Train Metrics\", \"\\n\")\n",
    "get_metrics(\"BDT 10\", \"Train\", y_train_app, predictions_bdt_10_train_app)\n",
    "print(\"Boosted Decision Tree 10 Test Metrics\", \"\\n\")\n",
    "get_metrics(\"BDT 10\", \"Test\", y_test_app, predictions_bdt_10_test_app)\n",
    "print(\"\\n\")\n",
    "\n",
    "print(\"Boosted Decision Tree 50 Train Metrics\", \"\\n\")\n",
    "get_metrics(\"BDT 50\", \"Train\", y_train_app, predictions_bdt_50_train_app)\n",
    "print(\"Boosted Decision Tree 50 Test Metrics\", \"\\n\")\n",
    "get_metrics(\"BDT 50\", \"Test\", y_test_app, predictions_bdt_50_test_app)\n",
    "print(\"\\n\")\n",
    "\n",
    "print(\"Boosted Decision Tree 100 Train Metrics\", \"\\n\")\n",
    "get_metrics(\"BDT 100\", \"Train\", y_train_app, predictions_bdt_100_train_app)\n",
    "print(\"Boosted Decision Tree 100 Test Metrics\", \"\\n\")\n",
    "get_metrics(\"BDT 100\", \"Test\", y_test_app, predictions_bdt_100_test_app)"
   ]
  },
  {
   "cell_type": "code",
   "execution_count": 95,
   "metadata": {},
   "outputs": [
    {
     "name": "stdout",
     "output_type": "stream",
     "text": [
      "Adaboost (10) AUC  0.6251048391025616\n"
     ]
    }
   ],
   "source": [
    "fpr_bst_app, tpr_bst_app, _ = roc_curve(predictions_bdt_10_test_app, y_test_app)\n",
    "roc_auc_bst_app = auc(fpr_bst_app, tpr_bst_app)\n",
    "print(\"Adaboost (10) AUC \",  roc_auc_bst_app)"
   ]
  },
  {
   "cell_type": "code",
   "execution_count": 94,
   "metadata": {},
   "outputs": [
    {
     "data": {
      "image/png": "[encoded data removed]",
      "text/plain": [
       "<Figure size 432x288 with 1 Axes>"
      ]
     },
     "metadata": {
      "needs_background": "light"
     },
     "output_type": "display_data"
    }
   ],
   "source": [
    "get_roc(\"Adaboost (10)\", predictions_bdt_10_test_app, y_test_app)"
   ]
  },
  {
   "cell_type": "markdown",
   "metadata": {},
   "source": [
    "# Neural Network Model"
   ]
  },
  {
   "cell_type": "code",
   "execution_count": 70,
   "metadata": {},
   "outputs": [
    {
     "name": "stderr",
     "output_type": "stream",
     "text": [
      "Using TensorFlow backend.\n"
     ]
    }
   ],
   "source": [
    "import numpy as np\n",
    "import keras\n",
    "import keras.backend as K\n",
    "from keras.layers import Input, Dense, Activation, ReLU, BatchNormalization, Dropout\n",
    "from keras.models import Sequential\n",
    "from keras.optimizers import Adam\n",
    "from sklearn.model_selection import train_test_split\n",
    "import matplotlib.pyplot as plt\n",
    "%matplotlib inline"
   ]
  },
  {
   "cell_type": "code",
   "execution_count": 71,
   "metadata": {},
   "outputs": [],
   "source": [
    "def plot(models, labels, feature):\n",
    "    if (feature == \"loss\"):\n",
    "        for i, model in enumerate(models):\n",
    "            loss_values = model.history['loss']\n",
    "            epochs = range(1, len(loss_values)+1)\n",
    "\n",
    "            plt.plot(epochs, loss_values, label=labels[i])\n",
    "            plt.xlabel('Epochs')\n",
    "            plt.ylabel('Loss')\n",
    "            plt.legend()\n",
    "\n",
    "            plt.show()\n",
    "    \n",
    "    if (feature == \"accuracy\"):\n",
    "        for i, model in enumerate(models):\n",
    "            loss_values = model.history['acc']\n",
    "            epochs = range(1, len(loss_values)+1)\n",
    "\n",
    "            plt.plot(epochs, loss_values, label=labels[i])\n",
    "            plt.xlabel('Epochs')\n",
    "            plt.ylabel('Accuracy')\n",
    "            plt.legend()\n",
    "\n",
    "    plt.show()"
   ]
  },
  {
   "cell_type": "code",
   "execution_count": 124,
   "metadata": {
    "scrolled": true
   },
   "outputs": [
    {
     "name": "stdout",
     "output_type": "stream",
     "text": [
      "WARNING:tensorflow:From /anaconda3/lib/python3.7/site-packages/tensorflow/python/framework/op_def_library.py:263: colocate_with (from tensorflow.python.framework.ops) is deprecated and will be removed in a future version.\n",
      "Instructions for updating:\n",
      "Colocations handled automatically by placer.\n"
     ]
    }
   ],
   "source": [
    "model = Sequential()\n",
    "\n",
    "model.add(Dense(64, input_dim = len(X_train.columns), activation = \"relu\", name=\"input\"))\n",
    "model.add(Dense(32, activation = \"relu\", name=\"hidden\"))\n",
    "model.add(Dense(2, activation = \"sigmoid\", name=\"classification\"))"
   ]
  },
  {
   "cell_type": "code",
   "execution_count": 125,
   "metadata": {},
   "outputs": [],
   "source": [
    "model.compile(loss='binary_crossentropy', optimizer='sgd', metrics=['accuracy'])"
   ]
  },
  {
   "cell_type": "code",
   "execution_count": 126,
   "metadata": {},
   "outputs": [],
   "source": [
    "from keras.utils import np_utils\n",
    "y_train_nn = np_utils.to_categorical(y_train, 2)\n",
    "y_test_nn = np_utils.to_categorical(y_test, 2)"
   ]
  },
  {
   "cell_type": "code",
   "execution_count": 127,
   "metadata": {
    "scrolled": true
   },
   "outputs": [
    {
     "name": "stdout",
     "output_type": "stream",
     "text": [
      "WARNING:tensorflow:From /anaconda3/lib/python3.7/site-packages/tensorflow/python/ops/math_ops.py:3066: to_int32 (from tensorflow.python.ops.math_ops) is deprecated and will be removed in a future version.\n",
      "Instructions for updating:\n",
      "Use tf.cast instead.\n",
      "Epoch 1/35\n",
      "410298/410298 [==============================] - 7s 17us/step - loss: 0.5248 - acc: 0.7354\n",
      "Epoch 2/35\n",
      "410298/410298 [==============================] - 8s 18us/step - loss: 0.2247 - acc: 0.9257\n",
      "Epoch 3/35\n",
      "410298/410298 [==============================] - 8s 18us/step - loss: 0.1849 - acc: 0.9384\n",
      "Epoch 4/35\n",
      "410298/410298 [==============================] - 7s 16us/step - loss: 0.1663 - acc: 0.9426\n",
      "Epoch 5/35\n",
      "410298/410298 [==============================] - 7s 18us/step - loss: 0.1562 - acc: 0.9454\n",
      "Epoch 6/35\n",
      "410298/410298 [==============================] - 7s 16us/step - loss: 0.1500 - acc: 0.9468\n",
      "Epoch 7/35\n",
      "410298/410298 [==============================] - 7s 17us/step - loss: 0.1450 - acc: 0.9476\n",
      "Epoch 8/35\n",
      "410298/410298 [==============================] - 7s 17us/step - loss: 0.1417 - acc: 0.9483\n",
      "Epoch 9/35\n",
      "410298/410298 [==============================] - 7s 17us/step - loss: 0.1390 - acc: 0.9489\n",
      "Epoch 10/35\n",
      "410298/410298 [==============================] - 7s 16us/step - loss: 0.1371 - acc: 0.9491\n",
      "Epoch 11/35\n",
      "410298/410298 [==============================] - 6s 16us/step - loss: 0.1351 - acc: 0.9500\n",
      "Epoch 12/35\n",
      "410298/410298 [==============================] - 6s 15us/step - loss: 0.1337 - acc: 0.9504\n",
      "Epoch 13/35\n",
      "410298/410298 [==============================] - 7s 16us/step - loss: 0.1323 - acc: 0.9504\n",
      "Epoch 14/35\n",
      "410298/410298 [==============================] - 6s 16us/step - loss: 0.1310 - acc: 0.9512\n",
      "Epoch 15/35\n",
      "410298/410298 [==============================] - 6s 16us/step - loss: 0.1299 - acc: 0.9513\n",
      "Epoch 16/35\n",
      "410298/410298 [==============================] - 6s 14us/step - loss: 0.1286 - acc: 0.9515\n",
      "Epoch 17/35\n",
      "410298/410298 [==============================] - 6s 14us/step - loss: 0.1281 - acc: 0.9515\n",
      "Epoch 18/35\n",
      "410298/410298 [==============================] - 6s 15us/step - loss: 0.1270 - acc: 0.9521\n",
      "Epoch 19/35\n",
      "410298/410298 [==============================] - 6s 14us/step - loss: 0.1267 - acc: 0.9522\n",
      "Epoch 20/35\n",
      "410298/410298 [==============================] - 6s 14us/step - loss: 0.1257 - acc: 0.9524\n",
      "Epoch 21/35\n",
      "410298/410298 [==============================] - 6s 14us/step - loss: 0.1254 - acc: 0.9526\n",
      "Epoch 22/35\n",
      "410298/410298 [==============================] - 6s 14us/step - loss: 0.1246 - acc: 0.9529\n",
      "Epoch 23/35\n",
      "410298/410298 [==============================] - 6s 15us/step - loss: 0.1247 - acc: 0.9528\n",
      "Epoch 24/35\n",
      "410298/410298 [==============================] - 6s 14us/step - loss: 0.1238 - acc: 0.9533\n",
      "Epoch 25/35\n",
      "410298/410298 [==============================] - 6s 15us/step - loss: 0.1237 - acc: 0.9531\n",
      "Epoch 26/35\n",
      "410298/410298 [==============================] - 6s 14us/step - loss: 0.1232 - acc: 0.9532\n",
      "Epoch 27/35\n",
      "410298/410298 [==============================] - 6s 15us/step - loss: 0.1227 - acc: 0.9534\n",
      "Epoch 28/35\n",
      "410298/410298 [==============================] - 6s 14us/step - loss: 0.1228 - acc: 0.9533\n",
      "Epoch 29/35\n",
      "410298/410298 [==============================] - 6s 14us/step - loss: 0.1221 - acc: 0.9535\n",
      "Epoch 30/35\n",
      "410298/410298 [==============================] - 6s 14us/step - loss: 0.1220 - acc: 0.9538\n",
      "Epoch 31/35\n",
      "410298/410298 [==============================] - 6s 14us/step - loss: 0.1217 - acc: 0.9540\n",
      "Epoch 32/35\n",
      "410298/410298 [==============================] - 6s 14us/step - loss: 0.1212 - acc: 0.9540\n",
      "Epoch 33/35\n",
      "410298/410298 [==============================] - 6s 14us/step - loss: 0.1210 - acc: 0.9541\n",
      "Epoch 34/35\n",
      "410298/410298 [==============================] - 6s 14us/step - loss: 0.1209 - acc: 0.9541\n",
      "Epoch 35/35\n",
      "410298/410298 [==============================] - 6s 15us/step - loss: 0.1207 - acc: 0.9542\n"
     ]
    }
   ],
   "source": [
    "model_metrics = model.fit(X_train, y_train_nn, batch_size = 64, epochs=35)"
   ]
  },
  {
   "cell_type": "code",
   "execution_count": 128,
   "metadata": {},
   "outputs": [
    {
     "name": "stdout",
     "output_type": "stream",
     "text": [
      "113012/113012 [==============================] - 1s 9us/step\n"
     ]
    },
    {
     "data": {
      "text/plain": [
       "[0.029793698474754715, 0.9929520758857466]"
      ]
     },
     "execution_count": 128,
     "metadata": {},
     "output_type": "execute_result"
    }
   ],
   "source": [
    "model.evaluate(X_test, y_test_nn)"
   ]
  },
  {
   "cell_type": "code",
   "execution_count": 34,
   "metadata": {},
   "outputs": [],
   "source": [
    "model_preds = model.predict(X_test_sub)"
   ]
  },
  {
   "cell_type": "markdown",
   "metadata": {},
   "source": [
    "# Neural Network Model Before Acceptance"
   ]
  },
  {
   "cell_type": "code",
   "execution_count": 72,
   "metadata": {
    "scrolled": true
   },
   "outputs": [
    {
     "name": "stdout",
     "output_type": "stream",
     "text": [
      "WARNING:tensorflow:From /anaconda3/lib/python3.7/site-packages/tensorflow/python/framework/op_def_library.py:263: colocate_with (from tensorflow.python.framework.ops) is deprecated and will be removed in a future version.\n",
      "Instructions for updating:\n",
      "Colocations handled automatically by placer.\n"
     ]
    }
   ],
   "source": [
    "model_app = Sequential()\n",
    "\n",
    "model_app.add(Dense(45, input_dim = len(X_train_app.columns), activation = \"relu\", name=\"input\"))\n",
    "model_app.add(Dense(28, activation = \"relu\", name=\"hidden\"))\n",
    "model_app.add(Dense(2, activation = \"sigmoid\", name=\"classification\"))"
   ]
  },
  {
   "cell_type": "code",
   "execution_count": 73,
   "metadata": {},
   "outputs": [],
   "source": [
    "model_app.compile(loss='binary_crossentropy', optimizer='sgd', metrics=['accuracy'])"
   ]
  },
  {
   "cell_type": "code",
   "execution_count": 74,
   "metadata": {},
   "outputs": [],
   "source": [
    "from keras.utils import np_utils\n",
    "y_train_nn_app = np_utils.to_categorical(y_train_app, 2)\n",
    "y_test_nn_app = np_utils.to_categorical(y_test_app, 2)"
   ]
  },
  {
   "cell_type": "code",
   "execution_count": 75,
   "metadata": {
    "scrolled": true
   },
   "outputs": [
    {
     "name": "stdout",
     "output_type": "stream",
     "text": [
      "WARNING:tensorflow:From /anaconda3/lib/python3.7/site-packages/tensorflow/python/ops/math_ops.py:3066: to_int32 (from tensorflow.python.ops.math_ops) is deprecated and will be removed in a future version.\n",
      "Instructions for updating:\n",
      "Use tf.cast instead.\n",
      "Epoch 1/35\n",
      "410298/410298 [==============================] - 11s 26us/step - loss: 0.6265 - acc: 0.6477\n",
      "Epoch 2/35\n",
      "410298/410298 [==============================] - 10s 25us/step - loss: 0.6161 - acc: 0.6580\n",
      "Epoch 3/35\n",
      "410298/410298 [==============================] - 10s 25us/step - loss: 0.6143 - acc: 0.6592\n",
      "Epoch 4/35\n",
      "410298/410298 [==============================] - 10s 25us/step - loss: 0.6133 - acc: 0.6600\n",
      "Epoch 5/35\n",
      "410298/410298 [==============================] - 11s 26us/step - loss: 0.6125 - acc: 0.6608\n",
      "Epoch 6/35\n",
      "410298/410298 [==============================] - 14s 33us/step - loss: 0.6119 - acc: 0.6614\n",
      "Epoch 7/35\n",
      "410298/410298 [==============================] - 12s 30us/step - loss: 0.6113 - acc: 0.6618\n",
      "Epoch 8/35\n",
      "410298/410298 [==============================] - 11s 27us/step - loss: 0.6108 - acc: 0.6623\n",
      "Epoch 9/35\n",
      "410298/410298 [==============================] - 10s 25us/step - loss: 0.6105 - acc: 0.6627\n",
      "Epoch 10/35\n",
      "410298/410298 [==============================] - 10s 25us/step - loss: 0.6101 - acc: 0.6633\n",
      "Epoch 11/35\n",
      "410298/410298 [==============================] - 10s 25us/step - loss: 0.6098 - acc: 0.6638\n",
      "Epoch 12/35\n",
      "410298/410298 [==============================] - 10s 24us/step - loss: 0.6095 - acc: 0.6637\n",
      "Epoch 13/35\n",
      "410298/410298 [==============================] - 10s 23us/step - loss: 0.6092 - acc: 0.6644\n",
      "Epoch 14/35\n",
      "410298/410298 [==============================] - 10s 24us/step - loss: 0.6089 - acc: 0.6643\n",
      "Epoch 15/35\n",
      "410298/410298 [==============================] - 10s 24us/step - loss: 0.6087 - acc: 0.6646\n",
      "Epoch 16/35\n",
      "410298/410298 [==============================] - 10s 24us/step - loss: 0.6085 - acc: 0.6649\n",
      "Epoch 17/35\n",
      "410298/410298 [==============================] - 10s 24us/step - loss: 0.6082 - acc: 0.6651\n",
      "Epoch 18/35\n",
      "410298/410298 [==============================] - 10s 24us/step - loss: 0.6080 - acc: 0.6652\n",
      "Epoch 19/35\n",
      "410298/410298 [==============================] - 10s 25us/step - loss: 0.6078 - acc: 0.6653\n",
      "Epoch 20/35\n",
      "410298/410298 [==============================] - 10s 25us/step - loss: 0.6076 - acc: 0.6659\n",
      "Epoch 21/35\n",
      "410298/410298 [==============================] - 10s 25us/step - loss: 0.6074 - acc: 0.6658\n",
      "Epoch 22/35\n",
      "410298/410298 [==============================] - 11s 26us/step - loss: 0.6072 - acc: 0.6662\n",
      "Epoch 23/35\n",
      "410298/410298 [==============================] - 11s 26us/step - loss: 0.6070 - acc: 0.6662\n",
      "Epoch 24/35\n",
      "410298/410298 [==============================] - 11s 28us/step - loss: 0.6069 - acc: 0.6662\n",
      "Epoch 25/35\n",
      "410298/410298 [==============================] - 12s 28us/step - loss: 0.6067 - acc: 0.6662\n",
      "Epoch 26/35\n",
      "410298/410298 [==============================] - 11s 28us/step - loss: 0.6066 - acc: 0.6664\n",
      "Epoch 27/35\n",
      "410298/410298 [==============================] - 11s 27us/step - loss: 0.6064 - acc: 0.6670\n",
      "Epoch 28/35\n",
      "410298/410298 [==============================] - 10s 24us/step - loss: 0.6062 - acc: 0.6665\n",
      "Epoch 29/35\n",
      "410298/410298 [==============================] - 13s 33us/step - loss: 0.6061 - acc: 0.6669 0s - loss:\n",
      "Epoch 30/35\n",
      "410298/410298 [==============================] - 13s 32us/step - loss: 0.6060 - acc: 0.6672\n",
      "Epoch 31/35\n",
      "410298/410298 [==============================] - 18s 43us/step - loss: 0.6058 - acc: 0.6673\n",
      "Epoch 32/35\n",
      "410298/410298 [==============================] - 13s 32us/step - loss: 0.6056 - acc: 0.6677 1s\n",
      "Epoch 33/35\n",
      "410298/410298 [==============================] - 12s 29us/step - loss: 0.6055 - acc: 0.6675 0s - loss: 0.6056 - acc: 0.66\n",
      "Epoch 34/35\n",
      "410298/410298 [==============================] - 12s 29us/step - loss: 0.6054 - acc: 0.6677\n",
      "Epoch 35/35\n",
      "410298/410298 [==============================] - 12s 29us/step - loss: 0.6053 - acc: 0.6677\n"
     ]
    }
   ],
   "source": [
    "model_metrics_app = model_app.fit(X_train_app, y_train_nn_app, batch_size = 32, epochs=35)"
   ]
  },
  {
   "cell_type": "code",
   "execution_count": 76,
   "metadata": {},
   "outputs": [
    {
     "name": "stdout",
     "output_type": "stream",
     "text": [
      "113012/113012 [==============================] - 1s 10us/step\n"
     ]
    },
    {
     "data": {
      "text/plain": [
       "[0.6281818393137258, 0.6448695713687322]"
      ]
     },
     "execution_count": 76,
     "metadata": {},
     "output_type": "execute_result"
    }
   ],
   "source": [
    "model_app.evaluate(X_test_app, y_test_nn_app)"
   ]
  },
  {
   "cell_type": "code",
   "execution_count": 77,
   "metadata": {},
   "outputs": [],
   "source": [
    "model_preds_app = model_app.predict(X_test_app)"
   ]
  },
  {
   "cell_type": "code",
   "execution_count": 79,
   "metadata": {},
   "outputs": [
    {
     "name": "stdout",
     "output_type": "stream",
     "text": [
      "Confusion Matrix for FFNN  Model\n",
      "[[34622 21884]\n",
      " [18241 38265]] \n",
      "\n",
      "True Positives:  38265\n",
      "False Positives:  21884\n",
      "True Negatives:  34622\n",
      "False Negatives:  18241\n",
      "FFNN Test  Accuracy:  0.6449492089335646\n",
      "FFNN Test  Error:  0.35505079106643544\n",
      "Report for FFNN  Model\n",
      "              precision    recall  f1-score   support\n",
      "\n",
      "           0       0.65      0.61      0.63     56506\n",
      "           1       0.64      0.68      0.66     56506\n",
      "\n",
      "   micro avg       0.64      0.64      0.64    113012\n",
      "   macro avg       0.65      0.64      0.64    113012\n",
      "weighted avg       0.65      0.64      0.64    113012\n",
      "\n"
     ]
    }
   ],
   "source": [
    "get_metrics(\"FFNN\", \"Test\", y_test_nn_app.argmax(axis=1), model_preds_app.argmax(axis=1))"
   ]
  },
  {
   "cell_type": "code",
   "execution_count": 81,
   "metadata": {},
   "outputs": [
    {
     "data": {
      "image/png": "[encoded data removed]",
      "text/plain": [
       "<Figure size 432x288 with 1 Axes>"
      ]
     },
     "metadata": {
      "needs_background": "light"
     },
     "output_type": "display_data"
    }
   ],
   "source": [
    "get_roc(\"Feed Forward Neural Network\", model_preds_app.argmax(axis=1), y_test_nn_app.argmax(axis=1))"
   ]
  }
 ],
 "metadata": {
  "kernelspec": {
   "display_name": "Python 3",
   "language": "python",
   "name": "python3"
  },
  "language_info": {
   "codemirror_mode": {
    "name": "ipython",
    "version": 3
   },
   "file_extension": ".py",
   "mimetype": "text/x-python",
   "name": "python",
   "nbconvert_exporter": "python",
   "pygments_lexer": "ipython3",
   "version": "3.7.1"
  }
 },
 "nbformat": 4,
 "nbformat_minor": 2
}
